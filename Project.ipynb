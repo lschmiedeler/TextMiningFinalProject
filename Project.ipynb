{
 "cells": [
  {
   "cell_type": "markdown",
   "id": "7e12c3be-d970-48df-9283-f0acb4183fa0",
   "metadata": {},
   "source": [
    "# DSCI 614 Final Project\n",
    "## Lauren Schmiedeler"
   ]
  },
  {
   "cell_type": "code",
   "execution_count": 1,
   "id": "44737dea-5fab-4c46-880b-0db1425478f9",
   "metadata": {},
   "outputs": [],
   "source": [
    "import time\n",
    "\n",
    "t0 = time.time() # initial time\n",
    "\n",
    "# create a function that returns the time elapsed given an initial time\n",
    "def find_time_elapsed(t0):\n",
    "    # find the time elapsed in minutes\n",
    "    time_elapsed = (time.time() - t0) / 60\n",
    "    units = \"minutes\"\n",
    "    # convert the time elapsed to hours if time elapsed >= 1 hour\n",
    "    if time_elapsed >= 60:\n",
    "        time_elapsed = time_elapsed / 60\n",
    "        units = \"hours\"\n",
    "    # return a string that tells how much time has elapsed since the initial time\n",
    "    return \"time elapsed = \" + str(round(time_elapsed, 5)) + \" \" + units"
   ]
  },
  {
   "cell_type": "markdown",
   "id": "1bbab242-495f-4198-8e0a-4474244aef8d",
   "metadata": {},
   "source": [
    "### 1. Concatenate the following three columns into a new column of `Tweet_texts`:\n",
    "+ `Location`\n",
    "+ `TweetAt`\n",
    "+ `OriginalTweet`"
   ]
  },
  {
   "cell_type": "markdown",
   "id": "9a8580c0-f0d0-49a4-bd26-ad697b476244",
   "metadata": {},
   "source": [
    "**Create a function that**\n",
    "1. reads in the data given a path to a file,\n",
    "2. replaces the NaNs in the `Location`, `TweetAt`, and `OriginalTweet` columns with empty strings, \n",
    "3. concatenates the `Location`, `TweetAt`, and `OriginalTweet` columns into one column called `Tweet_texts`, and \n",
    "4. returns a list containing the features (`X`) and labels (`y`)."
   ]
  },
  {
   "cell_type": "code",
   "execution_count": 2,
   "id": "a04f161f-c921-4d00-99c8-60119ec24cb5",
   "metadata": {},
   "outputs": [
    {
     "name": "stdout",
     "output_type": "stream",
     "text": [
      "number of observations in the training set = 41157\n",
      "number of observations in the test set = 3798\n"
     ]
    }
   ],
   "source": [
    "import pandas as pd\n",
    "import numpy as np\n",
    "\n",
    "def replace_NaNs(df, column):\n",
    "    df[column] = np.where(pd.isna(df[column]), \"\", df[column])\n",
    "    return df\n",
    "\n",
    "def prepare_data(path):\n",
    "    df = pd.read_csv(path, encoding = \"latin1\")\n",
    "    for column in [\"Location\", \"TweetAt\", \"OriginalTweet\"]:\n",
    "        df = replace_NaNs(df, column)\n",
    "    df[\"Tweet_texts\"] = df[\"Location\"] + \" \" + df[\"TweetAt\"] + \" \" + df[\"OriginalTweet\"]\n",
    "    return [df.Tweet_texts, df.Sentiment]\n",
    "\n",
    "train = prepare_data(\"Corona_NLP_train.csv\")\n",
    "X_train, y_train = train[0], train[1]\n",
    "print(\"number of observations in the training set =\", len(X_train))\n",
    "test = prepare_data(\"Corona_NLP_test.csv\")\n",
    "X_test, y_test = test[0], test[1]\n",
    "print(\"number of observations in the test set =\", len(X_test))"
   ]
  },
  {
   "cell_type": "markdown",
   "id": "db908c04-849a-44d7-b91a-bb8813c63d65",
   "metadata": {},
   "source": [
    "Print out the first 5 training tweets."
   ]
  },
  {
   "cell_type": "code",
   "execution_count": 3,
   "id": "89c2fd98-80b7-4a96-be41-90ee30d63f1f",
   "metadata": {},
   "outputs": [
    {
     "name": "stdout",
     "output_type": "stream",
     "text": [
      "TWEET 0 : London 16-03-2020 @MeNyrbie @Phil_Gahan @Chrisitv https://t.co/iFz9FAn2Pa and https://t.co/xX6ghGFzCC and https://t.co/I2NlzdxNo8 \n",
      "\n",
      "TWEET 1 : UK 16-03-2020 advice Talk to your neighbours family to exchange phone numbers create contact list with phone numbers of neighbours schools employer chemist GP set up online shopping accounts if poss adequate supplies of regular meds but not over order \n",
      "\n",
      "TWEET 2 : Vagabonds 16-03-2020 Coronavirus Australia: Woolworths to give elderly, disabled dedicated shopping hours amid COVID-19 outbreak https://t.co/bInCA9Vp8P \n",
      "\n",
      "TWEET 3 :  16-03-2020 My food stock is not the only one which is empty...\n",
      "\n",
      "PLEASE, don't panic, THERE WILL BE ENOUGH FOOD FOR EVERYONE if you do not take more than you need. \n",
      "Stay calm, stay safe.\n",
      "\n",
      "#COVID19france #COVID_19 #COVID19 #coronavirus #confinement #Confinementotal #ConfinementGeneral https://t.co/zrlG0Z520j \n",
      "\n",
      "TWEET 4 :  16-03-2020 Me, ready to go at supermarket during the #COVID19 outbreak.\n",
      "\n",
      "Not because I'm paranoid, but because my food stock is litteraly empty. The #coronavirus is a serious thing, but please, don't panic. It causes shortage...\n",
      "\n",
      "#CoronavirusFrance #restezchezvous #StayAtHome #confinement https://t.co/usmuaLq72n \n",
      "\n"
     ]
    }
   ],
   "source": [
    "for i in range(0, 5):\n",
    "    print(\"TWEET\", i, \":\", X_train[i], \"\\n\")"
   ]
  },
  {
   "cell_type": "markdown",
   "id": "3002cecc-0394-4ab6-9ab6-1ed73060a991",
   "metadata": {},
   "source": [
    "### 2. Clean and preprocess the new column of `Tweet_texts`:\n",
    "+ 2.1 Remove the date and time in the tweets using a regular expression.\n",
    "+ 2.2 Remove the hyperlink URL in the tweets using a regular expression.\n",
    "+ 2.3 Remove the Twitter hashtags(# before a relevant keyword or phrase ) in the tweets using a regular expression.\n",
    "+ 2.4 Remove the usernames (also known as the handle –– begins with the “@” symbol) using a regular expression.\n",
    "+ 2.5 Remove all words containing at most two characters such as \"a\", \"an\", \"in\", \"on\", etc.\n",
    "+ 2.6 Remove all special characters, punctuation using a regular expression.\n",
    "+ 2.7 Remove all rows without any text left (empty text) in the column of Tweet_texts.\n",
    "+ 2.8 Perform the part of speech tagging for the texts.\n",
    "+ 2.9 Visualize the dependency parser.\n",
    "+ 2.10 Perform the named entities recognition for the texts.\n",
    "+ 2.11 Visualize the GEOLOCATION, MONEY, and QUANTITY in the texts."
   ]
  },
  {
   "cell_type": "markdown",
   "id": "c069a468-d542-49d9-9ee0-c7820d7da751",
   "metadata": {},
   "source": [
    "**Create a custom transformer using spaCy and a custom function to clean the tweets (2.1-2.6).**"
   ]
  },
  {
   "cell_type": "code",
   "execution_count": 4,
   "id": "a69ad936-6621-4376-a9b6-a5766d9ed107",
   "metadata": {},
   "outputs": [],
   "source": [
    "import re\n",
    "from sklearn.base import TransformerMixin\n",
    "\n",
    "class features(TransformerMixin):\n",
    "    def transform(self, X, **transform_params):\n",
    "        return [clean_text(text) for text in X]\n",
    "\n",
    "    def fit(self, X, y = None, **fit_params):\n",
    "        return self\n",
    "\n",
    "    def get_params(self, deep = True):\n",
    "        return {}\n",
    "\n",
    "def clean_text(text):\n",
    "    # 2.1: remove date and time in format dd-mm-yyyy\n",
    "    # 2.2: remove hyperlinks\n",
    "    # 2.3: remove hashtags\n",
    "    # 2.4: remove usernames\n",
    "    # 2.6: remove special characters\n",
    "    text = re.sub(\"(\\d{2}-\\d{2}-\\d{4})|(https://t.co/\\w+)|(#\\w+)|(@\\w+)|([^a-zA-Z0-9\\s])\", \" \", text)\n",
    "    \n",
    "    # 2.5: remove one and two letter words (use a loop to make sure all of these words are removed)\n",
    "    text = \" \" + text + \" \"\n",
    "    while len(re.findall(\"\\s[a-zA-Z]{1,2}\\s\", text)) > 0:\n",
    "        text = re.sub(\"\\s[a-zA-Z]{1,2}\\s\", \" \", text)\n",
    "    \n",
    "    # remove extra spaces and convert to lowercase\n",
    "    text = re.sub(\"\\s+\", \" \", text).strip().lower()\n",
    "    \n",
    "    return text\n",
    "\n",
    "X_train_clean = features().fit(X_train).transform(X_train)\n",
    "X_test_clean = features().fit(X_train).transform(X_test)"
   ]
  },
  {
   "cell_type": "markdown",
   "id": "62fe98c8-c312-477c-91d4-6ae5fae9a8f8",
   "metadata": {},
   "source": [
    "**Remove the rows that contain empty strings or NaNs in the `Tweet_texts` column (2.7).**"
   ]
  },
  {
   "cell_type": "code",
   "execution_count": 5,
   "id": "ba5f7098-88f7-4536-8b85-e749cb833b0a",
   "metadata": {},
   "outputs": [
    {
     "name": "stdout",
     "output_type": "stream",
     "text": [
      "number of observations in the training set after cleaning = 41142\n",
      "number of observations in the test set after cleaning = 3798\n"
     ]
    }
   ],
   "source": [
    "def remove_empty_rows(X_clean, y_clean):\n",
    "    df_clean = pd.DataFrame({\"Tweet_texts\": X_clean, \"Sentiment\": y_clean})\n",
    "    # remove rows that contain empty strings in the Tweet_texts column\n",
    "    df_clean = df_clean[df_clean.Tweet_texts != \"\"]\n",
    "    # also remove rows that contain NaNs in the Tweet_texts column\n",
    "    df_clean = df_clean[-df_clean.Tweet_texts.isna()]\n",
    "    return df_clean\n",
    "\n",
    "train_clean = remove_empty_rows(X_train_clean, y_train)\n",
    "print(\"number of observations in the training set after cleaning =\", len(train_clean))\n",
    "test_clean = remove_empty_rows(X_test_clean, y_test)\n",
    "print(\"number of observations in the test set after cleaning =\", len(test_clean))"
   ]
  },
  {
   "cell_type": "markdown",
   "id": "1a3fb94f-92af-4083-8748-b4fa16f837a4",
   "metadata": {},
   "source": [
    "Print out the first 5 cleaned training tweets."
   ]
  },
  {
   "cell_type": "code",
   "execution_count": 6,
   "id": "cbd1424b-e0ec-48fd-a0cc-094a1e3a8807",
   "metadata": {},
   "outputs": [
    {
     "name": "stdout",
     "output_type": "stream",
     "text": [
      "TWEET 0 CLEANED : london and and \n",
      "\n",
      "TWEET 1 CLEANED : advice talk your neighbours family exchange phone numbers create contact list with phone numbers neighbours schools employer chemist set online shopping accounts poss adequate supplies regular meds but not over order \n",
      "\n",
      "TWEET 2 CLEANED : vagabonds coronavirus australia woolworths give elderly disabled dedicated shopping hours amid covid 19 outbreak \n",
      "\n",
      "TWEET 3 CLEANED : food stock not the only one which empty please don panic there will enough food for everyone you not take more than you need stay calm stay safe \n",
      "\n",
      "TWEET 4 CLEANED : ready supermarket during the outbreak not because paranoid but because food stock litteraly empty the serious thing but please don panic causes shortage \n",
      "\n"
     ]
    }
   ],
   "source": [
    "for i in range(0, 5):\n",
    "    print(\"TWEET\", i, \"CLEANED :\", train_clean.Tweet_texts[i], \"\\n\")"
   ]
  },
  {
   "cell_type": "markdown",
   "id": "2c8894ad-4ca0-4b6b-99ca-c9ad80c6b20c",
   "metadata": {},
   "source": [
    "**Perform part of speech tagging, visualize the dependency parser, and perform named entity recognition (2.8-2.10).**\n",
    "\n",
    "For 2.8-2.10, consider the first 5 training tweets."
   ]
  },
  {
   "cell_type": "code",
   "execution_count": 10,
   "id": "51b8ffcc-953f-43f0-89d2-522f5d86aabb",
   "metadata": {},
   "outputs": [
    {
     "name": "stdout",
     "output_type": "stream",
     "text": [
      "TWEET: london and and\n",
      "\n",
      "PARTS OF SPEECH:\n",
      "london = PROPN\n",
      "and = CCONJ\n",
      "and = CCONJ\n",
      "\n",
      "DEPENDENCY PARSER:\n"
     ]
    },
    {
     "data": {
      "text/html": [
       "<span class=\"tex2jax_ignore\"><svg xmlns=\"http://www.w3.org/2000/svg\" xmlns:xlink=\"http://www.w3.org/1999/xlink\" xml:lang=\"en\" id=\"eb5fa3b6ef194842868c25cc832990f1-0\" class=\"displacy\" width=\"575\" height=\"312.0\" direction=\"ltr\" style=\"max-width: none; height: 312.0px; color: #000000; background: #ffffff; font-family: Arial; direction: ltr\">\n",
       "<text class=\"displacy-token\" fill=\"currentColor\" text-anchor=\"middle\" y=\"222.0\">\n",
       "    <tspan class=\"displacy-word\" fill=\"currentColor\" x=\"50\">london</tspan>\n",
       "    <tspan class=\"displacy-tag\" dy=\"2em\" fill=\"currentColor\" x=\"50\">PROPN</tspan>\n",
       "</text>\n",
       "\n",
       "<text class=\"displacy-token\" fill=\"currentColor\" text-anchor=\"middle\" y=\"222.0\">\n",
       "    <tspan class=\"displacy-word\" fill=\"currentColor\" x=\"225\">and</tspan>\n",
       "    <tspan class=\"displacy-tag\" dy=\"2em\" fill=\"currentColor\" x=\"225\">CCONJ</tspan>\n",
       "</text>\n",
       "\n",
       "<text class=\"displacy-token\" fill=\"currentColor\" text-anchor=\"middle\" y=\"222.0\">\n",
       "    <tspan class=\"displacy-word\" fill=\"currentColor\" x=\"400\">and</tspan>\n",
       "    <tspan class=\"displacy-tag\" dy=\"2em\" fill=\"currentColor\" x=\"400\">CCONJ</tspan>\n",
       "</text>\n",
       "\n",
       "<g class=\"displacy-arrow\">\n",
       "    <path class=\"displacy-arc\" id=\"arrow-eb5fa3b6ef194842868c25cc832990f1-0-0\" stroke-width=\"2px\" d=\"M70,177.0 C70,89.5 220.0,89.5 220.0,177.0\" fill=\"none\" stroke=\"currentColor\"/>\n",
       "    <text dy=\"1.25em\" style=\"font-size: 0.8em; letter-spacing: 1px\">\n",
       "        <textPath xlink:href=\"#arrow-eb5fa3b6ef194842868c25cc832990f1-0-0\" class=\"displacy-label\" startOffset=\"50%\" side=\"left\" fill=\"currentColor\" text-anchor=\"middle\">cc</textPath>\n",
       "    </text>\n",
       "    <path class=\"displacy-arrowhead\" d=\"M220.0,179.0 L228.0,167.0 212.0,167.0\" fill=\"currentColor\"/>\n",
       "</g>\n",
       "\n",
       "<g class=\"displacy-arrow\">\n",
       "    <path class=\"displacy-arc\" id=\"arrow-eb5fa3b6ef194842868c25cc832990f1-0-1\" stroke-width=\"2px\" d=\"M70,177.0 C70,2.0 400.0,2.0 400.0,177.0\" fill=\"none\" stroke=\"currentColor\"/>\n",
       "    <text dy=\"1.25em\" style=\"font-size: 0.8em; letter-spacing: 1px\">\n",
       "        <textPath xlink:href=\"#arrow-eb5fa3b6ef194842868c25cc832990f1-0-1\" class=\"displacy-label\" startOffset=\"50%\" side=\"left\" fill=\"currentColor\" text-anchor=\"middle\">cc</textPath>\n",
       "    </text>\n",
       "    <path class=\"displacy-arrowhead\" d=\"M400.0,179.0 L408.0,167.0 392.0,167.0\" fill=\"currentColor\"/>\n",
       "</g>\n",
       "</svg></span>"
      ],
      "text/plain": [
       "<IPython.core.display.HTML object>"
      ]
     },
     "metadata": {},
     "output_type": "display_data"
    },
    {
     "name": "stdout",
     "output_type": "stream",
     "text": [
      "NAMED ENTITY RECOGNITION:\n",
      "london = GPE\n",
      "\n",
      "\n",
      "\n",
      "TWEET: advice talk your neighbours family exchange phone numbers create contact list with phone numbers neighbours schools employer chemist set online shopping accounts poss adequate supplies regular meds but not over order\n",
      "\n",
      "PARTS OF SPEECH:\n",
      "advice = NOUN\n",
      "talk = VERB\n",
      "your = PRON\n",
      "neighbours = NOUN\n",
      "family = NOUN\n",
      "exchange = NOUN\n",
      "phone = NOUN\n",
      "numbers = NOUN\n",
      "create = VERB\n",
      "contact = NOUN\n",
      "list = NOUN\n",
      "with = ADP\n",
      "phone = NOUN\n",
      "numbers = NOUN\n",
      "neighbours = NOUN\n",
      "schools = NOUN\n",
      "employer = NOUN\n",
      "chemist = NOUN\n",
      "set = VERB\n",
      "online = ADJ\n",
      "shopping = NOUN\n",
      "accounts = NOUN\n",
      "poss = NOUN\n",
      "adequate = ADJ\n",
      "supplies = NOUN\n",
      "regular = ADJ\n",
      "meds = NOUN\n",
      "but = CCONJ\n",
      "not = PART\n",
      "over = ADP\n",
      "order = NOUN\n",
      "\n",
      "DEPENDENCY PARSER:\n"
     ]
    },
    {
     "data": {
      "text/html": [
       "<span class=\"tex2jax_ignore\"><svg xmlns=\"http://www.w3.org/2000/svg\" xmlns:xlink=\"http://www.w3.org/1999/xlink\" xml:lang=\"en\" id=\"4afd07d34e264a3bae95f5abaf9b6a34-0\" class=\"displacy\" width=\"5475\" height=\"837.0\" direction=\"ltr\" style=\"max-width: none; height: 837.0px; color: #000000; background: #ffffff; font-family: Arial; direction: ltr\">\n",
       "<text class=\"displacy-token\" fill=\"currentColor\" text-anchor=\"middle\" y=\"747.0\">\n",
       "    <tspan class=\"displacy-word\" fill=\"currentColor\" x=\"50\">advice</tspan>\n",
       "    <tspan class=\"displacy-tag\" dy=\"2em\" fill=\"currentColor\" x=\"50\">NOUN</tspan>\n",
       "</text>\n",
       "\n",
       "<text class=\"displacy-token\" fill=\"currentColor\" text-anchor=\"middle\" y=\"747.0\">\n",
       "    <tspan class=\"displacy-word\" fill=\"currentColor\" x=\"225\">talk</tspan>\n",
       "    <tspan class=\"displacy-tag\" dy=\"2em\" fill=\"currentColor\" x=\"225\">VERB</tspan>\n",
       "</text>\n",
       "\n",
       "<text class=\"displacy-token\" fill=\"currentColor\" text-anchor=\"middle\" y=\"747.0\">\n",
       "    <tspan class=\"displacy-word\" fill=\"currentColor\" x=\"400\">your</tspan>\n",
       "    <tspan class=\"displacy-tag\" dy=\"2em\" fill=\"currentColor\" x=\"400\">PRON</tspan>\n",
       "</text>\n",
       "\n",
       "<text class=\"displacy-token\" fill=\"currentColor\" text-anchor=\"middle\" y=\"747.0\">\n",
       "    <tspan class=\"displacy-word\" fill=\"currentColor\" x=\"575\">neighbours</tspan>\n",
       "    <tspan class=\"displacy-tag\" dy=\"2em\" fill=\"currentColor\" x=\"575\">NOUN</tspan>\n",
       "</text>\n",
       "\n",
       "<text class=\"displacy-token\" fill=\"currentColor\" text-anchor=\"middle\" y=\"747.0\">\n",
       "    <tspan class=\"displacy-word\" fill=\"currentColor\" x=\"750\">family</tspan>\n",
       "    <tspan class=\"displacy-tag\" dy=\"2em\" fill=\"currentColor\" x=\"750\">NOUN</tspan>\n",
       "</text>\n",
       "\n",
       "<text class=\"displacy-token\" fill=\"currentColor\" text-anchor=\"middle\" y=\"747.0\">\n",
       "    <tspan class=\"displacy-word\" fill=\"currentColor\" x=\"925\">exchange</tspan>\n",
       "    <tspan class=\"displacy-tag\" dy=\"2em\" fill=\"currentColor\" x=\"925\">NOUN</tspan>\n",
       "</text>\n",
       "\n",
       "<text class=\"displacy-token\" fill=\"currentColor\" text-anchor=\"middle\" y=\"747.0\">\n",
       "    <tspan class=\"displacy-word\" fill=\"currentColor\" x=\"1100\">phone</tspan>\n",
       "    <tspan class=\"displacy-tag\" dy=\"2em\" fill=\"currentColor\" x=\"1100\">NOUN</tspan>\n",
       "</text>\n",
       "\n",
       "<text class=\"displacy-token\" fill=\"currentColor\" text-anchor=\"middle\" y=\"747.0\">\n",
       "    <tspan class=\"displacy-word\" fill=\"currentColor\" x=\"1275\">numbers</tspan>\n",
       "    <tspan class=\"displacy-tag\" dy=\"2em\" fill=\"currentColor\" x=\"1275\">NOUN</tspan>\n",
       "</text>\n",
       "\n",
       "<text class=\"displacy-token\" fill=\"currentColor\" text-anchor=\"middle\" y=\"747.0\">\n",
       "    <tspan class=\"displacy-word\" fill=\"currentColor\" x=\"1450\">create</tspan>\n",
       "    <tspan class=\"displacy-tag\" dy=\"2em\" fill=\"currentColor\" x=\"1450\">VERB</tspan>\n",
       "</text>\n",
       "\n",
       "<text class=\"displacy-token\" fill=\"currentColor\" text-anchor=\"middle\" y=\"747.0\">\n",
       "    <tspan class=\"displacy-word\" fill=\"currentColor\" x=\"1625\">contact</tspan>\n",
       "    <tspan class=\"displacy-tag\" dy=\"2em\" fill=\"currentColor\" x=\"1625\">NOUN</tspan>\n",
       "</text>\n",
       "\n",
       "<text class=\"displacy-token\" fill=\"currentColor\" text-anchor=\"middle\" y=\"747.0\">\n",
       "    <tspan class=\"displacy-word\" fill=\"currentColor\" x=\"1800\">list</tspan>\n",
       "    <tspan class=\"displacy-tag\" dy=\"2em\" fill=\"currentColor\" x=\"1800\">NOUN</tspan>\n",
       "</text>\n",
       "\n",
       "<text class=\"displacy-token\" fill=\"currentColor\" text-anchor=\"middle\" y=\"747.0\">\n",
       "    <tspan class=\"displacy-word\" fill=\"currentColor\" x=\"1975\">with</tspan>\n",
       "    <tspan class=\"displacy-tag\" dy=\"2em\" fill=\"currentColor\" x=\"1975\">ADP</tspan>\n",
       "</text>\n",
       "\n",
       "<text class=\"displacy-token\" fill=\"currentColor\" text-anchor=\"middle\" y=\"747.0\">\n",
       "    <tspan class=\"displacy-word\" fill=\"currentColor\" x=\"2150\">phone</tspan>\n",
       "    <tspan class=\"displacy-tag\" dy=\"2em\" fill=\"currentColor\" x=\"2150\">NOUN</tspan>\n",
       "</text>\n",
       "\n",
       "<text class=\"displacy-token\" fill=\"currentColor\" text-anchor=\"middle\" y=\"747.0\">\n",
       "    <tspan class=\"displacy-word\" fill=\"currentColor\" x=\"2325\">numbers</tspan>\n",
       "    <tspan class=\"displacy-tag\" dy=\"2em\" fill=\"currentColor\" x=\"2325\">NOUN</tspan>\n",
       "</text>\n",
       "\n",
       "<text class=\"displacy-token\" fill=\"currentColor\" text-anchor=\"middle\" y=\"747.0\">\n",
       "    <tspan class=\"displacy-word\" fill=\"currentColor\" x=\"2500\">neighbours</tspan>\n",
       "    <tspan class=\"displacy-tag\" dy=\"2em\" fill=\"currentColor\" x=\"2500\">NOUN</tspan>\n",
       "</text>\n",
       "\n",
       "<text class=\"displacy-token\" fill=\"currentColor\" text-anchor=\"middle\" y=\"747.0\">\n",
       "    <tspan class=\"displacy-word\" fill=\"currentColor\" x=\"2675\">schools</tspan>\n",
       "    <tspan class=\"displacy-tag\" dy=\"2em\" fill=\"currentColor\" x=\"2675\">NOUN</tspan>\n",
       "</text>\n",
       "\n",
       "<text class=\"displacy-token\" fill=\"currentColor\" text-anchor=\"middle\" y=\"747.0\">\n",
       "    <tspan class=\"displacy-word\" fill=\"currentColor\" x=\"2850\">employer</tspan>\n",
       "    <tspan class=\"displacy-tag\" dy=\"2em\" fill=\"currentColor\" x=\"2850\">NOUN</tspan>\n",
       "</text>\n",
       "\n",
       "<text class=\"displacy-token\" fill=\"currentColor\" text-anchor=\"middle\" y=\"747.0\">\n",
       "    <tspan class=\"displacy-word\" fill=\"currentColor\" x=\"3025\">chemist</tspan>\n",
       "    <tspan class=\"displacy-tag\" dy=\"2em\" fill=\"currentColor\" x=\"3025\">NOUN</tspan>\n",
       "</text>\n",
       "\n",
       "<text class=\"displacy-token\" fill=\"currentColor\" text-anchor=\"middle\" y=\"747.0\">\n",
       "    <tspan class=\"displacy-word\" fill=\"currentColor\" x=\"3200\">set</tspan>\n",
       "    <tspan class=\"displacy-tag\" dy=\"2em\" fill=\"currentColor\" x=\"3200\">VERB</tspan>\n",
       "</text>\n",
       "\n",
       "<text class=\"displacy-token\" fill=\"currentColor\" text-anchor=\"middle\" y=\"747.0\">\n",
       "    <tspan class=\"displacy-word\" fill=\"currentColor\" x=\"3375\">online</tspan>\n",
       "    <tspan class=\"displacy-tag\" dy=\"2em\" fill=\"currentColor\" x=\"3375\">ADJ</tspan>\n",
       "</text>\n",
       "\n",
       "<text class=\"displacy-token\" fill=\"currentColor\" text-anchor=\"middle\" y=\"747.0\">\n",
       "    <tspan class=\"displacy-word\" fill=\"currentColor\" x=\"3550\">shopping</tspan>\n",
       "    <tspan class=\"displacy-tag\" dy=\"2em\" fill=\"currentColor\" x=\"3550\">NOUN</tspan>\n",
       "</text>\n",
       "\n",
       "<text class=\"displacy-token\" fill=\"currentColor\" text-anchor=\"middle\" y=\"747.0\">\n",
       "    <tspan class=\"displacy-word\" fill=\"currentColor\" x=\"3725\">accounts</tspan>\n",
       "    <tspan class=\"displacy-tag\" dy=\"2em\" fill=\"currentColor\" x=\"3725\">NOUN</tspan>\n",
       "</text>\n",
       "\n",
       "<text class=\"displacy-token\" fill=\"currentColor\" text-anchor=\"middle\" y=\"747.0\">\n",
       "    <tspan class=\"displacy-word\" fill=\"currentColor\" x=\"3900\">poss</tspan>\n",
       "    <tspan class=\"displacy-tag\" dy=\"2em\" fill=\"currentColor\" x=\"3900\">NOUN</tspan>\n",
       "</text>\n",
       "\n",
       "<text class=\"displacy-token\" fill=\"currentColor\" text-anchor=\"middle\" y=\"747.0\">\n",
       "    <tspan class=\"displacy-word\" fill=\"currentColor\" x=\"4075\">adequate</tspan>\n",
       "    <tspan class=\"displacy-tag\" dy=\"2em\" fill=\"currentColor\" x=\"4075\">ADJ</tspan>\n",
       "</text>\n",
       "\n",
       "<text class=\"displacy-token\" fill=\"currentColor\" text-anchor=\"middle\" y=\"747.0\">\n",
       "    <tspan class=\"displacy-word\" fill=\"currentColor\" x=\"4250\">supplies</tspan>\n",
       "    <tspan class=\"displacy-tag\" dy=\"2em\" fill=\"currentColor\" x=\"4250\">NOUN</tspan>\n",
       "</text>\n",
       "\n",
       "<text class=\"displacy-token\" fill=\"currentColor\" text-anchor=\"middle\" y=\"747.0\">\n",
       "    <tspan class=\"displacy-word\" fill=\"currentColor\" x=\"4425\">regular</tspan>\n",
       "    <tspan class=\"displacy-tag\" dy=\"2em\" fill=\"currentColor\" x=\"4425\">ADJ</tspan>\n",
       "</text>\n",
       "\n",
       "<text class=\"displacy-token\" fill=\"currentColor\" text-anchor=\"middle\" y=\"747.0\">\n",
       "    <tspan class=\"displacy-word\" fill=\"currentColor\" x=\"4600\">meds</tspan>\n",
       "    <tspan class=\"displacy-tag\" dy=\"2em\" fill=\"currentColor\" x=\"4600\">NOUN</tspan>\n",
       "</text>\n",
       "\n",
       "<text class=\"displacy-token\" fill=\"currentColor\" text-anchor=\"middle\" y=\"747.0\">\n",
       "    <tspan class=\"displacy-word\" fill=\"currentColor\" x=\"4775\">but</tspan>\n",
       "    <tspan class=\"displacy-tag\" dy=\"2em\" fill=\"currentColor\" x=\"4775\">CCONJ</tspan>\n",
       "</text>\n",
       "\n",
       "<text class=\"displacy-token\" fill=\"currentColor\" text-anchor=\"middle\" y=\"747.0\">\n",
       "    <tspan class=\"displacy-word\" fill=\"currentColor\" x=\"4950\">not</tspan>\n",
       "    <tspan class=\"displacy-tag\" dy=\"2em\" fill=\"currentColor\" x=\"4950\">PART</tspan>\n",
       "</text>\n",
       "\n",
       "<text class=\"displacy-token\" fill=\"currentColor\" text-anchor=\"middle\" y=\"747.0\">\n",
       "    <tspan class=\"displacy-word\" fill=\"currentColor\" x=\"5125\">over</tspan>\n",
       "    <tspan class=\"displacy-tag\" dy=\"2em\" fill=\"currentColor\" x=\"5125\">ADP</tspan>\n",
       "</text>\n",
       "\n",
       "<text class=\"displacy-token\" fill=\"currentColor\" text-anchor=\"middle\" y=\"747.0\">\n",
       "    <tspan class=\"displacy-word\" fill=\"currentColor\" x=\"5300\">order</tspan>\n",
       "    <tspan class=\"displacy-tag\" dy=\"2em\" fill=\"currentColor\" x=\"5300\">NOUN</tspan>\n",
       "</text>\n",
       "\n",
       "<g class=\"displacy-arrow\">\n",
       "    <path class=\"displacy-arc\" id=\"arrow-4afd07d34e264a3bae95f5abaf9b6a34-0-0\" stroke-width=\"2px\" d=\"M70,702.0 C70,614.5 190.0,614.5 190.0,702.0\" fill=\"none\" stroke=\"currentColor\"/>\n",
       "    <text dy=\"1.25em\" style=\"font-size: 0.8em; letter-spacing: 1px\">\n",
       "        <textPath xlink:href=\"#arrow-4afd07d34e264a3bae95f5abaf9b6a34-0-0\" class=\"displacy-label\" startOffset=\"50%\" side=\"left\" fill=\"currentColor\" text-anchor=\"middle\">nsubj</textPath>\n",
       "    </text>\n",
       "    <path class=\"displacy-arrowhead\" d=\"M70,704.0 L62,692.0 78,692.0\" fill=\"currentColor\"/>\n",
       "</g>\n",
       "\n",
       "<g class=\"displacy-arrow\">\n",
       "    <path class=\"displacy-arc\" id=\"arrow-4afd07d34e264a3bae95f5abaf9b6a34-0-1\" stroke-width=\"2px\" d=\"M420,702.0 C420,614.5 540.0,614.5 540.0,702.0\" fill=\"none\" stroke=\"currentColor\"/>\n",
       "    <text dy=\"1.25em\" style=\"font-size: 0.8em; letter-spacing: 1px\">\n",
       "        <textPath xlink:href=\"#arrow-4afd07d34e264a3bae95f5abaf9b6a34-0-1\" class=\"displacy-label\" startOffset=\"50%\" side=\"left\" fill=\"currentColor\" text-anchor=\"middle\">poss</textPath>\n",
       "    </text>\n",
       "    <path class=\"displacy-arrowhead\" d=\"M420,704.0 L412,692.0 428,692.0\" fill=\"currentColor\"/>\n",
       "</g>\n",
       "\n",
       "<g class=\"displacy-arrow\">\n",
       "    <path class=\"displacy-arc\" id=\"arrow-4afd07d34e264a3bae95f5abaf9b6a34-0-2\" stroke-width=\"2px\" d=\"M595,702.0 C595,352.0 1255.0,352.0 1255.0,702.0\" fill=\"none\" stroke=\"currentColor\"/>\n",
       "    <text dy=\"1.25em\" style=\"font-size: 0.8em; letter-spacing: 1px\">\n",
       "        <textPath xlink:href=\"#arrow-4afd07d34e264a3bae95f5abaf9b6a34-0-2\" class=\"displacy-label\" startOffset=\"50%\" side=\"left\" fill=\"currentColor\" text-anchor=\"middle\">compound</textPath>\n",
       "    </text>\n",
       "    <path class=\"displacy-arrowhead\" d=\"M595,704.0 L587,692.0 603,692.0\" fill=\"currentColor\"/>\n",
       "</g>\n",
       "\n",
       "<g class=\"displacy-arrow\">\n",
       "    <path class=\"displacy-arc\" id=\"arrow-4afd07d34e264a3bae95f5abaf9b6a34-0-3\" stroke-width=\"2px\" d=\"M770,702.0 C770,439.5 1250.0,439.5 1250.0,702.0\" fill=\"none\" stroke=\"currentColor\"/>\n",
       "    <text dy=\"1.25em\" style=\"font-size: 0.8em; letter-spacing: 1px\">\n",
       "        <textPath xlink:href=\"#arrow-4afd07d34e264a3bae95f5abaf9b6a34-0-3\" class=\"displacy-label\" startOffset=\"50%\" side=\"left\" fill=\"currentColor\" text-anchor=\"middle\">compound</textPath>\n",
       "    </text>\n",
       "    <path class=\"displacy-arrowhead\" d=\"M770,704.0 L762,692.0 778,692.0\" fill=\"currentColor\"/>\n",
       "</g>\n",
       "\n",
       "<g class=\"displacy-arrow\">\n",
       "    <path class=\"displacy-arc\" id=\"arrow-4afd07d34e264a3bae95f5abaf9b6a34-0-4\" stroke-width=\"2px\" d=\"M945,702.0 C945,527.0 1245.0,527.0 1245.0,702.0\" fill=\"none\" stroke=\"currentColor\"/>\n",
       "    <text dy=\"1.25em\" style=\"font-size: 0.8em; letter-spacing: 1px\">\n",
       "        <textPath xlink:href=\"#arrow-4afd07d34e264a3bae95f5abaf9b6a34-0-4\" class=\"displacy-label\" startOffset=\"50%\" side=\"left\" fill=\"currentColor\" text-anchor=\"middle\">compound</textPath>\n",
       "    </text>\n",
       "    <path class=\"displacy-arrowhead\" d=\"M945,704.0 L937,692.0 953,692.0\" fill=\"currentColor\"/>\n",
       "</g>\n",
       "\n",
       "<g class=\"displacy-arrow\">\n",
       "    <path class=\"displacy-arc\" id=\"arrow-4afd07d34e264a3bae95f5abaf9b6a34-0-5\" stroke-width=\"2px\" d=\"M1120,702.0 C1120,614.5 1240.0,614.5 1240.0,702.0\" fill=\"none\" stroke=\"currentColor\"/>\n",
       "    <text dy=\"1.25em\" style=\"font-size: 0.8em; letter-spacing: 1px\">\n",
       "        <textPath xlink:href=\"#arrow-4afd07d34e264a3bae95f5abaf9b6a34-0-5\" class=\"displacy-label\" startOffset=\"50%\" side=\"left\" fill=\"currentColor\" text-anchor=\"middle\">compound</textPath>\n",
       "    </text>\n",
       "    <path class=\"displacy-arrowhead\" d=\"M1120,704.0 L1112,692.0 1128,692.0\" fill=\"currentColor\"/>\n",
       "</g>\n",
       "\n",
       "<g class=\"displacy-arrow\">\n",
       "    <path class=\"displacy-arc\" id=\"arrow-4afd07d34e264a3bae95f5abaf9b6a34-0-6\" stroke-width=\"2px\" d=\"M1295,702.0 C1295,614.5 1415.0,614.5 1415.0,702.0\" fill=\"none\" stroke=\"currentColor\"/>\n",
       "    <text dy=\"1.25em\" style=\"font-size: 0.8em; letter-spacing: 1px\">\n",
       "        <textPath xlink:href=\"#arrow-4afd07d34e264a3bae95f5abaf9b6a34-0-6\" class=\"displacy-label\" startOffset=\"50%\" side=\"left\" fill=\"currentColor\" text-anchor=\"middle\">nsubj</textPath>\n",
       "    </text>\n",
       "    <path class=\"displacy-arrowhead\" d=\"M1295,704.0 L1287,692.0 1303,692.0\" fill=\"currentColor\"/>\n",
       "</g>\n",
       "\n",
       "<g class=\"displacy-arrow\">\n",
       "    <path class=\"displacy-arc\" id=\"arrow-4afd07d34e264a3bae95f5abaf9b6a34-0-7\" stroke-width=\"2px\" d=\"M245,702.0 C245,264.5 1435.0,264.5 1435.0,702.0\" fill=\"none\" stroke=\"currentColor\"/>\n",
       "    <text dy=\"1.25em\" style=\"font-size: 0.8em; letter-spacing: 1px\">\n",
       "        <textPath xlink:href=\"#arrow-4afd07d34e264a3bae95f5abaf9b6a34-0-7\" class=\"displacy-label\" startOffset=\"50%\" side=\"left\" fill=\"currentColor\" text-anchor=\"middle\">ccomp</textPath>\n",
       "    </text>\n",
       "    <path class=\"displacy-arrowhead\" d=\"M1435.0,704.0 L1443.0,692.0 1427.0,692.0\" fill=\"currentColor\"/>\n",
       "</g>\n",
       "\n",
       "<g class=\"displacy-arrow\">\n",
       "    <path class=\"displacy-arc\" id=\"arrow-4afd07d34e264a3bae95f5abaf9b6a34-0-8\" stroke-width=\"2px\" d=\"M1645,702.0 C1645,614.5 1765.0,614.5 1765.0,702.0\" fill=\"none\" stroke=\"currentColor\"/>\n",
       "    <text dy=\"1.25em\" style=\"font-size: 0.8em; letter-spacing: 1px\">\n",
       "        <textPath xlink:href=\"#arrow-4afd07d34e264a3bae95f5abaf9b6a34-0-8\" class=\"displacy-label\" startOffset=\"50%\" side=\"left\" fill=\"currentColor\" text-anchor=\"middle\">compound</textPath>\n",
       "    </text>\n",
       "    <path class=\"displacy-arrowhead\" d=\"M1645,704.0 L1637,692.0 1653,692.0\" fill=\"currentColor\"/>\n",
       "</g>\n",
       "\n",
       "<g class=\"displacy-arrow\">\n",
       "    <path class=\"displacy-arc\" id=\"arrow-4afd07d34e264a3bae95f5abaf9b6a34-0-9\" stroke-width=\"2px\" d=\"M1470,702.0 C1470,527.0 1770.0,527.0 1770.0,702.0\" fill=\"none\" stroke=\"currentColor\"/>\n",
       "    <text dy=\"1.25em\" style=\"font-size: 0.8em; letter-spacing: 1px\">\n",
       "        <textPath xlink:href=\"#arrow-4afd07d34e264a3bae95f5abaf9b6a34-0-9\" class=\"displacy-label\" startOffset=\"50%\" side=\"left\" fill=\"currentColor\" text-anchor=\"middle\">dobj</textPath>\n",
       "    </text>\n",
       "    <path class=\"displacy-arrowhead\" d=\"M1770.0,704.0 L1778.0,692.0 1762.0,692.0\" fill=\"currentColor\"/>\n",
       "</g>\n",
       "\n",
       "<g class=\"displacy-arrow\">\n",
       "    <path class=\"displacy-arc\" id=\"arrow-4afd07d34e264a3bae95f5abaf9b6a34-0-10\" stroke-width=\"2px\" d=\"M1470,702.0 C1470,439.5 1950.0,439.5 1950.0,702.0\" fill=\"none\" stroke=\"currentColor\"/>\n",
       "    <text dy=\"1.25em\" style=\"font-size: 0.8em; letter-spacing: 1px\">\n",
       "        <textPath xlink:href=\"#arrow-4afd07d34e264a3bae95f5abaf9b6a34-0-10\" class=\"displacy-label\" startOffset=\"50%\" side=\"left\" fill=\"currentColor\" text-anchor=\"middle\">prep</textPath>\n",
       "    </text>\n",
       "    <path class=\"displacy-arrowhead\" d=\"M1950.0,704.0 L1958.0,692.0 1942.0,692.0\" fill=\"currentColor\"/>\n",
       "</g>\n",
       "\n",
       "<g class=\"displacy-arrow\">\n",
       "    <path class=\"displacy-arc\" id=\"arrow-4afd07d34e264a3bae95f5abaf9b6a34-0-11\" stroke-width=\"2px\" d=\"M2170,702.0 C2170,614.5 2290.0,614.5 2290.0,702.0\" fill=\"none\" stroke=\"currentColor\"/>\n",
       "    <text dy=\"1.25em\" style=\"font-size: 0.8em; letter-spacing: 1px\">\n",
       "        <textPath xlink:href=\"#arrow-4afd07d34e264a3bae95f5abaf9b6a34-0-11\" class=\"displacy-label\" startOffset=\"50%\" side=\"left\" fill=\"currentColor\" text-anchor=\"middle\">compound</textPath>\n",
       "    </text>\n",
       "    <path class=\"displacy-arrowhead\" d=\"M2170,704.0 L2162,692.0 2178,692.0\" fill=\"currentColor\"/>\n",
       "</g>\n",
       "\n",
       "<g class=\"displacy-arrow\">\n",
       "    <path class=\"displacy-arc\" id=\"arrow-4afd07d34e264a3bae95f5abaf9b6a34-0-12\" stroke-width=\"2px\" d=\"M1995,702.0 C1995,527.0 2295.0,527.0 2295.0,702.0\" fill=\"none\" stroke=\"currentColor\"/>\n",
       "    <text dy=\"1.25em\" style=\"font-size: 0.8em; letter-spacing: 1px\">\n",
       "        <textPath xlink:href=\"#arrow-4afd07d34e264a3bae95f5abaf9b6a34-0-12\" class=\"displacy-label\" startOffset=\"50%\" side=\"left\" fill=\"currentColor\" text-anchor=\"middle\">pobj</textPath>\n",
       "    </text>\n",
       "    <path class=\"displacy-arrowhead\" d=\"M2295.0,704.0 L2303.0,692.0 2287.0,692.0\" fill=\"currentColor\"/>\n",
       "</g>\n",
       "\n",
       "<g class=\"displacy-arrow\">\n",
       "    <path class=\"displacy-arc\" id=\"arrow-4afd07d34e264a3bae95f5abaf9b6a34-0-13\" stroke-width=\"2px\" d=\"M245,702.0 C245,177.0 2490.0,177.0 2490.0,702.0\" fill=\"none\" stroke=\"currentColor\"/>\n",
       "    <text dy=\"1.25em\" style=\"font-size: 0.8em; letter-spacing: 1px\">\n",
       "        <textPath xlink:href=\"#arrow-4afd07d34e264a3bae95f5abaf9b6a34-0-13\" class=\"displacy-label\" startOffset=\"50%\" side=\"left\" fill=\"currentColor\" text-anchor=\"middle\">dep</textPath>\n",
       "    </text>\n",
       "    <path class=\"displacy-arrowhead\" d=\"M2490.0,704.0 L2498.0,692.0 2482.0,692.0\" fill=\"currentColor\"/>\n",
       "</g>\n",
       "\n",
       "<g class=\"displacy-arrow\">\n",
       "    <path class=\"displacy-arc\" id=\"arrow-4afd07d34e264a3bae95f5abaf9b6a34-0-14\" stroke-width=\"2px\" d=\"M2695,702.0 C2695,527.0 2995.0,527.0 2995.0,702.0\" fill=\"none\" stroke=\"currentColor\"/>\n",
       "    <text dy=\"1.25em\" style=\"font-size: 0.8em; letter-spacing: 1px\">\n",
       "        <textPath xlink:href=\"#arrow-4afd07d34e264a3bae95f5abaf9b6a34-0-14\" class=\"displacy-label\" startOffset=\"50%\" side=\"left\" fill=\"currentColor\" text-anchor=\"middle\">compound</textPath>\n",
       "    </text>\n",
       "    <path class=\"displacy-arrowhead\" d=\"M2695,704.0 L2687,692.0 2703,692.0\" fill=\"currentColor\"/>\n",
       "</g>\n",
       "\n",
       "<g class=\"displacy-arrow\">\n",
       "    <path class=\"displacy-arc\" id=\"arrow-4afd07d34e264a3bae95f5abaf9b6a34-0-15\" stroke-width=\"2px\" d=\"M2870,702.0 C2870,614.5 2990.0,614.5 2990.0,702.0\" fill=\"none\" stroke=\"currentColor\"/>\n",
       "    <text dy=\"1.25em\" style=\"font-size: 0.8em; letter-spacing: 1px\">\n",
       "        <textPath xlink:href=\"#arrow-4afd07d34e264a3bae95f5abaf9b6a34-0-15\" class=\"displacy-label\" startOffset=\"50%\" side=\"left\" fill=\"currentColor\" text-anchor=\"middle\">compound</textPath>\n",
       "    </text>\n",
       "    <path class=\"displacy-arrowhead\" d=\"M2870,704.0 L2862,692.0 2878,692.0\" fill=\"currentColor\"/>\n",
       "</g>\n",
       "\n",
       "<g class=\"displacy-arrow\">\n",
       "    <path class=\"displacy-arc\" id=\"arrow-4afd07d34e264a3bae95f5abaf9b6a34-0-16\" stroke-width=\"2px\" d=\"M3045,702.0 C3045,614.5 3165.0,614.5 3165.0,702.0\" fill=\"none\" stroke=\"currentColor\"/>\n",
       "    <text dy=\"1.25em\" style=\"font-size: 0.8em; letter-spacing: 1px\">\n",
       "        <textPath xlink:href=\"#arrow-4afd07d34e264a3bae95f5abaf9b6a34-0-16\" class=\"displacy-label\" startOffset=\"50%\" side=\"left\" fill=\"currentColor\" text-anchor=\"middle\">nsubj</textPath>\n",
       "    </text>\n",
       "    <path class=\"displacy-arrowhead\" d=\"M3045,704.0 L3037,692.0 3053,692.0\" fill=\"currentColor\"/>\n",
       "</g>\n",
       "\n",
       "<g class=\"displacy-arrow\">\n",
       "    <path class=\"displacy-arc\" id=\"arrow-4afd07d34e264a3bae95f5abaf9b6a34-0-17\" stroke-width=\"2px\" d=\"M245,702.0 C245,89.5 3195.0,89.5 3195.0,702.0\" fill=\"none\" stroke=\"currentColor\"/>\n",
       "    <text dy=\"1.25em\" style=\"font-size: 0.8em; letter-spacing: 1px\">\n",
       "        <textPath xlink:href=\"#arrow-4afd07d34e264a3bae95f5abaf9b6a34-0-17\" class=\"displacy-label\" startOffset=\"50%\" side=\"left\" fill=\"currentColor\" text-anchor=\"middle\">conj</textPath>\n",
       "    </text>\n",
       "    <path class=\"displacy-arrowhead\" d=\"M3195.0,704.0 L3203.0,692.0 3187.0,692.0\" fill=\"currentColor\"/>\n",
       "</g>\n",
       "\n",
       "<g class=\"displacy-arrow\">\n",
       "    <path class=\"displacy-arc\" id=\"arrow-4afd07d34e264a3bae95f5abaf9b6a34-0-18\" stroke-width=\"2px\" d=\"M3395,702.0 C3395,527.0 3695.0,527.0 3695.0,702.0\" fill=\"none\" stroke=\"currentColor\"/>\n",
       "    <text dy=\"1.25em\" style=\"font-size: 0.8em; letter-spacing: 1px\">\n",
       "        <textPath xlink:href=\"#arrow-4afd07d34e264a3bae95f5abaf9b6a34-0-18\" class=\"displacy-label\" startOffset=\"50%\" side=\"left\" fill=\"currentColor\" text-anchor=\"middle\">amod</textPath>\n",
       "    </text>\n",
       "    <path class=\"displacy-arrowhead\" d=\"M3395,704.0 L3387,692.0 3403,692.0\" fill=\"currentColor\"/>\n",
       "</g>\n",
       "\n",
       "<g class=\"displacy-arrow\">\n",
       "    <path class=\"displacy-arc\" id=\"arrow-4afd07d34e264a3bae95f5abaf9b6a34-0-19\" stroke-width=\"2px\" d=\"M3570,702.0 C3570,614.5 3690.0,614.5 3690.0,702.0\" fill=\"none\" stroke=\"currentColor\"/>\n",
       "    <text dy=\"1.25em\" style=\"font-size: 0.8em; letter-spacing: 1px\">\n",
       "        <textPath xlink:href=\"#arrow-4afd07d34e264a3bae95f5abaf9b6a34-0-19\" class=\"displacy-label\" startOffset=\"50%\" side=\"left\" fill=\"currentColor\" text-anchor=\"middle\">compound</textPath>\n",
       "    </text>\n",
       "    <path class=\"displacy-arrowhead\" d=\"M3570,704.0 L3562,692.0 3578,692.0\" fill=\"currentColor\"/>\n",
       "</g>\n",
       "\n",
       "<g class=\"displacy-arrow\">\n",
       "    <path class=\"displacy-arc\" id=\"arrow-4afd07d34e264a3bae95f5abaf9b6a34-0-20\" stroke-width=\"2px\" d=\"M3745,702.0 C3745,614.5 3865.0,614.5 3865.0,702.0\" fill=\"none\" stroke=\"currentColor\"/>\n",
       "    <text dy=\"1.25em\" style=\"font-size: 0.8em; letter-spacing: 1px\">\n",
       "        <textPath xlink:href=\"#arrow-4afd07d34e264a3bae95f5abaf9b6a34-0-20\" class=\"displacy-label\" startOffset=\"50%\" side=\"left\" fill=\"currentColor\" text-anchor=\"middle\">nmod</textPath>\n",
       "    </text>\n",
       "    <path class=\"displacy-arrowhead\" d=\"M3745,704.0 L3737,692.0 3753,692.0\" fill=\"currentColor\"/>\n",
       "</g>\n",
       "\n",
       "<g class=\"displacy-arrow\">\n",
       "    <path class=\"displacy-arc\" id=\"arrow-4afd07d34e264a3bae95f5abaf9b6a34-0-21\" stroke-width=\"2px\" d=\"M3920,702.0 C3920,527.0 4220.0,527.0 4220.0,702.0\" fill=\"none\" stroke=\"currentColor\"/>\n",
       "    <text dy=\"1.25em\" style=\"font-size: 0.8em; letter-spacing: 1px\">\n",
       "        <textPath xlink:href=\"#arrow-4afd07d34e264a3bae95f5abaf9b6a34-0-21\" class=\"displacy-label\" startOffset=\"50%\" side=\"left\" fill=\"currentColor\" text-anchor=\"middle\">nmod</textPath>\n",
       "    </text>\n",
       "    <path class=\"displacy-arrowhead\" d=\"M3920,704.0 L3912,692.0 3928,692.0\" fill=\"currentColor\"/>\n",
       "</g>\n",
       "\n",
       "<g class=\"displacy-arrow\">\n",
       "    <path class=\"displacy-arc\" id=\"arrow-4afd07d34e264a3bae95f5abaf9b6a34-0-22\" stroke-width=\"2px\" d=\"M4095,702.0 C4095,614.5 4215.0,614.5 4215.0,702.0\" fill=\"none\" stroke=\"currentColor\"/>\n",
       "    <text dy=\"1.25em\" style=\"font-size: 0.8em; letter-spacing: 1px\">\n",
       "        <textPath xlink:href=\"#arrow-4afd07d34e264a3bae95f5abaf9b6a34-0-22\" class=\"displacy-label\" startOffset=\"50%\" side=\"left\" fill=\"currentColor\" text-anchor=\"middle\">amod</textPath>\n",
       "    </text>\n",
       "    <path class=\"displacy-arrowhead\" d=\"M4095,704.0 L4087,692.0 4103,692.0\" fill=\"currentColor\"/>\n",
       "</g>\n",
       "\n",
       "<g class=\"displacy-arrow\">\n",
       "    <path class=\"displacy-arc\" id=\"arrow-4afd07d34e264a3bae95f5abaf9b6a34-0-23\" stroke-width=\"2px\" d=\"M4270,702.0 C4270,527.0 4570.0,527.0 4570.0,702.0\" fill=\"none\" stroke=\"currentColor\"/>\n",
       "    <text dy=\"1.25em\" style=\"font-size: 0.8em; letter-spacing: 1px\">\n",
       "        <textPath xlink:href=\"#arrow-4afd07d34e264a3bae95f5abaf9b6a34-0-23\" class=\"displacy-label\" startOffset=\"50%\" side=\"left\" fill=\"currentColor\" text-anchor=\"middle\">nmod</textPath>\n",
       "    </text>\n",
       "    <path class=\"displacy-arrowhead\" d=\"M4270,704.0 L4262,692.0 4278,692.0\" fill=\"currentColor\"/>\n",
       "</g>\n",
       "\n",
       "<g class=\"displacy-arrow\">\n",
       "    <path class=\"displacy-arc\" id=\"arrow-4afd07d34e264a3bae95f5abaf9b6a34-0-24\" stroke-width=\"2px\" d=\"M4445,702.0 C4445,614.5 4565.0,614.5 4565.0,702.0\" fill=\"none\" stroke=\"currentColor\"/>\n",
       "    <text dy=\"1.25em\" style=\"font-size: 0.8em; letter-spacing: 1px\">\n",
       "        <textPath xlink:href=\"#arrow-4afd07d34e264a3bae95f5abaf9b6a34-0-24\" class=\"displacy-label\" startOffset=\"50%\" side=\"left\" fill=\"currentColor\" text-anchor=\"middle\">amod</textPath>\n",
       "    </text>\n",
       "    <path class=\"displacy-arrowhead\" d=\"M4445,704.0 L4437,692.0 4453,692.0\" fill=\"currentColor\"/>\n",
       "</g>\n",
       "\n",
       "<g class=\"displacy-arrow\">\n",
       "    <path class=\"displacy-arc\" id=\"arrow-4afd07d34e264a3bae95f5abaf9b6a34-0-25\" stroke-width=\"2px\" d=\"M3220,702.0 C3220,439.5 4575.0,439.5 4575.0,702.0\" fill=\"none\" stroke=\"currentColor\"/>\n",
       "    <text dy=\"1.25em\" style=\"font-size: 0.8em; letter-spacing: 1px\">\n",
       "        <textPath xlink:href=\"#arrow-4afd07d34e264a3bae95f5abaf9b6a34-0-25\" class=\"displacy-label\" startOffset=\"50%\" side=\"left\" fill=\"currentColor\" text-anchor=\"middle\">dobj</textPath>\n",
       "    </text>\n",
       "    <path class=\"displacy-arrowhead\" d=\"M4575.0,704.0 L4583.0,692.0 4567.0,692.0\" fill=\"currentColor\"/>\n",
       "</g>\n",
       "\n",
       "<g class=\"displacy-arrow\">\n",
       "    <path class=\"displacy-arc\" id=\"arrow-4afd07d34e264a3bae95f5abaf9b6a34-0-26\" stroke-width=\"2px\" d=\"M3220,702.0 C3220,352.0 4755.0,352.0 4755.0,702.0\" fill=\"none\" stroke=\"currentColor\"/>\n",
       "    <text dy=\"1.25em\" style=\"font-size: 0.8em; letter-spacing: 1px\">\n",
       "        <textPath xlink:href=\"#arrow-4afd07d34e264a3bae95f5abaf9b6a34-0-26\" class=\"displacy-label\" startOffset=\"50%\" side=\"left\" fill=\"currentColor\" text-anchor=\"middle\">cc</textPath>\n",
       "    </text>\n",
       "    <path class=\"displacy-arrowhead\" d=\"M4755.0,704.0 L4763.0,692.0 4747.0,692.0\" fill=\"currentColor\"/>\n",
       "</g>\n",
       "\n",
       "<g class=\"displacy-arrow\">\n",
       "    <path class=\"displacy-arc\" id=\"arrow-4afd07d34e264a3bae95f5abaf9b6a34-0-27\" stroke-width=\"2px\" d=\"M4970,702.0 C4970,614.5 5090.0,614.5 5090.0,702.0\" fill=\"none\" stroke=\"currentColor\"/>\n",
       "    <text dy=\"1.25em\" style=\"font-size: 0.8em; letter-spacing: 1px\">\n",
       "        <textPath xlink:href=\"#arrow-4afd07d34e264a3bae95f5abaf9b6a34-0-27\" class=\"displacy-label\" startOffset=\"50%\" side=\"left\" fill=\"currentColor\" text-anchor=\"middle\">neg</textPath>\n",
       "    </text>\n",
       "    <path class=\"displacy-arrowhead\" d=\"M4970,704.0 L4962,692.0 4978,692.0\" fill=\"currentColor\"/>\n",
       "</g>\n",
       "\n",
       "<g class=\"displacy-arrow\">\n",
       "    <path class=\"displacy-arc\" id=\"arrow-4afd07d34e264a3bae95f5abaf9b6a34-0-28\" stroke-width=\"2px\" d=\"M245,702.0 C245,2.0 5125.0,2.0 5125.0,702.0\" fill=\"none\" stroke=\"currentColor\"/>\n",
       "    <text dy=\"1.25em\" style=\"font-size: 0.8em; letter-spacing: 1px\">\n",
       "        <textPath xlink:href=\"#arrow-4afd07d34e264a3bae95f5abaf9b6a34-0-28\" class=\"displacy-label\" startOffset=\"50%\" side=\"left\" fill=\"currentColor\" text-anchor=\"middle\">prep</textPath>\n",
       "    </text>\n",
       "    <path class=\"displacy-arrowhead\" d=\"M5125.0,704.0 L5133.0,692.0 5117.0,692.0\" fill=\"currentColor\"/>\n",
       "</g>\n",
       "\n",
       "<g class=\"displacy-arrow\">\n",
       "    <path class=\"displacy-arc\" id=\"arrow-4afd07d34e264a3bae95f5abaf9b6a34-0-29\" stroke-width=\"2px\" d=\"M5145,702.0 C5145,614.5 5265.0,614.5 5265.0,702.0\" fill=\"none\" stroke=\"currentColor\"/>\n",
       "    <text dy=\"1.25em\" style=\"font-size: 0.8em; letter-spacing: 1px\">\n",
       "        <textPath xlink:href=\"#arrow-4afd07d34e264a3bae95f5abaf9b6a34-0-29\" class=\"displacy-label\" startOffset=\"50%\" side=\"left\" fill=\"currentColor\" text-anchor=\"middle\">pobj</textPath>\n",
       "    </text>\n",
       "    <path class=\"displacy-arrowhead\" d=\"M5265.0,704.0 L5273.0,692.0 5257.0,692.0\" fill=\"currentColor\"/>\n",
       "</g>\n",
       "</svg></span>"
      ],
      "text/plain": [
       "<IPython.core.display.HTML object>"
      ]
     },
     "metadata": {},
     "output_type": "display_data"
    },
    {
     "name": "stdout",
     "output_type": "stream",
     "text": [
      "NAMED ENTITY RECOGNITION:\n",
      "\n",
      "\n",
      "\n",
      "TWEET: vagabonds coronavirus australia woolworths give elderly disabled dedicated shopping hours amid covid 19 outbreak\n",
      "\n",
      "PARTS OF SPEECH:\n",
      "vagabonds = PROPN\n",
      "coronavirus = PROPN\n",
      "australia = PROPN\n",
      "woolworths = NOUN\n",
      "give = VERB\n",
      "elderly = ADJ\n",
      "disabled = ADJ\n",
      "dedicated = ADJ\n",
      "shopping = NOUN\n",
      "hours = NOUN\n",
      "amid = ADP\n",
      "covid = ADJ\n",
      "19 = NUM\n",
      "outbreak = NOUN\n",
      "\n",
      "DEPENDENCY PARSER:\n"
     ]
    },
    {
     "data": {
      "text/html": [
       "<span class=\"tex2jax_ignore\"><svg xmlns=\"http://www.w3.org/2000/svg\" xmlns:xlink=\"http://www.w3.org/1999/xlink\" xml:lang=\"en\" id=\"b65231fb992c42c2b7c337da261e784e-0\" class=\"displacy\" width=\"2500\" height=\"662.0\" direction=\"ltr\" style=\"max-width: none; height: 662.0px; color: #000000; background: #ffffff; font-family: Arial; direction: ltr\">\n",
       "<text class=\"displacy-token\" fill=\"currentColor\" text-anchor=\"middle\" y=\"572.0\">\n",
       "    <tspan class=\"displacy-word\" fill=\"currentColor\" x=\"50\">vagabonds</tspan>\n",
       "    <tspan class=\"displacy-tag\" dy=\"2em\" fill=\"currentColor\" x=\"50\">PROPN</tspan>\n",
       "</text>\n",
       "\n",
       "<text class=\"displacy-token\" fill=\"currentColor\" text-anchor=\"middle\" y=\"572.0\">\n",
       "    <tspan class=\"displacy-word\" fill=\"currentColor\" x=\"225\">coronavirus</tspan>\n",
       "    <tspan class=\"displacy-tag\" dy=\"2em\" fill=\"currentColor\" x=\"225\">PROPN</tspan>\n",
       "</text>\n",
       "\n",
       "<text class=\"displacy-token\" fill=\"currentColor\" text-anchor=\"middle\" y=\"572.0\">\n",
       "    <tspan class=\"displacy-word\" fill=\"currentColor\" x=\"400\">australia</tspan>\n",
       "    <tspan class=\"displacy-tag\" dy=\"2em\" fill=\"currentColor\" x=\"400\">PROPN</tspan>\n",
       "</text>\n",
       "\n",
       "<text class=\"displacy-token\" fill=\"currentColor\" text-anchor=\"middle\" y=\"572.0\">\n",
       "    <tspan class=\"displacy-word\" fill=\"currentColor\" x=\"575\">woolworths</tspan>\n",
       "    <tspan class=\"displacy-tag\" dy=\"2em\" fill=\"currentColor\" x=\"575\">NOUN</tspan>\n",
       "</text>\n",
       "\n",
       "<text class=\"displacy-token\" fill=\"currentColor\" text-anchor=\"middle\" y=\"572.0\">\n",
       "    <tspan class=\"displacy-word\" fill=\"currentColor\" x=\"750\">give</tspan>\n",
       "    <tspan class=\"displacy-tag\" dy=\"2em\" fill=\"currentColor\" x=\"750\">VERB</tspan>\n",
       "</text>\n",
       "\n",
       "<text class=\"displacy-token\" fill=\"currentColor\" text-anchor=\"middle\" y=\"572.0\">\n",
       "    <tspan class=\"displacy-word\" fill=\"currentColor\" x=\"925\">elderly</tspan>\n",
       "    <tspan class=\"displacy-tag\" dy=\"2em\" fill=\"currentColor\" x=\"925\">ADJ</tspan>\n",
       "</text>\n",
       "\n",
       "<text class=\"displacy-token\" fill=\"currentColor\" text-anchor=\"middle\" y=\"572.0\">\n",
       "    <tspan class=\"displacy-word\" fill=\"currentColor\" x=\"1100\">disabled</tspan>\n",
       "    <tspan class=\"displacy-tag\" dy=\"2em\" fill=\"currentColor\" x=\"1100\">ADJ</tspan>\n",
       "</text>\n",
       "\n",
       "<text class=\"displacy-token\" fill=\"currentColor\" text-anchor=\"middle\" y=\"572.0\">\n",
       "    <tspan class=\"displacy-word\" fill=\"currentColor\" x=\"1275\">dedicated</tspan>\n",
       "    <tspan class=\"displacy-tag\" dy=\"2em\" fill=\"currentColor\" x=\"1275\">ADJ</tspan>\n",
       "</text>\n",
       "\n",
       "<text class=\"displacy-token\" fill=\"currentColor\" text-anchor=\"middle\" y=\"572.0\">\n",
       "    <tspan class=\"displacy-word\" fill=\"currentColor\" x=\"1450\">shopping</tspan>\n",
       "    <tspan class=\"displacy-tag\" dy=\"2em\" fill=\"currentColor\" x=\"1450\">NOUN</tspan>\n",
       "</text>\n",
       "\n",
       "<text class=\"displacy-token\" fill=\"currentColor\" text-anchor=\"middle\" y=\"572.0\">\n",
       "    <tspan class=\"displacy-word\" fill=\"currentColor\" x=\"1625\">hours</tspan>\n",
       "    <tspan class=\"displacy-tag\" dy=\"2em\" fill=\"currentColor\" x=\"1625\">NOUN</tspan>\n",
       "</text>\n",
       "\n",
       "<text class=\"displacy-token\" fill=\"currentColor\" text-anchor=\"middle\" y=\"572.0\">\n",
       "    <tspan class=\"displacy-word\" fill=\"currentColor\" x=\"1800\">amid</tspan>\n",
       "    <tspan class=\"displacy-tag\" dy=\"2em\" fill=\"currentColor\" x=\"1800\">ADP</tspan>\n",
       "</text>\n",
       "\n",
       "<text class=\"displacy-token\" fill=\"currentColor\" text-anchor=\"middle\" y=\"572.0\">\n",
       "    <tspan class=\"displacy-word\" fill=\"currentColor\" x=\"1975\">covid</tspan>\n",
       "    <tspan class=\"displacy-tag\" dy=\"2em\" fill=\"currentColor\" x=\"1975\">ADJ</tspan>\n",
       "</text>\n",
       "\n",
       "<text class=\"displacy-token\" fill=\"currentColor\" text-anchor=\"middle\" y=\"572.0\">\n",
       "    <tspan class=\"displacy-word\" fill=\"currentColor\" x=\"2150\">19</tspan>\n",
       "    <tspan class=\"displacy-tag\" dy=\"2em\" fill=\"currentColor\" x=\"2150\">NUM</tspan>\n",
       "</text>\n",
       "\n",
       "<text class=\"displacy-token\" fill=\"currentColor\" text-anchor=\"middle\" y=\"572.0\">\n",
       "    <tspan class=\"displacy-word\" fill=\"currentColor\" x=\"2325\">outbreak</tspan>\n",
       "    <tspan class=\"displacy-tag\" dy=\"2em\" fill=\"currentColor\" x=\"2325\">NOUN</tspan>\n",
       "</text>\n",
       "\n",
       "<g class=\"displacy-arrow\">\n",
       "    <path class=\"displacy-arc\" id=\"arrow-b65231fb992c42c2b7c337da261e784e-0-0\" stroke-width=\"2px\" d=\"M245,527.0 C245,439.5 375.0,439.5 375.0,527.0\" fill=\"none\" stroke=\"currentColor\"/>\n",
       "    <text dy=\"1.25em\" style=\"font-size: 0.8em; letter-spacing: 1px\">\n",
       "        <textPath xlink:href=\"#arrow-b65231fb992c42c2b7c337da261e784e-0-0\" class=\"displacy-label\" startOffset=\"50%\" side=\"left\" fill=\"currentColor\" text-anchor=\"middle\">compound</textPath>\n",
       "    </text>\n",
       "    <path class=\"displacy-arrowhead\" d=\"M245,529.0 L237,517.0 253,517.0\" fill=\"currentColor\"/>\n",
       "</g>\n",
       "\n",
       "<g class=\"displacy-arrow\">\n",
       "    <path class=\"displacy-arc\" id=\"arrow-b65231fb992c42c2b7c337da261e784e-0-1\" stroke-width=\"2px\" d=\"M420,527.0 C420,439.5 550.0,439.5 550.0,527.0\" fill=\"none\" stroke=\"currentColor\"/>\n",
       "    <text dy=\"1.25em\" style=\"font-size: 0.8em; letter-spacing: 1px\">\n",
       "        <textPath xlink:href=\"#arrow-b65231fb992c42c2b7c337da261e784e-0-1\" class=\"displacy-label\" startOffset=\"50%\" side=\"left\" fill=\"currentColor\" text-anchor=\"middle\">compound</textPath>\n",
       "    </text>\n",
       "    <path class=\"displacy-arrowhead\" d=\"M420,529.0 L412,517.0 428,517.0\" fill=\"currentColor\"/>\n",
       "</g>\n",
       "\n",
       "<g class=\"displacy-arrow\">\n",
       "    <path class=\"displacy-arc\" id=\"arrow-b65231fb992c42c2b7c337da261e784e-0-2\" stroke-width=\"2px\" d=\"M595,527.0 C595,439.5 725.0,439.5 725.0,527.0\" fill=\"none\" stroke=\"currentColor\"/>\n",
       "    <text dy=\"1.25em\" style=\"font-size: 0.8em; letter-spacing: 1px\">\n",
       "        <textPath xlink:href=\"#arrow-b65231fb992c42c2b7c337da261e784e-0-2\" class=\"displacy-label\" startOffset=\"50%\" side=\"left\" fill=\"currentColor\" text-anchor=\"middle\">nsubj</textPath>\n",
       "    </text>\n",
       "    <path class=\"displacy-arrowhead\" d=\"M595,529.0 L587,517.0 603,517.0\" fill=\"currentColor\"/>\n",
       "</g>\n",
       "\n",
       "<g class=\"displacy-arrow\">\n",
       "    <path class=\"displacy-arc\" id=\"arrow-b65231fb992c42c2b7c337da261e784e-0-3\" stroke-width=\"2px\" d=\"M70,527.0 C70,352.0 730.0,352.0 730.0,527.0\" fill=\"none\" stroke=\"currentColor\"/>\n",
       "    <text dy=\"1.25em\" style=\"font-size: 0.8em; letter-spacing: 1px\">\n",
       "        <textPath xlink:href=\"#arrow-b65231fb992c42c2b7c337da261e784e-0-3\" class=\"displacy-label\" startOffset=\"50%\" side=\"left\" fill=\"currentColor\" text-anchor=\"middle\">ccomp</textPath>\n",
       "    </text>\n",
       "    <path class=\"displacy-arrowhead\" d=\"M730.0,529.0 L738.0,517.0 722.0,517.0\" fill=\"currentColor\"/>\n",
       "</g>\n",
       "\n",
       "<g class=\"displacy-arrow\">\n",
       "    <path class=\"displacy-arc\" id=\"arrow-b65231fb992c42c2b7c337da261e784e-0-4\" stroke-width=\"2px\" d=\"M945,527.0 C945,177.0 1615.0,177.0 1615.0,527.0\" fill=\"none\" stroke=\"currentColor\"/>\n",
       "    <text dy=\"1.25em\" style=\"font-size: 0.8em; letter-spacing: 1px\">\n",
       "        <textPath xlink:href=\"#arrow-b65231fb992c42c2b7c337da261e784e-0-4\" class=\"displacy-label\" startOffset=\"50%\" side=\"left\" fill=\"currentColor\" text-anchor=\"middle\">amod</textPath>\n",
       "    </text>\n",
       "    <path class=\"displacy-arrowhead\" d=\"M945,529.0 L937,517.0 953,517.0\" fill=\"currentColor\"/>\n",
       "</g>\n",
       "\n",
       "<g class=\"displacy-arrow\">\n",
       "    <path class=\"displacy-arc\" id=\"arrow-b65231fb992c42c2b7c337da261e784e-0-5\" stroke-width=\"2px\" d=\"M1120,527.0 C1120,264.5 1610.0,264.5 1610.0,527.0\" fill=\"none\" stroke=\"currentColor\"/>\n",
       "    <text dy=\"1.25em\" style=\"font-size: 0.8em; letter-spacing: 1px\">\n",
       "        <textPath xlink:href=\"#arrow-b65231fb992c42c2b7c337da261e784e-0-5\" class=\"displacy-label\" startOffset=\"50%\" side=\"left\" fill=\"currentColor\" text-anchor=\"middle\">amod</textPath>\n",
       "    </text>\n",
       "    <path class=\"displacy-arrowhead\" d=\"M1120,529.0 L1112,517.0 1128,517.0\" fill=\"currentColor\"/>\n",
       "</g>\n",
       "\n",
       "<g class=\"displacy-arrow\">\n",
       "    <path class=\"displacy-arc\" id=\"arrow-b65231fb992c42c2b7c337da261e784e-0-6\" stroke-width=\"2px\" d=\"M1295,527.0 C1295,352.0 1605.0,352.0 1605.0,527.0\" fill=\"none\" stroke=\"currentColor\"/>\n",
       "    <text dy=\"1.25em\" style=\"font-size: 0.8em; letter-spacing: 1px\">\n",
       "        <textPath xlink:href=\"#arrow-b65231fb992c42c2b7c337da261e784e-0-6\" class=\"displacy-label\" startOffset=\"50%\" side=\"left\" fill=\"currentColor\" text-anchor=\"middle\">amod</textPath>\n",
       "    </text>\n",
       "    <path class=\"displacy-arrowhead\" d=\"M1295,529.0 L1287,517.0 1303,517.0\" fill=\"currentColor\"/>\n",
       "</g>\n",
       "\n",
       "<g class=\"displacy-arrow\">\n",
       "    <path class=\"displacy-arc\" id=\"arrow-b65231fb992c42c2b7c337da261e784e-0-7\" stroke-width=\"2px\" d=\"M1470,527.0 C1470,439.5 1600.0,439.5 1600.0,527.0\" fill=\"none\" stroke=\"currentColor\"/>\n",
       "    <text dy=\"1.25em\" style=\"font-size: 0.8em; letter-spacing: 1px\">\n",
       "        <textPath xlink:href=\"#arrow-b65231fb992c42c2b7c337da261e784e-0-7\" class=\"displacy-label\" startOffset=\"50%\" side=\"left\" fill=\"currentColor\" text-anchor=\"middle\">compound</textPath>\n",
       "    </text>\n",
       "    <path class=\"displacy-arrowhead\" d=\"M1470,529.0 L1462,517.0 1478,517.0\" fill=\"currentColor\"/>\n",
       "</g>\n",
       "\n",
       "<g class=\"displacy-arrow\">\n",
       "    <path class=\"displacy-arc\" id=\"arrow-b65231fb992c42c2b7c337da261e784e-0-8\" stroke-width=\"2px\" d=\"M770,527.0 C770,89.5 1620.0,89.5 1620.0,527.0\" fill=\"none\" stroke=\"currentColor\"/>\n",
       "    <text dy=\"1.25em\" style=\"font-size: 0.8em; letter-spacing: 1px\">\n",
       "        <textPath xlink:href=\"#arrow-b65231fb992c42c2b7c337da261e784e-0-8\" class=\"displacy-label\" startOffset=\"50%\" side=\"left\" fill=\"currentColor\" text-anchor=\"middle\">dobj</textPath>\n",
       "    </text>\n",
       "    <path class=\"displacy-arrowhead\" d=\"M1620.0,529.0 L1628.0,517.0 1612.0,517.0\" fill=\"currentColor\"/>\n",
       "</g>\n",
       "\n",
       "<g class=\"displacy-arrow\">\n",
       "    <path class=\"displacy-arc\" id=\"arrow-b65231fb992c42c2b7c337da261e784e-0-9\" stroke-width=\"2px\" d=\"M770,527.0 C770,2.0 1800.0,2.0 1800.0,527.0\" fill=\"none\" stroke=\"currentColor\"/>\n",
       "    <text dy=\"1.25em\" style=\"font-size: 0.8em; letter-spacing: 1px\">\n",
       "        <textPath xlink:href=\"#arrow-b65231fb992c42c2b7c337da261e784e-0-9\" class=\"displacy-label\" startOffset=\"50%\" side=\"left\" fill=\"currentColor\" text-anchor=\"middle\">prep</textPath>\n",
       "    </text>\n",
       "    <path class=\"displacy-arrowhead\" d=\"M1800.0,529.0 L1808.0,517.0 1792.0,517.0\" fill=\"currentColor\"/>\n",
       "</g>\n",
       "\n",
       "<g class=\"displacy-arrow\">\n",
       "    <path class=\"displacy-arc\" id=\"arrow-b65231fb992c42c2b7c337da261e784e-0-10\" stroke-width=\"2px\" d=\"M1995,527.0 C1995,352.0 2305.0,352.0 2305.0,527.0\" fill=\"none\" stroke=\"currentColor\"/>\n",
       "    <text dy=\"1.25em\" style=\"font-size: 0.8em; letter-spacing: 1px\">\n",
       "        <textPath xlink:href=\"#arrow-b65231fb992c42c2b7c337da261e784e-0-10\" class=\"displacy-label\" startOffset=\"50%\" side=\"left\" fill=\"currentColor\" text-anchor=\"middle\">nmod</textPath>\n",
       "    </text>\n",
       "    <path class=\"displacy-arrowhead\" d=\"M1995,529.0 L1987,517.0 2003,517.0\" fill=\"currentColor\"/>\n",
       "</g>\n",
       "\n",
       "<g class=\"displacy-arrow\">\n",
       "    <path class=\"displacy-arc\" id=\"arrow-b65231fb992c42c2b7c337da261e784e-0-11\" stroke-width=\"2px\" d=\"M2170,527.0 C2170,439.5 2300.0,439.5 2300.0,527.0\" fill=\"none\" stroke=\"currentColor\"/>\n",
       "    <text dy=\"1.25em\" style=\"font-size: 0.8em; letter-spacing: 1px\">\n",
       "        <textPath xlink:href=\"#arrow-b65231fb992c42c2b7c337da261e784e-0-11\" class=\"displacy-label\" startOffset=\"50%\" side=\"left\" fill=\"currentColor\" text-anchor=\"middle\">nummod</textPath>\n",
       "    </text>\n",
       "    <path class=\"displacy-arrowhead\" d=\"M2170,529.0 L2162,517.0 2178,517.0\" fill=\"currentColor\"/>\n",
       "</g>\n",
       "\n",
       "<g class=\"displacy-arrow\">\n",
       "    <path class=\"displacy-arc\" id=\"arrow-b65231fb992c42c2b7c337da261e784e-0-12\" stroke-width=\"2px\" d=\"M1820,527.0 C1820,264.5 2310.0,264.5 2310.0,527.0\" fill=\"none\" stroke=\"currentColor\"/>\n",
       "    <text dy=\"1.25em\" style=\"font-size: 0.8em; letter-spacing: 1px\">\n",
       "        <textPath xlink:href=\"#arrow-b65231fb992c42c2b7c337da261e784e-0-12\" class=\"displacy-label\" startOffset=\"50%\" side=\"left\" fill=\"currentColor\" text-anchor=\"middle\">pobj</textPath>\n",
       "    </text>\n",
       "    <path class=\"displacy-arrowhead\" d=\"M2310.0,529.0 L2318.0,517.0 2302.0,517.0\" fill=\"currentColor\"/>\n",
       "</g>\n",
       "</svg></span>"
      ],
      "text/plain": [
       "<IPython.core.display.HTML object>"
      ]
     },
     "metadata": {},
     "output_type": "display_data"
    },
    {
     "name": "stdout",
     "output_type": "stream",
     "text": [
      "NAMED ENTITY RECOGNITION:\n",
      "australia = GPE\n",
      "hours = TIME\n",
      "19 = CARDINAL\n",
      "\n",
      "\n",
      "\n",
      "TWEET: food stock not the only one which empty please don panic there will enough food for everyone you not take more than you need stay calm stay safe\n",
      "\n",
      "PARTS OF SPEECH:\n",
      "food = NOUN\n",
      "stock = NOUN\n",
      "not = PART\n",
      "the = DET\n",
      "only = ADJ\n",
      "one = NUM\n",
      "which = DET\n",
      "empty = ADJ\n",
      "please = INTJ\n",
      "don = PROPN\n",
      "panic = NOUN\n",
      "there = PRON\n",
      "will = AUX\n",
      "enough = ADJ\n",
      "food = NOUN\n",
      "for = ADP\n",
      "everyone = PRON\n",
      "you = PRON\n",
      "not = PART\n",
      "take = VERB\n",
      "more = ADJ\n",
      "than = SCONJ\n",
      "you = PRON\n",
      "need = VERB\n",
      "stay = VERB\n",
      "calm = ADJ\n",
      "stay = NOUN\n",
      "safe = ADJ\n",
      "\n",
      "DEPENDENCY PARSER:\n"
     ]
    },
    {
     "data": {
      "text/html": [
       "<span class=\"tex2jax_ignore\"><svg xmlns=\"http://www.w3.org/2000/svg\" xmlns:xlink=\"http://www.w3.org/1999/xlink\" xml:lang=\"en\" id=\"7ac334f8cc3548e8a0edf27ddc988350-0\" class=\"displacy\" width=\"4950\" height=\"662.0\" direction=\"ltr\" style=\"max-width: none; height: 662.0px; color: #000000; background: #ffffff; font-family: Arial; direction: ltr\">\n",
       "<text class=\"displacy-token\" fill=\"currentColor\" text-anchor=\"middle\" y=\"572.0\">\n",
       "    <tspan class=\"displacy-word\" fill=\"currentColor\" x=\"50\">food</tspan>\n",
       "    <tspan class=\"displacy-tag\" dy=\"2em\" fill=\"currentColor\" x=\"50\">NOUN</tspan>\n",
       "</text>\n",
       "\n",
       "<text class=\"displacy-token\" fill=\"currentColor\" text-anchor=\"middle\" y=\"572.0\">\n",
       "    <tspan class=\"displacy-word\" fill=\"currentColor\" x=\"225\">stock</tspan>\n",
       "    <tspan class=\"displacy-tag\" dy=\"2em\" fill=\"currentColor\" x=\"225\">NOUN</tspan>\n",
       "</text>\n",
       "\n",
       "<text class=\"displacy-token\" fill=\"currentColor\" text-anchor=\"middle\" y=\"572.0\">\n",
       "    <tspan class=\"displacy-word\" fill=\"currentColor\" x=\"400\">not</tspan>\n",
       "    <tspan class=\"displacy-tag\" dy=\"2em\" fill=\"currentColor\" x=\"400\">PART</tspan>\n",
       "</text>\n",
       "\n",
       "<text class=\"displacy-token\" fill=\"currentColor\" text-anchor=\"middle\" y=\"572.0\">\n",
       "    <tspan class=\"displacy-word\" fill=\"currentColor\" x=\"575\">the</tspan>\n",
       "    <tspan class=\"displacy-tag\" dy=\"2em\" fill=\"currentColor\" x=\"575\">DET</tspan>\n",
       "</text>\n",
       "\n",
       "<text class=\"displacy-token\" fill=\"currentColor\" text-anchor=\"middle\" y=\"572.0\">\n",
       "    <tspan class=\"displacy-word\" fill=\"currentColor\" x=\"750\">only</tspan>\n",
       "    <tspan class=\"displacy-tag\" dy=\"2em\" fill=\"currentColor\" x=\"750\">ADJ</tspan>\n",
       "</text>\n",
       "\n",
       "<text class=\"displacy-token\" fill=\"currentColor\" text-anchor=\"middle\" y=\"572.0\">\n",
       "    <tspan class=\"displacy-word\" fill=\"currentColor\" x=\"925\">one</tspan>\n",
       "    <tspan class=\"displacy-tag\" dy=\"2em\" fill=\"currentColor\" x=\"925\">NUM</tspan>\n",
       "</text>\n",
       "\n",
       "<text class=\"displacy-token\" fill=\"currentColor\" text-anchor=\"middle\" y=\"572.0\">\n",
       "    <tspan class=\"displacy-word\" fill=\"currentColor\" x=\"1100\">which</tspan>\n",
       "    <tspan class=\"displacy-tag\" dy=\"2em\" fill=\"currentColor\" x=\"1100\">DET</tspan>\n",
       "</text>\n",
       "\n",
       "<text class=\"displacy-token\" fill=\"currentColor\" text-anchor=\"middle\" y=\"572.0\">\n",
       "    <tspan class=\"displacy-word\" fill=\"currentColor\" x=\"1275\">empty</tspan>\n",
       "    <tspan class=\"displacy-tag\" dy=\"2em\" fill=\"currentColor\" x=\"1275\">ADJ</tspan>\n",
       "</text>\n",
       "\n",
       "<text class=\"displacy-token\" fill=\"currentColor\" text-anchor=\"middle\" y=\"572.0\">\n",
       "    <tspan class=\"displacy-word\" fill=\"currentColor\" x=\"1450\">please</tspan>\n",
       "    <tspan class=\"displacy-tag\" dy=\"2em\" fill=\"currentColor\" x=\"1450\">INTJ</tspan>\n",
       "</text>\n",
       "\n",
       "<text class=\"displacy-token\" fill=\"currentColor\" text-anchor=\"middle\" y=\"572.0\">\n",
       "    <tspan class=\"displacy-word\" fill=\"currentColor\" x=\"1625\">don</tspan>\n",
       "    <tspan class=\"displacy-tag\" dy=\"2em\" fill=\"currentColor\" x=\"1625\">PROPN</tspan>\n",
       "</text>\n",
       "\n",
       "<text class=\"displacy-token\" fill=\"currentColor\" text-anchor=\"middle\" y=\"572.0\">\n",
       "    <tspan class=\"displacy-word\" fill=\"currentColor\" x=\"1800\">panic</tspan>\n",
       "    <tspan class=\"displacy-tag\" dy=\"2em\" fill=\"currentColor\" x=\"1800\">NOUN</tspan>\n",
       "</text>\n",
       "\n",
       "<text class=\"displacy-token\" fill=\"currentColor\" text-anchor=\"middle\" y=\"572.0\">\n",
       "    <tspan class=\"displacy-word\" fill=\"currentColor\" x=\"1975\">there</tspan>\n",
       "    <tspan class=\"displacy-tag\" dy=\"2em\" fill=\"currentColor\" x=\"1975\">PRON</tspan>\n",
       "</text>\n",
       "\n",
       "<text class=\"displacy-token\" fill=\"currentColor\" text-anchor=\"middle\" y=\"572.0\">\n",
       "    <tspan class=\"displacy-word\" fill=\"currentColor\" x=\"2150\">will</tspan>\n",
       "    <tspan class=\"displacy-tag\" dy=\"2em\" fill=\"currentColor\" x=\"2150\">AUX</tspan>\n",
       "</text>\n",
       "\n",
       "<text class=\"displacy-token\" fill=\"currentColor\" text-anchor=\"middle\" y=\"572.0\">\n",
       "    <tspan class=\"displacy-word\" fill=\"currentColor\" x=\"2325\">enough</tspan>\n",
       "    <tspan class=\"displacy-tag\" dy=\"2em\" fill=\"currentColor\" x=\"2325\">ADJ</tspan>\n",
       "</text>\n",
       "\n",
       "<text class=\"displacy-token\" fill=\"currentColor\" text-anchor=\"middle\" y=\"572.0\">\n",
       "    <tspan class=\"displacy-word\" fill=\"currentColor\" x=\"2500\">food</tspan>\n",
       "    <tspan class=\"displacy-tag\" dy=\"2em\" fill=\"currentColor\" x=\"2500\">NOUN</tspan>\n",
       "</text>\n",
       "\n",
       "<text class=\"displacy-token\" fill=\"currentColor\" text-anchor=\"middle\" y=\"572.0\">\n",
       "    <tspan class=\"displacy-word\" fill=\"currentColor\" x=\"2675\">for</tspan>\n",
       "    <tspan class=\"displacy-tag\" dy=\"2em\" fill=\"currentColor\" x=\"2675\">ADP</tspan>\n",
       "</text>\n",
       "\n",
       "<text class=\"displacy-token\" fill=\"currentColor\" text-anchor=\"middle\" y=\"572.0\">\n",
       "    <tspan class=\"displacy-word\" fill=\"currentColor\" x=\"2850\">everyone</tspan>\n",
       "    <tspan class=\"displacy-tag\" dy=\"2em\" fill=\"currentColor\" x=\"2850\">PRON</tspan>\n",
       "</text>\n",
       "\n",
       "<text class=\"displacy-token\" fill=\"currentColor\" text-anchor=\"middle\" y=\"572.0\">\n",
       "    <tspan class=\"displacy-word\" fill=\"currentColor\" x=\"3025\">you</tspan>\n",
       "    <tspan class=\"displacy-tag\" dy=\"2em\" fill=\"currentColor\" x=\"3025\">PRON</tspan>\n",
       "</text>\n",
       "\n",
       "<text class=\"displacy-token\" fill=\"currentColor\" text-anchor=\"middle\" y=\"572.0\">\n",
       "    <tspan class=\"displacy-word\" fill=\"currentColor\" x=\"3200\">not</tspan>\n",
       "    <tspan class=\"displacy-tag\" dy=\"2em\" fill=\"currentColor\" x=\"3200\">PART</tspan>\n",
       "</text>\n",
       "\n",
       "<text class=\"displacy-token\" fill=\"currentColor\" text-anchor=\"middle\" y=\"572.0\">\n",
       "    <tspan class=\"displacy-word\" fill=\"currentColor\" x=\"3375\">take</tspan>\n",
       "    <tspan class=\"displacy-tag\" dy=\"2em\" fill=\"currentColor\" x=\"3375\">VERB</tspan>\n",
       "</text>\n",
       "\n",
       "<text class=\"displacy-token\" fill=\"currentColor\" text-anchor=\"middle\" y=\"572.0\">\n",
       "    <tspan class=\"displacy-word\" fill=\"currentColor\" x=\"3550\">more</tspan>\n",
       "    <tspan class=\"displacy-tag\" dy=\"2em\" fill=\"currentColor\" x=\"3550\">ADJ</tspan>\n",
       "</text>\n",
       "\n",
       "<text class=\"displacy-token\" fill=\"currentColor\" text-anchor=\"middle\" y=\"572.0\">\n",
       "    <tspan class=\"displacy-word\" fill=\"currentColor\" x=\"3725\">than</tspan>\n",
       "    <tspan class=\"displacy-tag\" dy=\"2em\" fill=\"currentColor\" x=\"3725\">SCONJ</tspan>\n",
       "</text>\n",
       "\n",
       "<text class=\"displacy-token\" fill=\"currentColor\" text-anchor=\"middle\" y=\"572.0\">\n",
       "    <tspan class=\"displacy-word\" fill=\"currentColor\" x=\"3900\">you</tspan>\n",
       "    <tspan class=\"displacy-tag\" dy=\"2em\" fill=\"currentColor\" x=\"3900\">PRON</tspan>\n",
       "</text>\n",
       "\n",
       "<text class=\"displacy-token\" fill=\"currentColor\" text-anchor=\"middle\" y=\"572.0\">\n",
       "    <tspan class=\"displacy-word\" fill=\"currentColor\" x=\"4075\">need</tspan>\n",
       "    <tspan class=\"displacy-tag\" dy=\"2em\" fill=\"currentColor\" x=\"4075\">VERB</tspan>\n",
       "</text>\n",
       "\n",
       "<text class=\"displacy-token\" fill=\"currentColor\" text-anchor=\"middle\" y=\"572.0\">\n",
       "    <tspan class=\"displacy-word\" fill=\"currentColor\" x=\"4250\">stay</tspan>\n",
       "    <tspan class=\"displacy-tag\" dy=\"2em\" fill=\"currentColor\" x=\"4250\">VERB</tspan>\n",
       "</text>\n",
       "\n",
       "<text class=\"displacy-token\" fill=\"currentColor\" text-anchor=\"middle\" y=\"572.0\">\n",
       "    <tspan class=\"displacy-word\" fill=\"currentColor\" x=\"4425\">calm</tspan>\n",
       "    <tspan class=\"displacy-tag\" dy=\"2em\" fill=\"currentColor\" x=\"4425\">ADJ</tspan>\n",
       "</text>\n",
       "\n",
       "<text class=\"displacy-token\" fill=\"currentColor\" text-anchor=\"middle\" y=\"572.0\">\n",
       "    <tspan class=\"displacy-word\" fill=\"currentColor\" x=\"4600\">stay</tspan>\n",
       "    <tspan class=\"displacy-tag\" dy=\"2em\" fill=\"currentColor\" x=\"4600\">NOUN</tspan>\n",
       "</text>\n",
       "\n",
       "<text class=\"displacy-token\" fill=\"currentColor\" text-anchor=\"middle\" y=\"572.0\">\n",
       "    <tspan class=\"displacy-word\" fill=\"currentColor\" x=\"4775\">safe</tspan>\n",
       "    <tspan class=\"displacy-tag\" dy=\"2em\" fill=\"currentColor\" x=\"4775\">ADJ</tspan>\n",
       "</text>\n",
       "\n",
       "<g class=\"displacy-arrow\">\n",
       "    <path class=\"displacy-arc\" id=\"arrow-7ac334f8cc3548e8a0edf27ddc988350-0-0\" stroke-width=\"2px\" d=\"M70,527.0 C70,439.5 200.0,439.5 200.0,527.0\" fill=\"none\" stroke=\"currentColor\"/>\n",
       "    <text dy=\"1.25em\" style=\"font-size: 0.8em; letter-spacing: 1px\">\n",
       "        <textPath xlink:href=\"#arrow-7ac334f8cc3548e8a0edf27ddc988350-0-0\" class=\"displacy-label\" startOffset=\"50%\" side=\"left\" fill=\"currentColor\" text-anchor=\"middle\">compound</textPath>\n",
       "    </text>\n",
       "    <path class=\"displacy-arrowhead\" d=\"M70,529.0 L62,517.0 78,517.0\" fill=\"currentColor\"/>\n",
       "</g>\n",
       "\n",
       "<g class=\"displacy-arrow\">\n",
       "    <path class=\"displacy-arc\" id=\"arrow-7ac334f8cc3548e8a0edf27ddc988350-0-1\" stroke-width=\"2px\" d=\"M245,527.0 C245,2.0 4250.0,2.0 4250.0,527.0\" fill=\"none\" stroke=\"currentColor\"/>\n",
       "    <text dy=\"1.25em\" style=\"font-size: 0.8em; letter-spacing: 1px\">\n",
       "        <textPath xlink:href=\"#arrow-7ac334f8cc3548e8a0edf27ddc988350-0-1\" class=\"displacy-label\" startOffset=\"50%\" side=\"left\" fill=\"currentColor\" text-anchor=\"middle\">nsubj</textPath>\n",
       "    </text>\n",
       "    <path class=\"displacy-arrowhead\" d=\"M245,529.0 L237,517.0 253,517.0\" fill=\"currentColor\"/>\n",
       "</g>\n",
       "\n",
       "<g class=\"displacy-arrow\">\n",
       "    <path class=\"displacy-arc\" id=\"arrow-7ac334f8cc3548e8a0edf27ddc988350-0-2\" stroke-width=\"2px\" d=\"M420,527.0 C420,264.5 910.0,264.5 910.0,527.0\" fill=\"none\" stroke=\"currentColor\"/>\n",
       "    <text dy=\"1.25em\" style=\"font-size: 0.8em; letter-spacing: 1px\">\n",
       "        <textPath xlink:href=\"#arrow-7ac334f8cc3548e8a0edf27ddc988350-0-2\" class=\"displacy-label\" startOffset=\"50%\" side=\"left\" fill=\"currentColor\" text-anchor=\"middle\">neg</textPath>\n",
       "    </text>\n",
       "    <path class=\"displacy-arrowhead\" d=\"M420,529.0 L412,517.0 428,517.0\" fill=\"currentColor\"/>\n",
       "</g>\n",
       "\n",
       "<g class=\"displacy-arrow\">\n",
       "    <path class=\"displacy-arc\" id=\"arrow-7ac334f8cc3548e8a0edf27ddc988350-0-3\" stroke-width=\"2px\" d=\"M595,527.0 C595,352.0 905.0,352.0 905.0,527.0\" fill=\"none\" stroke=\"currentColor\"/>\n",
       "    <text dy=\"1.25em\" style=\"font-size: 0.8em; letter-spacing: 1px\">\n",
       "        <textPath xlink:href=\"#arrow-7ac334f8cc3548e8a0edf27ddc988350-0-3\" class=\"displacy-label\" startOffset=\"50%\" side=\"left\" fill=\"currentColor\" text-anchor=\"middle\">det</textPath>\n",
       "    </text>\n",
       "    <path class=\"displacy-arrowhead\" d=\"M595,529.0 L587,517.0 603,517.0\" fill=\"currentColor\"/>\n",
       "</g>\n",
       "\n",
       "<g class=\"displacy-arrow\">\n",
       "    <path class=\"displacy-arc\" id=\"arrow-7ac334f8cc3548e8a0edf27ddc988350-0-4\" stroke-width=\"2px\" d=\"M770,527.0 C770,439.5 900.0,439.5 900.0,527.0\" fill=\"none\" stroke=\"currentColor\"/>\n",
       "    <text dy=\"1.25em\" style=\"font-size: 0.8em; letter-spacing: 1px\">\n",
       "        <textPath xlink:href=\"#arrow-7ac334f8cc3548e8a0edf27ddc988350-0-4\" class=\"displacy-label\" startOffset=\"50%\" side=\"left\" fill=\"currentColor\" text-anchor=\"middle\">amod</textPath>\n",
       "    </text>\n",
       "    <path class=\"displacy-arrowhead\" d=\"M770,529.0 L762,517.0 778,517.0\" fill=\"currentColor\"/>\n",
       "</g>\n",
       "\n",
       "<g class=\"displacy-arrow\">\n",
       "    <path class=\"displacy-arc\" id=\"arrow-7ac334f8cc3548e8a0edf27ddc988350-0-5\" stroke-width=\"2px\" d=\"M245,527.0 C245,177.0 915.0,177.0 915.0,527.0\" fill=\"none\" stroke=\"currentColor\"/>\n",
       "    <text dy=\"1.25em\" style=\"font-size: 0.8em; letter-spacing: 1px\">\n",
       "        <textPath xlink:href=\"#arrow-7ac334f8cc3548e8a0edf27ddc988350-0-5\" class=\"displacy-label\" startOffset=\"50%\" side=\"left\" fill=\"currentColor\" text-anchor=\"middle\">appos</textPath>\n",
       "    </text>\n",
       "    <path class=\"displacy-arrowhead\" d=\"M915.0,529.0 L923.0,517.0 907.0,517.0\" fill=\"currentColor\"/>\n",
       "</g>\n",
       "\n",
       "<g class=\"displacy-arrow\">\n",
       "    <path class=\"displacy-arc\" id=\"arrow-7ac334f8cc3548e8a0edf27ddc988350-0-6\" stroke-width=\"2px\" d=\"M1120,527.0 C1120,177.0 1790.0,177.0 1790.0,527.0\" fill=\"none\" stroke=\"currentColor\"/>\n",
       "    <text dy=\"1.25em\" style=\"font-size: 0.8em; letter-spacing: 1px\">\n",
       "        <textPath xlink:href=\"#arrow-7ac334f8cc3548e8a0edf27ddc988350-0-6\" class=\"displacy-label\" startOffset=\"50%\" side=\"left\" fill=\"currentColor\" text-anchor=\"middle\">det</textPath>\n",
       "    </text>\n",
       "    <path class=\"displacy-arrowhead\" d=\"M1120,529.0 L1112,517.0 1128,517.0\" fill=\"currentColor\"/>\n",
       "</g>\n",
       "\n",
       "<g class=\"displacy-arrow\">\n",
       "    <path class=\"displacy-arc\" id=\"arrow-7ac334f8cc3548e8a0edf27ddc988350-0-7\" stroke-width=\"2px\" d=\"M1295,527.0 C1295,264.5 1785.0,264.5 1785.0,527.0\" fill=\"none\" stroke=\"currentColor\"/>\n",
       "    <text dy=\"1.25em\" style=\"font-size: 0.8em; letter-spacing: 1px\">\n",
       "        <textPath xlink:href=\"#arrow-7ac334f8cc3548e8a0edf27ddc988350-0-7\" class=\"displacy-label\" startOffset=\"50%\" side=\"left\" fill=\"currentColor\" text-anchor=\"middle\">amod</textPath>\n",
       "    </text>\n",
       "    <path class=\"displacy-arrowhead\" d=\"M1295,529.0 L1287,517.0 1303,517.0\" fill=\"currentColor\"/>\n",
       "</g>\n",
       "\n",
       "<g class=\"displacy-arrow\">\n",
       "    <path class=\"displacy-arc\" id=\"arrow-7ac334f8cc3548e8a0edf27ddc988350-0-8\" stroke-width=\"2px\" d=\"M1470,527.0 C1470,352.0 1780.0,352.0 1780.0,527.0\" fill=\"none\" stroke=\"currentColor\"/>\n",
       "    <text dy=\"1.25em\" style=\"font-size: 0.8em; letter-spacing: 1px\">\n",
       "        <textPath xlink:href=\"#arrow-7ac334f8cc3548e8a0edf27ddc988350-0-8\" class=\"displacy-label\" startOffset=\"50%\" side=\"left\" fill=\"currentColor\" text-anchor=\"middle\">compound</textPath>\n",
       "    </text>\n",
       "    <path class=\"displacy-arrowhead\" d=\"M1470,529.0 L1462,517.0 1478,517.0\" fill=\"currentColor\"/>\n",
       "</g>\n",
       "\n",
       "<g class=\"displacy-arrow\">\n",
       "    <path class=\"displacy-arc\" id=\"arrow-7ac334f8cc3548e8a0edf27ddc988350-0-9\" stroke-width=\"2px\" d=\"M1645,527.0 C1645,439.5 1775.0,439.5 1775.0,527.0\" fill=\"none\" stroke=\"currentColor\"/>\n",
       "    <text dy=\"1.25em\" style=\"font-size: 0.8em; letter-spacing: 1px\">\n",
       "        <textPath xlink:href=\"#arrow-7ac334f8cc3548e8a0edf27ddc988350-0-9\" class=\"displacy-label\" startOffset=\"50%\" side=\"left\" fill=\"currentColor\" text-anchor=\"middle\">compound</textPath>\n",
       "    </text>\n",
       "    <path class=\"displacy-arrowhead\" d=\"M1645,529.0 L1637,517.0 1653,517.0\" fill=\"currentColor\"/>\n",
       "</g>\n",
       "\n",
       "<g class=\"displacy-arrow\">\n",
       "    <path class=\"displacy-arc\" id=\"arrow-7ac334f8cc3548e8a0edf27ddc988350-0-10\" stroke-width=\"2px\" d=\"M945,527.0 C945,89.5 1795.0,89.5 1795.0,527.0\" fill=\"none\" stroke=\"currentColor\"/>\n",
       "    <text dy=\"1.25em\" style=\"font-size: 0.8em; letter-spacing: 1px\">\n",
       "        <textPath xlink:href=\"#arrow-7ac334f8cc3548e8a0edf27ddc988350-0-10\" class=\"displacy-label\" startOffset=\"50%\" side=\"left\" fill=\"currentColor\" text-anchor=\"middle\">relcl</textPath>\n",
       "    </text>\n",
       "    <path class=\"displacy-arrowhead\" d=\"M1795.0,529.0 L1803.0,517.0 1787.0,517.0\" fill=\"currentColor\"/>\n",
       "</g>\n",
       "\n",
       "<g class=\"displacy-arrow\">\n",
       "    <path class=\"displacy-arc\" id=\"arrow-7ac334f8cc3548e8a0edf27ddc988350-0-11\" stroke-width=\"2px\" d=\"M1820,527.0 C1820,439.5 1950.0,439.5 1950.0,527.0\" fill=\"none\" stroke=\"currentColor\"/>\n",
       "    <text dy=\"1.25em\" style=\"font-size: 0.8em; letter-spacing: 1px\">\n",
       "        <textPath xlink:href=\"#arrow-7ac334f8cc3548e8a0edf27ddc988350-0-11\" class=\"displacy-label\" startOffset=\"50%\" side=\"left\" fill=\"currentColor\" text-anchor=\"middle\">advmod</textPath>\n",
       "    </text>\n",
       "    <path class=\"displacy-arrowhead\" d=\"M1950.0,529.0 L1958.0,517.0 1942.0,517.0\" fill=\"currentColor\"/>\n",
       "</g>\n",
       "\n",
       "<g class=\"displacy-arrow\">\n",
       "    <path class=\"displacy-arc\" id=\"arrow-7ac334f8cc3548e8a0edf27ddc988350-0-12\" stroke-width=\"2px\" d=\"M2170,527.0 C2170,177.0 4240.0,177.0 4240.0,527.0\" fill=\"none\" stroke=\"currentColor\"/>\n",
       "    <text dy=\"1.25em\" style=\"font-size: 0.8em; letter-spacing: 1px\">\n",
       "        <textPath xlink:href=\"#arrow-7ac334f8cc3548e8a0edf27ddc988350-0-12\" class=\"displacy-label\" startOffset=\"50%\" side=\"left\" fill=\"currentColor\" text-anchor=\"middle\">aux</textPath>\n",
       "    </text>\n",
       "    <path class=\"displacy-arrowhead\" d=\"M2170,529.0 L2162,517.0 2178,517.0\" fill=\"currentColor\"/>\n",
       "</g>\n",
       "\n",
       "<g class=\"displacy-arrow\">\n",
       "    <path class=\"displacy-arc\" id=\"arrow-7ac334f8cc3548e8a0edf27ddc988350-0-13\" stroke-width=\"2px\" d=\"M2345,527.0 C2345,439.5 2475.0,439.5 2475.0,527.0\" fill=\"none\" stroke=\"currentColor\"/>\n",
       "    <text dy=\"1.25em\" style=\"font-size: 0.8em; letter-spacing: 1px\">\n",
       "        <textPath xlink:href=\"#arrow-7ac334f8cc3548e8a0edf27ddc988350-0-13\" class=\"displacy-label\" startOffset=\"50%\" side=\"left\" fill=\"currentColor\" text-anchor=\"middle\">amod</textPath>\n",
       "    </text>\n",
       "    <path class=\"displacy-arrowhead\" d=\"M2345,529.0 L2337,517.0 2353,517.0\" fill=\"currentColor\"/>\n",
       "</g>\n",
       "\n",
       "<g class=\"displacy-arrow\">\n",
       "    <path class=\"displacy-arc\" id=\"arrow-7ac334f8cc3548e8a0edf27ddc988350-0-14\" stroke-width=\"2px\" d=\"M2170,527.0 C2170,352.0 2480.0,352.0 2480.0,527.0\" fill=\"none\" stroke=\"currentColor\"/>\n",
       "    <text dy=\"1.25em\" style=\"font-size: 0.8em; letter-spacing: 1px\">\n",
       "        <textPath xlink:href=\"#arrow-7ac334f8cc3548e8a0edf27ddc988350-0-14\" class=\"displacy-label\" startOffset=\"50%\" side=\"left\" fill=\"currentColor\" text-anchor=\"middle\">dobj</textPath>\n",
       "    </text>\n",
       "    <path class=\"displacy-arrowhead\" d=\"M2480.0,529.0 L2488.0,517.0 2472.0,517.0\" fill=\"currentColor\"/>\n",
       "</g>\n",
       "\n",
       "<g class=\"displacy-arrow\">\n",
       "    <path class=\"displacy-arc\" id=\"arrow-7ac334f8cc3548e8a0edf27ddc988350-0-15\" stroke-width=\"2px\" d=\"M2520,527.0 C2520,439.5 2650.0,439.5 2650.0,527.0\" fill=\"none\" stroke=\"currentColor\"/>\n",
       "    <text dy=\"1.25em\" style=\"font-size: 0.8em; letter-spacing: 1px\">\n",
       "        <textPath xlink:href=\"#arrow-7ac334f8cc3548e8a0edf27ddc988350-0-15\" class=\"displacy-label\" startOffset=\"50%\" side=\"left\" fill=\"currentColor\" text-anchor=\"middle\">prep</textPath>\n",
       "    </text>\n",
       "    <path class=\"displacy-arrowhead\" d=\"M2650.0,529.0 L2658.0,517.0 2642.0,517.0\" fill=\"currentColor\"/>\n",
       "</g>\n",
       "\n",
       "<g class=\"displacy-arrow\">\n",
       "    <path class=\"displacy-arc\" id=\"arrow-7ac334f8cc3548e8a0edf27ddc988350-0-16\" stroke-width=\"2px\" d=\"M2695,527.0 C2695,439.5 2825.0,439.5 2825.0,527.0\" fill=\"none\" stroke=\"currentColor\"/>\n",
       "    <text dy=\"1.25em\" style=\"font-size: 0.8em; letter-spacing: 1px\">\n",
       "        <textPath xlink:href=\"#arrow-7ac334f8cc3548e8a0edf27ddc988350-0-16\" class=\"displacy-label\" startOffset=\"50%\" side=\"left\" fill=\"currentColor\" text-anchor=\"middle\">pobj</textPath>\n",
       "    </text>\n",
       "    <path class=\"displacy-arrowhead\" d=\"M2825.0,529.0 L2833.0,517.0 2817.0,517.0\" fill=\"currentColor\"/>\n",
       "</g>\n",
       "\n",
       "<g class=\"displacy-arrow\">\n",
       "    <path class=\"displacy-arc\" id=\"arrow-7ac334f8cc3548e8a0edf27ddc988350-0-17\" stroke-width=\"2px\" d=\"M3045,527.0 C3045,352.0 3355.0,352.0 3355.0,527.0\" fill=\"none\" stroke=\"currentColor\"/>\n",
       "    <text dy=\"1.25em\" style=\"font-size: 0.8em; letter-spacing: 1px\">\n",
       "        <textPath xlink:href=\"#arrow-7ac334f8cc3548e8a0edf27ddc988350-0-17\" class=\"displacy-label\" startOffset=\"50%\" side=\"left\" fill=\"currentColor\" text-anchor=\"middle\">nsubj</textPath>\n",
       "    </text>\n",
       "    <path class=\"displacy-arrowhead\" d=\"M3045,529.0 L3037,517.0 3053,517.0\" fill=\"currentColor\"/>\n",
       "</g>\n",
       "\n",
       "<g class=\"displacy-arrow\">\n",
       "    <path class=\"displacy-arc\" id=\"arrow-7ac334f8cc3548e8a0edf27ddc988350-0-18\" stroke-width=\"2px\" d=\"M3220,527.0 C3220,439.5 3350.0,439.5 3350.0,527.0\" fill=\"none\" stroke=\"currentColor\"/>\n",
       "    <text dy=\"1.25em\" style=\"font-size: 0.8em; letter-spacing: 1px\">\n",
       "        <textPath xlink:href=\"#arrow-7ac334f8cc3548e8a0edf27ddc988350-0-18\" class=\"displacy-label\" startOffset=\"50%\" side=\"left\" fill=\"currentColor\" text-anchor=\"middle\">neg</textPath>\n",
       "    </text>\n",
       "    <path class=\"displacy-arrowhead\" d=\"M3220,529.0 L3212,517.0 3228,517.0\" fill=\"currentColor\"/>\n",
       "</g>\n",
       "\n",
       "<g class=\"displacy-arrow\">\n",
       "    <path class=\"displacy-arc\" id=\"arrow-7ac334f8cc3548e8a0edf27ddc988350-0-19\" stroke-width=\"2px\" d=\"M2870,527.0 C2870,264.5 3360.0,264.5 3360.0,527.0\" fill=\"none\" stroke=\"currentColor\"/>\n",
       "    <text dy=\"1.25em\" style=\"font-size: 0.8em; letter-spacing: 1px\">\n",
       "        <textPath xlink:href=\"#arrow-7ac334f8cc3548e8a0edf27ddc988350-0-19\" class=\"displacy-label\" startOffset=\"50%\" side=\"left\" fill=\"currentColor\" text-anchor=\"middle\">relcl</textPath>\n",
       "    </text>\n",
       "    <path class=\"displacy-arrowhead\" d=\"M3360.0,529.0 L3368.0,517.0 3352.0,517.0\" fill=\"currentColor\"/>\n",
       "</g>\n",
       "\n",
       "<g class=\"displacy-arrow\">\n",
       "    <path class=\"displacy-arc\" id=\"arrow-7ac334f8cc3548e8a0edf27ddc988350-0-20\" stroke-width=\"2px\" d=\"M3395,527.0 C3395,439.5 3525.0,439.5 3525.0,527.0\" fill=\"none\" stroke=\"currentColor\"/>\n",
       "    <text dy=\"1.25em\" style=\"font-size: 0.8em; letter-spacing: 1px\">\n",
       "        <textPath xlink:href=\"#arrow-7ac334f8cc3548e8a0edf27ddc988350-0-20\" class=\"displacy-label\" startOffset=\"50%\" side=\"left\" fill=\"currentColor\" text-anchor=\"middle\">dobj</textPath>\n",
       "    </text>\n",
       "    <path class=\"displacy-arrowhead\" d=\"M3525.0,529.0 L3533.0,517.0 3517.0,517.0\" fill=\"currentColor\"/>\n",
       "</g>\n",
       "\n",
       "<g class=\"displacy-arrow\">\n",
       "    <path class=\"displacy-arc\" id=\"arrow-7ac334f8cc3548e8a0edf27ddc988350-0-21\" stroke-width=\"2px\" d=\"M3745,527.0 C3745,352.0 4055.0,352.0 4055.0,527.0\" fill=\"none\" stroke=\"currentColor\"/>\n",
       "    <text dy=\"1.25em\" style=\"font-size: 0.8em; letter-spacing: 1px\">\n",
       "        <textPath xlink:href=\"#arrow-7ac334f8cc3548e8a0edf27ddc988350-0-21\" class=\"displacy-label\" startOffset=\"50%\" side=\"left\" fill=\"currentColor\" text-anchor=\"middle\">mark</textPath>\n",
       "    </text>\n",
       "    <path class=\"displacy-arrowhead\" d=\"M3745,529.0 L3737,517.0 3753,517.0\" fill=\"currentColor\"/>\n",
       "</g>\n",
       "\n",
       "<g class=\"displacy-arrow\">\n",
       "    <path class=\"displacy-arc\" id=\"arrow-7ac334f8cc3548e8a0edf27ddc988350-0-22\" stroke-width=\"2px\" d=\"M3920,527.0 C3920,439.5 4050.0,439.5 4050.0,527.0\" fill=\"none\" stroke=\"currentColor\"/>\n",
       "    <text dy=\"1.25em\" style=\"font-size: 0.8em; letter-spacing: 1px\">\n",
       "        <textPath xlink:href=\"#arrow-7ac334f8cc3548e8a0edf27ddc988350-0-22\" class=\"displacy-label\" startOffset=\"50%\" side=\"left\" fill=\"currentColor\" text-anchor=\"middle\">nsubj</textPath>\n",
       "    </text>\n",
       "    <path class=\"displacy-arrowhead\" d=\"M3920,529.0 L3912,517.0 3928,517.0\" fill=\"currentColor\"/>\n",
       "</g>\n",
       "\n",
       "<g class=\"displacy-arrow\">\n",
       "    <path class=\"displacy-arc\" id=\"arrow-7ac334f8cc3548e8a0edf27ddc988350-0-23\" stroke-width=\"2px\" d=\"M3570,527.0 C3570,264.5 4060.0,264.5 4060.0,527.0\" fill=\"none\" stroke=\"currentColor\"/>\n",
       "    <text dy=\"1.25em\" style=\"font-size: 0.8em; letter-spacing: 1px\">\n",
       "        <textPath xlink:href=\"#arrow-7ac334f8cc3548e8a0edf27ddc988350-0-23\" class=\"displacy-label\" startOffset=\"50%\" side=\"left\" fill=\"currentColor\" text-anchor=\"middle\">advcl</textPath>\n",
       "    </text>\n",
       "    <path class=\"displacy-arrowhead\" d=\"M4060.0,529.0 L4068.0,517.0 4052.0,517.0\" fill=\"currentColor\"/>\n",
       "</g>\n",
       "\n",
       "<g class=\"displacy-arrow\">\n",
       "    <path class=\"displacy-arc\" id=\"arrow-7ac334f8cc3548e8a0edf27ddc988350-0-24\" stroke-width=\"2px\" d=\"M4445,527.0 C4445,439.5 4575.0,439.5 4575.0,527.0\" fill=\"none\" stroke=\"currentColor\"/>\n",
       "    <text dy=\"1.25em\" style=\"font-size: 0.8em; letter-spacing: 1px\">\n",
       "        <textPath xlink:href=\"#arrow-7ac334f8cc3548e8a0edf27ddc988350-0-24\" class=\"displacy-label\" startOffset=\"50%\" side=\"left\" fill=\"currentColor\" text-anchor=\"middle\">amod</textPath>\n",
       "    </text>\n",
       "    <path class=\"displacy-arrowhead\" d=\"M4445,529.0 L4437,517.0 4453,517.0\" fill=\"currentColor\"/>\n",
       "</g>\n",
       "\n",
       "<g class=\"displacy-arrow\">\n",
       "    <path class=\"displacy-arc\" id=\"arrow-7ac334f8cc3548e8a0edf27ddc988350-0-25\" stroke-width=\"2px\" d=\"M4270,527.0 C4270,352.0 4580.0,352.0 4580.0,527.0\" fill=\"none\" stroke=\"currentColor\"/>\n",
       "    <text dy=\"1.25em\" style=\"font-size: 0.8em; letter-spacing: 1px\">\n",
       "        <textPath xlink:href=\"#arrow-7ac334f8cc3548e8a0edf27ddc988350-0-25\" class=\"displacy-label\" startOffset=\"50%\" side=\"left\" fill=\"currentColor\" text-anchor=\"middle\">advcl</textPath>\n",
       "    </text>\n",
       "    <path class=\"displacy-arrowhead\" d=\"M4580.0,529.0 L4588.0,517.0 4572.0,517.0\" fill=\"currentColor\"/>\n",
       "</g>\n",
       "\n",
       "<g class=\"displacy-arrow\">\n",
       "    <path class=\"displacy-arc\" id=\"arrow-7ac334f8cc3548e8a0edf27ddc988350-0-26\" stroke-width=\"2px\" d=\"M4270,527.0 C4270,264.5 4760.0,264.5 4760.0,527.0\" fill=\"none\" stroke=\"currentColor\"/>\n",
       "    <text dy=\"1.25em\" style=\"font-size: 0.8em; letter-spacing: 1px\">\n",
       "        <textPath xlink:href=\"#arrow-7ac334f8cc3548e8a0edf27ddc988350-0-26\" class=\"displacy-label\" startOffset=\"50%\" side=\"left\" fill=\"currentColor\" text-anchor=\"middle\">acomp</textPath>\n",
       "    </text>\n",
       "    <path class=\"displacy-arrowhead\" d=\"M4760.0,529.0 L4768.0,517.0 4752.0,517.0\" fill=\"currentColor\"/>\n",
       "</g>\n",
       "</svg></span>"
      ],
      "text/plain": [
       "<IPython.core.display.HTML object>"
      ]
     },
     "metadata": {},
     "output_type": "display_data"
    },
    {
     "name": "stdout",
     "output_type": "stream",
     "text": [
      "NAMED ENTITY RECOGNITION:\n",
      "\n",
      "\n",
      "\n",
      "TWEET: ready supermarket during the outbreak not because paranoid but because food stock litteraly empty the serious thing but please don panic causes shortage\n",
      "\n",
      "PARTS OF SPEECH:\n",
      "ready = ADJ\n",
      "supermarket = NOUN\n",
      "during = ADP\n",
      "the = DET\n",
      "outbreak = NOUN\n",
      "not = PART\n",
      "because = SCONJ\n",
      "paranoid = ADJ\n",
      "but = CCONJ\n",
      "because = SCONJ\n",
      "food = NOUN\n",
      "stock = PROPN\n",
      "litteraly = PROPN\n",
      "empty = VERB\n",
      "the = DET\n",
      "serious = ADJ\n",
      "thing = NOUN\n",
      "but = CCONJ\n",
      "please = INTJ\n",
      "don = PROPN\n",
      "panic = NOUN\n",
      "causes = VERB\n",
      "shortage = NOUN\n",
      "\n",
      "DEPENDENCY PARSER:\n"
     ]
    },
    {
     "data": {
      "text/html": [
       "<span class=\"tex2jax_ignore\"><svg xmlns=\"http://www.w3.org/2000/svg\" xmlns:xlink=\"http://www.w3.org/1999/xlink\" xml:lang=\"en\" id=\"41d9e6c2d8964a6095d1346a0c127a33-0\" class=\"displacy\" width=\"4075\" height=\"662.0\" direction=\"ltr\" style=\"max-width: none; height: 662.0px; color: #000000; background: #ffffff; font-family: Arial; direction: ltr\">\n",
       "<text class=\"displacy-token\" fill=\"currentColor\" text-anchor=\"middle\" y=\"572.0\">\n",
       "    <tspan class=\"displacy-word\" fill=\"currentColor\" x=\"50\">ready</tspan>\n",
       "    <tspan class=\"displacy-tag\" dy=\"2em\" fill=\"currentColor\" x=\"50\">ADJ</tspan>\n",
       "</text>\n",
       "\n",
       "<text class=\"displacy-token\" fill=\"currentColor\" text-anchor=\"middle\" y=\"572.0\">\n",
       "    <tspan class=\"displacy-word\" fill=\"currentColor\" x=\"225\">supermarket</tspan>\n",
       "    <tspan class=\"displacy-tag\" dy=\"2em\" fill=\"currentColor\" x=\"225\">NOUN</tspan>\n",
       "</text>\n",
       "\n",
       "<text class=\"displacy-token\" fill=\"currentColor\" text-anchor=\"middle\" y=\"572.0\">\n",
       "    <tspan class=\"displacy-word\" fill=\"currentColor\" x=\"400\">during</tspan>\n",
       "    <tspan class=\"displacy-tag\" dy=\"2em\" fill=\"currentColor\" x=\"400\">ADP</tspan>\n",
       "</text>\n",
       "\n",
       "<text class=\"displacy-token\" fill=\"currentColor\" text-anchor=\"middle\" y=\"572.0\">\n",
       "    <tspan class=\"displacy-word\" fill=\"currentColor\" x=\"575\">the</tspan>\n",
       "    <tspan class=\"displacy-tag\" dy=\"2em\" fill=\"currentColor\" x=\"575\">DET</tspan>\n",
       "</text>\n",
       "\n",
       "<text class=\"displacy-token\" fill=\"currentColor\" text-anchor=\"middle\" y=\"572.0\">\n",
       "    <tspan class=\"displacy-word\" fill=\"currentColor\" x=\"750\">outbreak</tspan>\n",
       "    <tspan class=\"displacy-tag\" dy=\"2em\" fill=\"currentColor\" x=\"750\">NOUN</tspan>\n",
       "</text>\n",
       "\n",
       "<text class=\"displacy-token\" fill=\"currentColor\" text-anchor=\"middle\" y=\"572.0\">\n",
       "    <tspan class=\"displacy-word\" fill=\"currentColor\" x=\"925\">not</tspan>\n",
       "    <tspan class=\"displacy-tag\" dy=\"2em\" fill=\"currentColor\" x=\"925\">PART</tspan>\n",
       "</text>\n",
       "\n",
       "<text class=\"displacy-token\" fill=\"currentColor\" text-anchor=\"middle\" y=\"572.0\">\n",
       "    <tspan class=\"displacy-word\" fill=\"currentColor\" x=\"1100\">because</tspan>\n",
       "    <tspan class=\"displacy-tag\" dy=\"2em\" fill=\"currentColor\" x=\"1100\">SCONJ</tspan>\n",
       "</text>\n",
       "\n",
       "<text class=\"displacy-token\" fill=\"currentColor\" text-anchor=\"middle\" y=\"572.0\">\n",
       "    <tspan class=\"displacy-word\" fill=\"currentColor\" x=\"1275\">paranoid</tspan>\n",
       "    <tspan class=\"displacy-tag\" dy=\"2em\" fill=\"currentColor\" x=\"1275\">ADJ</tspan>\n",
       "</text>\n",
       "\n",
       "<text class=\"displacy-token\" fill=\"currentColor\" text-anchor=\"middle\" y=\"572.0\">\n",
       "    <tspan class=\"displacy-word\" fill=\"currentColor\" x=\"1450\">but</tspan>\n",
       "    <tspan class=\"displacy-tag\" dy=\"2em\" fill=\"currentColor\" x=\"1450\">CCONJ</tspan>\n",
       "</text>\n",
       "\n",
       "<text class=\"displacy-token\" fill=\"currentColor\" text-anchor=\"middle\" y=\"572.0\">\n",
       "    <tspan class=\"displacy-word\" fill=\"currentColor\" x=\"1625\">because</tspan>\n",
       "    <tspan class=\"displacy-tag\" dy=\"2em\" fill=\"currentColor\" x=\"1625\">SCONJ</tspan>\n",
       "</text>\n",
       "\n",
       "<text class=\"displacy-token\" fill=\"currentColor\" text-anchor=\"middle\" y=\"572.0\">\n",
       "    <tspan class=\"displacy-word\" fill=\"currentColor\" x=\"1800\">food</tspan>\n",
       "    <tspan class=\"displacy-tag\" dy=\"2em\" fill=\"currentColor\" x=\"1800\">NOUN</tspan>\n",
       "</text>\n",
       "\n",
       "<text class=\"displacy-token\" fill=\"currentColor\" text-anchor=\"middle\" y=\"572.0\">\n",
       "    <tspan class=\"displacy-word\" fill=\"currentColor\" x=\"1975\">stock</tspan>\n",
       "    <tspan class=\"displacy-tag\" dy=\"2em\" fill=\"currentColor\" x=\"1975\">PROPN</tspan>\n",
       "</text>\n",
       "\n",
       "<text class=\"displacy-token\" fill=\"currentColor\" text-anchor=\"middle\" y=\"572.0\">\n",
       "    <tspan class=\"displacy-word\" fill=\"currentColor\" x=\"2150\">litteraly</tspan>\n",
       "    <tspan class=\"displacy-tag\" dy=\"2em\" fill=\"currentColor\" x=\"2150\">PROPN</tspan>\n",
       "</text>\n",
       "\n",
       "<text class=\"displacy-token\" fill=\"currentColor\" text-anchor=\"middle\" y=\"572.0\">\n",
       "    <tspan class=\"displacy-word\" fill=\"currentColor\" x=\"2325\">empty</tspan>\n",
       "    <tspan class=\"displacy-tag\" dy=\"2em\" fill=\"currentColor\" x=\"2325\">VERB</tspan>\n",
       "</text>\n",
       "\n",
       "<text class=\"displacy-token\" fill=\"currentColor\" text-anchor=\"middle\" y=\"572.0\">\n",
       "    <tspan class=\"displacy-word\" fill=\"currentColor\" x=\"2500\">the</tspan>\n",
       "    <tspan class=\"displacy-tag\" dy=\"2em\" fill=\"currentColor\" x=\"2500\">DET</tspan>\n",
       "</text>\n",
       "\n",
       "<text class=\"displacy-token\" fill=\"currentColor\" text-anchor=\"middle\" y=\"572.0\">\n",
       "    <tspan class=\"displacy-word\" fill=\"currentColor\" x=\"2675\">serious</tspan>\n",
       "    <tspan class=\"displacy-tag\" dy=\"2em\" fill=\"currentColor\" x=\"2675\">ADJ</tspan>\n",
       "</text>\n",
       "\n",
       "<text class=\"displacy-token\" fill=\"currentColor\" text-anchor=\"middle\" y=\"572.0\">\n",
       "    <tspan class=\"displacy-word\" fill=\"currentColor\" x=\"2850\">thing</tspan>\n",
       "    <tspan class=\"displacy-tag\" dy=\"2em\" fill=\"currentColor\" x=\"2850\">NOUN</tspan>\n",
       "</text>\n",
       "\n",
       "<text class=\"displacy-token\" fill=\"currentColor\" text-anchor=\"middle\" y=\"572.0\">\n",
       "    <tspan class=\"displacy-word\" fill=\"currentColor\" x=\"3025\">but</tspan>\n",
       "    <tspan class=\"displacy-tag\" dy=\"2em\" fill=\"currentColor\" x=\"3025\">CCONJ</tspan>\n",
       "</text>\n",
       "\n",
       "<text class=\"displacy-token\" fill=\"currentColor\" text-anchor=\"middle\" y=\"572.0\">\n",
       "    <tspan class=\"displacy-word\" fill=\"currentColor\" x=\"3200\">please</tspan>\n",
       "    <tspan class=\"displacy-tag\" dy=\"2em\" fill=\"currentColor\" x=\"3200\">INTJ</tspan>\n",
       "</text>\n",
       "\n",
       "<text class=\"displacy-token\" fill=\"currentColor\" text-anchor=\"middle\" y=\"572.0\">\n",
       "    <tspan class=\"displacy-word\" fill=\"currentColor\" x=\"3375\">don</tspan>\n",
       "    <tspan class=\"displacy-tag\" dy=\"2em\" fill=\"currentColor\" x=\"3375\">PROPN</tspan>\n",
       "</text>\n",
       "\n",
       "<text class=\"displacy-token\" fill=\"currentColor\" text-anchor=\"middle\" y=\"572.0\">\n",
       "    <tspan class=\"displacy-word\" fill=\"currentColor\" x=\"3550\">panic</tspan>\n",
       "    <tspan class=\"displacy-tag\" dy=\"2em\" fill=\"currentColor\" x=\"3550\">NOUN</tspan>\n",
       "</text>\n",
       "\n",
       "<text class=\"displacy-token\" fill=\"currentColor\" text-anchor=\"middle\" y=\"572.0\">\n",
       "    <tspan class=\"displacy-word\" fill=\"currentColor\" x=\"3725\">causes</tspan>\n",
       "    <tspan class=\"displacy-tag\" dy=\"2em\" fill=\"currentColor\" x=\"3725\">VERB</tspan>\n",
       "</text>\n",
       "\n",
       "<text class=\"displacy-token\" fill=\"currentColor\" text-anchor=\"middle\" y=\"572.0\">\n",
       "    <tspan class=\"displacy-word\" fill=\"currentColor\" x=\"3900\">shortage</tspan>\n",
       "    <tspan class=\"displacy-tag\" dy=\"2em\" fill=\"currentColor\" x=\"3900\">NOUN</tspan>\n",
       "</text>\n",
       "\n",
       "<g class=\"displacy-arrow\">\n",
       "    <path class=\"displacy-arc\" id=\"arrow-41d9e6c2d8964a6095d1346a0c127a33-0-0\" stroke-width=\"2px\" d=\"M70,527.0 C70,439.5 200.0,439.5 200.0,527.0\" fill=\"none\" stroke=\"currentColor\"/>\n",
       "    <text dy=\"1.25em\" style=\"font-size: 0.8em; letter-spacing: 1px\">\n",
       "        <textPath xlink:href=\"#arrow-41d9e6c2d8964a6095d1346a0c127a33-0-0\" class=\"displacy-label\" startOffset=\"50%\" side=\"left\" fill=\"currentColor\" text-anchor=\"middle\">amod</textPath>\n",
       "    </text>\n",
       "    <path class=\"displacy-arrowhead\" d=\"M70,529.0 L62,517.0 78,517.0\" fill=\"currentColor\"/>\n",
       "</g>\n",
       "\n",
       "<g class=\"displacy-arrow\">\n",
       "    <path class=\"displacy-arc\" id=\"arrow-41d9e6c2d8964a6095d1346a0c127a33-0-1\" stroke-width=\"2px\" d=\"M245,527.0 C245,439.5 375.0,439.5 375.0,527.0\" fill=\"none\" stroke=\"currentColor\"/>\n",
       "    <text dy=\"1.25em\" style=\"font-size: 0.8em; letter-spacing: 1px\">\n",
       "        <textPath xlink:href=\"#arrow-41d9e6c2d8964a6095d1346a0c127a33-0-1\" class=\"displacy-label\" startOffset=\"50%\" side=\"left\" fill=\"currentColor\" text-anchor=\"middle\">prep</textPath>\n",
       "    </text>\n",
       "    <path class=\"displacy-arrowhead\" d=\"M375.0,529.0 L383.0,517.0 367.0,517.0\" fill=\"currentColor\"/>\n",
       "</g>\n",
       "\n",
       "<g class=\"displacy-arrow\">\n",
       "    <path class=\"displacy-arc\" id=\"arrow-41d9e6c2d8964a6095d1346a0c127a33-0-2\" stroke-width=\"2px\" d=\"M595,527.0 C595,439.5 725.0,439.5 725.0,527.0\" fill=\"none\" stroke=\"currentColor\"/>\n",
       "    <text dy=\"1.25em\" style=\"font-size: 0.8em; letter-spacing: 1px\">\n",
       "        <textPath xlink:href=\"#arrow-41d9e6c2d8964a6095d1346a0c127a33-0-2\" class=\"displacy-label\" startOffset=\"50%\" side=\"left\" fill=\"currentColor\" text-anchor=\"middle\">det</textPath>\n",
       "    </text>\n",
       "    <path class=\"displacy-arrowhead\" d=\"M595,529.0 L587,517.0 603,517.0\" fill=\"currentColor\"/>\n",
       "</g>\n",
       "\n",
       "<g class=\"displacy-arrow\">\n",
       "    <path class=\"displacy-arc\" id=\"arrow-41d9e6c2d8964a6095d1346a0c127a33-0-3\" stroke-width=\"2px\" d=\"M420,527.0 C420,352.0 730.0,352.0 730.0,527.0\" fill=\"none\" stroke=\"currentColor\"/>\n",
       "    <text dy=\"1.25em\" style=\"font-size: 0.8em; letter-spacing: 1px\">\n",
       "        <textPath xlink:href=\"#arrow-41d9e6c2d8964a6095d1346a0c127a33-0-3\" class=\"displacy-label\" startOffset=\"50%\" side=\"left\" fill=\"currentColor\" text-anchor=\"middle\">pobj</textPath>\n",
       "    </text>\n",
       "    <path class=\"displacy-arrowhead\" d=\"M730.0,529.0 L738.0,517.0 722.0,517.0\" fill=\"currentColor\"/>\n",
       "</g>\n",
       "\n",
       "<g class=\"displacy-arrow\">\n",
       "    <path class=\"displacy-arc\" id=\"arrow-41d9e6c2d8964a6095d1346a0c127a33-0-4\" stroke-width=\"2px\" d=\"M945,527.0 C945,439.5 1075.0,439.5 1075.0,527.0\" fill=\"none\" stroke=\"currentColor\"/>\n",
       "    <text dy=\"1.25em\" style=\"font-size: 0.8em; letter-spacing: 1px\">\n",
       "        <textPath xlink:href=\"#arrow-41d9e6c2d8964a6095d1346a0c127a33-0-4\" class=\"displacy-label\" startOffset=\"50%\" side=\"left\" fill=\"currentColor\" text-anchor=\"middle\">neg</textPath>\n",
       "    </text>\n",
       "    <path class=\"displacy-arrowhead\" d=\"M945,529.0 L937,517.0 953,517.0\" fill=\"currentColor\"/>\n",
       "</g>\n",
       "\n",
       "<g class=\"displacy-arrow\">\n",
       "    <path class=\"displacy-arc\" id=\"arrow-41d9e6c2d8964a6095d1346a0c127a33-0-5\" stroke-width=\"2px\" d=\"M1120,527.0 C1120,439.5 1250.0,439.5 1250.0,527.0\" fill=\"none\" stroke=\"currentColor\"/>\n",
       "    <text dy=\"1.25em\" style=\"font-size: 0.8em; letter-spacing: 1px\">\n",
       "        <textPath xlink:href=\"#arrow-41d9e6c2d8964a6095d1346a0c127a33-0-5\" class=\"displacy-label\" startOffset=\"50%\" side=\"left\" fill=\"currentColor\" text-anchor=\"middle\">mark</textPath>\n",
       "    </text>\n",
       "    <path class=\"displacy-arrowhead\" d=\"M1120,529.0 L1112,517.0 1128,517.0\" fill=\"currentColor\"/>\n",
       "</g>\n",
       "\n",
       "<g class=\"displacy-arrow\">\n",
       "    <path class=\"displacy-arc\" id=\"arrow-41d9e6c2d8964a6095d1346a0c127a33-0-6\" stroke-width=\"2px\" d=\"M245,527.0 C245,264.5 1260.0,264.5 1260.0,527.0\" fill=\"none\" stroke=\"currentColor\"/>\n",
       "    <text dy=\"1.25em\" style=\"font-size: 0.8em; letter-spacing: 1px\">\n",
       "        <textPath xlink:href=\"#arrow-41d9e6c2d8964a6095d1346a0c127a33-0-6\" class=\"displacy-label\" startOffset=\"50%\" side=\"left\" fill=\"currentColor\" text-anchor=\"middle\">advcl</textPath>\n",
       "    </text>\n",
       "    <path class=\"displacy-arrowhead\" d=\"M1260.0,529.0 L1268.0,517.0 1252.0,517.0\" fill=\"currentColor\"/>\n",
       "</g>\n",
       "\n",
       "<g class=\"displacy-arrow\">\n",
       "    <path class=\"displacy-arc\" id=\"arrow-41d9e6c2d8964a6095d1346a0c127a33-0-7\" stroke-width=\"2px\" d=\"M245,527.0 C245,177.0 1440.0,177.0 1440.0,527.0\" fill=\"none\" stroke=\"currentColor\"/>\n",
       "    <text dy=\"1.25em\" style=\"font-size: 0.8em; letter-spacing: 1px\">\n",
       "        <textPath xlink:href=\"#arrow-41d9e6c2d8964a6095d1346a0c127a33-0-7\" class=\"displacy-label\" startOffset=\"50%\" side=\"left\" fill=\"currentColor\" text-anchor=\"middle\">cc</textPath>\n",
       "    </text>\n",
       "    <path class=\"displacy-arrowhead\" d=\"M1440.0,529.0 L1448.0,517.0 1432.0,517.0\" fill=\"currentColor\"/>\n",
       "</g>\n",
       "\n",
       "<g class=\"displacy-arrow\">\n",
       "    <path class=\"displacy-arc\" id=\"arrow-41d9e6c2d8964a6095d1346a0c127a33-0-8\" stroke-width=\"2px\" d=\"M1645,527.0 C1645,352.0 2305.0,352.0 2305.0,527.0\" fill=\"none\" stroke=\"currentColor\"/>\n",
       "    <text dy=\"1.25em\" style=\"font-size: 0.8em; letter-spacing: 1px\">\n",
       "        <textPath xlink:href=\"#arrow-41d9e6c2d8964a6095d1346a0c127a33-0-8\" class=\"displacy-label\" startOffset=\"50%\" side=\"left\" fill=\"currentColor\" text-anchor=\"middle\">mark</textPath>\n",
       "    </text>\n",
       "    <path class=\"displacy-arrowhead\" d=\"M1645,529.0 L1637,517.0 1653,517.0\" fill=\"currentColor\"/>\n",
       "</g>\n",
       "\n",
       "<g class=\"displacy-arrow\">\n",
       "    <path class=\"displacy-arc\" id=\"arrow-41d9e6c2d8964a6095d1346a0c127a33-0-9\" stroke-width=\"2px\" d=\"M1820,527.0 C1820,439.5 1950.0,439.5 1950.0,527.0\" fill=\"none\" stroke=\"currentColor\"/>\n",
       "    <text dy=\"1.25em\" style=\"font-size: 0.8em; letter-spacing: 1px\">\n",
       "        <textPath xlink:href=\"#arrow-41d9e6c2d8964a6095d1346a0c127a33-0-9\" class=\"displacy-label\" startOffset=\"50%\" side=\"left\" fill=\"currentColor\" text-anchor=\"middle\">compound</textPath>\n",
       "    </text>\n",
       "    <path class=\"displacy-arrowhead\" d=\"M1820,529.0 L1812,517.0 1828,517.0\" fill=\"currentColor\"/>\n",
       "</g>\n",
       "\n",
       "<g class=\"displacy-arrow\">\n",
       "    <path class=\"displacy-arc\" id=\"arrow-41d9e6c2d8964a6095d1346a0c127a33-0-10\" stroke-width=\"2px\" d=\"M1995,527.0 C1995,439.5 2125.0,439.5 2125.0,527.0\" fill=\"none\" stroke=\"currentColor\"/>\n",
       "    <text dy=\"1.25em\" style=\"font-size: 0.8em; letter-spacing: 1px\">\n",
       "        <textPath xlink:href=\"#arrow-41d9e6c2d8964a6095d1346a0c127a33-0-10\" class=\"displacy-label\" startOffset=\"50%\" side=\"left\" fill=\"currentColor\" text-anchor=\"middle\">compound</textPath>\n",
       "    </text>\n",
       "    <path class=\"displacy-arrowhead\" d=\"M1995,529.0 L1987,517.0 2003,517.0\" fill=\"currentColor\"/>\n",
       "</g>\n",
       "\n",
       "<g class=\"displacy-arrow\">\n",
       "    <path class=\"displacy-arc\" id=\"arrow-41d9e6c2d8964a6095d1346a0c127a33-0-11\" stroke-width=\"2px\" d=\"M2170,527.0 C2170,439.5 2300.0,439.5 2300.0,527.0\" fill=\"none\" stroke=\"currentColor\"/>\n",
       "    <text dy=\"1.25em\" style=\"font-size: 0.8em; letter-spacing: 1px\">\n",
       "        <textPath xlink:href=\"#arrow-41d9e6c2d8964a6095d1346a0c127a33-0-11\" class=\"displacy-label\" startOffset=\"50%\" side=\"left\" fill=\"currentColor\" text-anchor=\"middle\">nsubj</textPath>\n",
       "    </text>\n",
       "    <path class=\"displacy-arrowhead\" d=\"M2170,529.0 L2162,517.0 2178,517.0\" fill=\"currentColor\"/>\n",
       "</g>\n",
       "\n",
       "<g class=\"displacy-arrow\">\n",
       "    <path class=\"displacy-arc\" id=\"arrow-41d9e6c2d8964a6095d1346a0c127a33-0-12\" stroke-width=\"2px\" d=\"M245,527.0 C245,89.5 2320.0,89.5 2320.0,527.0\" fill=\"none\" stroke=\"currentColor\"/>\n",
       "    <text dy=\"1.25em\" style=\"font-size: 0.8em; letter-spacing: 1px\">\n",
       "        <textPath xlink:href=\"#arrow-41d9e6c2d8964a6095d1346a0c127a33-0-12\" class=\"displacy-label\" startOffset=\"50%\" side=\"left\" fill=\"currentColor\" text-anchor=\"middle\">conj</textPath>\n",
       "    </text>\n",
       "    <path class=\"displacy-arrowhead\" d=\"M2320.0,529.0 L2328.0,517.0 2312.0,517.0\" fill=\"currentColor\"/>\n",
       "</g>\n",
       "\n",
       "<g class=\"displacy-arrow\">\n",
       "    <path class=\"displacy-arc\" id=\"arrow-41d9e6c2d8964a6095d1346a0c127a33-0-13\" stroke-width=\"2px\" d=\"M2520,527.0 C2520,352.0 2830.0,352.0 2830.0,527.0\" fill=\"none\" stroke=\"currentColor\"/>\n",
       "    <text dy=\"1.25em\" style=\"font-size: 0.8em; letter-spacing: 1px\">\n",
       "        <textPath xlink:href=\"#arrow-41d9e6c2d8964a6095d1346a0c127a33-0-13\" class=\"displacy-label\" startOffset=\"50%\" side=\"left\" fill=\"currentColor\" text-anchor=\"middle\">det</textPath>\n",
       "    </text>\n",
       "    <path class=\"displacy-arrowhead\" d=\"M2520,529.0 L2512,517.0 2528,517.0\" fill=\"currentColor\"/>\n",
       "</g>\n",
       "\n",
       "<g class=\"displacy-arrow\">\n",
       "    <path class=\"displacy-arc\" id=\"arrow-41d9e6c2d8964a6095d1346a0c127a33-0-14\" stroke-width=\"2px\" d=\"M2695,527.0 C2695,439.5 2825.0,439.5 2825.0,527.0\" fill=\"none\" stroke=\"currentColor\"/>\n",
       "    <text dy=\"1.25em\" style=\"font-size: 0.8em; letter-spacing: 1px\">\n",
       "        <textPath xlink:href=\"#arrow-41d9e6c2d8964a6095d1346a0c127a33-0-14\" class=\"displacy-label\" startOffset=\"50%\" side=\"left\" fill=\"currentColor\" text-anchor=\"middle\">amod</textPath>\n",
       "    </text>\n",
       "    <path class=\"displacy-arrowhead\" d=\"M2695,529.0 L2687,517.0 2703,517.0\" fill=\"currentColor\"/>\n",
       "</g>\n",
       "\n",
       "<g class=\"displacy-arrow\">\n",
       "    <path class=\"displacy-arc\" id=\"arrow-41d9e6c2d8964a6095d1346a0c127a33-0-15\" stroke-width=\"2px\" d=\"M2345,527.0 C2345,264.5 2835.0,264.5 2835.0,527.0\" fill=\"none\" stroke=\"currentColor\"/>\n",
       "    <text dy=\"1.25em\" style=\"font-size: 0.8em; letter-spacing: 1px\">\n",
       "        <textPath xlink:href=\"#arrow-41d9e6c2d8964a6095d1346a0c127a33-0-15\" class=\"displacy-label\" startOffset=\"50%\" side=\"left\" fill=\"currentColor\" text-anchor=\"middle\">dobj</textPath>\n",
       "    </text>\n",
       "    <path class=\"displacy-arrowhead\" d=\"M2835.0,529.0 L2843.0,517.0 2827.0,517.0\" fill=\"currentColor\"/>\n",
       "</g>\n",
       "\n",
       "<g class=\"displacy-arrow\">\n",
       "    <path class=\"displacy-arc\" id=\"arrow-41d9e6c2d8964a6095d1346a0c127a33-0-16\" stroke-width=\"2px\" d=\"M2345,527.0 C2345,177.0 3015.0,177.0 3015.0,527.0\" fill=\"none\" stroke=\"currentColor\"/>\n",
       "    <text dy=\"1.25em\" style=\"font-size: 0.8em; letter-spacing: 1px\">\n",
       "        <textPath xlink:href=\"#arrow-41d9e6c2d8964a6095d1346a0c127a33-0-16\" class=\"displacy-label\" startOffset=\"50%\" side=\"left\" fill=\"currentColor\" text-anchor=\"middle\">cc</textPath>\n",
       "    </text>\n",
       "    <path class=\"displacy-arrowhead\" d=\"M3015.0,529.0 L3023.0,517.0 3007.0,517.0\" fill=\"currentColor\"/>\n",
       "</g>\n",
       "\n",
       "<g class=\"displacy-arrow\">\n",
       "    <path class=\"displacy-arc\" id=\"arrow-41d9e6c2d8964a6095d1346a0c127a33-0-17\" stroke-width=\"2px\" d=\"M3220,527.0 C3220,352.0 3705.0,352.0 3705.0,527.0\" fill=\"none\" stroke=\"currentColor\"/>\n",
       "    <text dy=\"1.25em\" style=\"font-size: 0.8em; letter-spacing: 1px\">\n",
       "        <textPath xlink:href=\"#arrow-41d9e6c2d8964a6095d1346a0c127a33-0-17\" class=\"displacy-label\" startOffset=\"50%\" side=\"left\" fill=\"currentColor\" text-anchor=\"middle\">intj</textPath>\n",
       "    </text>\n",
       "    <path class=\"displacy-arrowhead\" d=\"M3220,529.0 L3212,517.0 3228,517.0\" fill=\"currentColor\"/>\n",
       "</g>\n",
       "\n",
       "<g class=\"displacy-arrow\">\n",
       "    <path class=\"displacy-arc\" id=\"arrow-41d9e6c2d8964a6095d1346a0c127a33-0-18\" stroke-width=\"2px\" d=\"M3395,527.0 C3395,439.5 3525.0,439.5 3525.0,527.0\" fill=\"none\" stroke=\"currentColor\"/>\n",
       "    <text dy=\"1.25em\" style=\"font-size: 0.8em; letter-spacing: 1px\">\n",
       "        <textPath xlink:href=\"#arrow-41d9e6c2d8964a6095d1346a0c127a33-0-18\" class=\"displacy-label\" startOffset=\"50%\" side=\"left\" fill=\"currentColor\" text-anchor=\"middle\">compound</textPath>\n",
       "    </text>\n",
       "    <path class=\"displacy-arrowhead\" d=\"M3395,529.0 L3387,517.0 3403,517.0\" fill=\"currentColor\"/>\n",
       "</g>\n",
       "\n",
       "<g class=\"displacy-arrow\">\n",
       "    <path class=\"displacy-arc\" id=\"arrow-41d9e6c2d8964a6095d1346a0c127a33-0-19\" stroke-width=\"2px\" d=\"M3570,527.0 C3570,439.5 3700.0,439.5 3700.0,527.0\" fill=\"none\" stroke=\"currentColor\"/>\n",
       "    <text dy=\"1.25em\" style=\"font-size: 0.8em; letter-spacing: 1px\">\n",
       "        <textPath xlink:href=\"#arrow-41d9e6c2d8964a6095d1346a0c127a33-0-19\" class=\"displacy-label\" startOffset=\"50%\" side=\"left\" fill=\"currentColor\" text-anchor=\"middle\">compound</textPath>\n",
       "    </text>\n",
       "    <path class=\"displacy-arrowhead\" d=\"M3570,529.0 L3562,517.0 3578,517.0\" fill=\"currentColor\"/>\n",
       "</g>\n",
       "\n",
       "<g class=\"displacy-arrow\">\n",
       "    <path class=\"displacy-arc\" id=\"arrow-41d9e6c2d8964a6095d1346a0c127a33-0-20\" stroke-width=\"2px\" d=\"M3745,527.0 C3745,439.5 3875.0,439.5 3875.0,527.0\" fill=\"none\" stroke=\"currentColor\"/>\n",
       "    <text dy=\"1.25em\" style=\"font-size: 0.8em; letter-spacing: 1px\">\n",
       "        <textPath xlink:href=\"#arrow-41d9e6c2d8964a6095d1346a0c127a33-0-20\" class=\"displacy-label\" startOffset=\"50%\" side=\"left\" fill=\"currentColor\" text-anchor=\"middle\">compound</textPath>\n",
       "    </text>\n",
       "    <path class=\"displacy-arrowhead\" d=\"M3745,529.0 L3737,517.0 3753,517.0\" fill=\"currentColor\"/>\n",
       "</g>\n",
       "\n",
       "<g class=\"displacy-arrow\">\n",
       "    <path class=\"displacy-arc\" id=\"arrow-41d9e6c2d8964a6095d1346a0c127a33-0-21\" stroke-width=\"2px\" d=\"M245,527.0 C245,2.0 3900.0,2.0 3900.0,527.0\" fill=\"none\" stroke=\"currentColor\"/>\n",
       "    <text dy=\"1.25em\" style=\"font-size: 0.8em; letter-spacing: 1px\">\n",
       "        <textPath xlink:href=\"#arrow-41d9e6c2d8964a6095d1346a0c127a33-0-21\" class=\"displacy-label\" startOffset=\"50%\" side=\"left\" fill=\"currentColor\" text-anchor=\"middle\">appos</textPath>\n",
       "    </text>\n",
       "    <path class=\"displacy-arrowhead\" d=\"M3900.0,529.0 L3908.0,517.0 3892.0,517.0\" fill=\"currentColor\"/>\n",
       "</g>\n",
       "</svg></span>"
      ],
      "text/plain": [
       "<IPython.core.display.HTML object>"
      ]
     },
     "metadata": {},
     "output_type": "display_data"
    },
    {
     "name": "stdout",
     "output_type": "stream",
     "text": [
      "NAMED ENTITY RECOGNITION:\n",
      "\n",
      "\n",
      "\n"
     ]
    }
   ],
   "source": [
    "import spacy\n",
    "\n",
    "nlp = spacy.load(\"en_core_web_sm\")\n",
    "for tweet in train_clean.Tweet_texts[0:5]:\n",
    "    doc = nlp(tweet)\n",
    "    \n",
    "    # print out the tweet\n",
    "    print(\"TWEET:\", tweet)\n",
    "    \n",
    "    # 2.8: part of speech tagging\n",
    "    print(\"\\nPARTS OF SPEECH:\")\n",
    "    for token in doc:\n",
    "        print(token.text, \"=\", token.pos_)\n",
    "    \n",
    "    # 2.9: dependency parser\n",
    "    print(\"\\nDEPENDENCY PARSER:\")\n",
    "    spacy.displacy.render(doc, style = \"dep\", jupyter = True)\n",
    "    \n",
    "    # 2.10: named entity recognition\n",
    "    print(\"NAMED ENTITY RECOGNITION:\")\n",
    "    if doc.ents:\n",
    "        for ent in doc.ents:\n",
    "            print(ent.text, \"=\", ent.label_)\n",
    "    \n",
    "    print(\"\\n\\n\")"
   ]
  },
  {
   "cell_type": "markdown",
   "id": "c5dd5689-ffea-40a2-bbb2-d7d18b0fc27f",
   "metadata": {},
   "source": [
    "**Visualize GEOLOCATION, MONEY, and QUANTITY (2.11).**\n",
    "\n",
    "For 2.11, consider 50 of the training tweets."
   ]
  },
  {
   "cell_type": "code",
   "execution_count": 8,
   "id": "4e639885-e205-41c1-941f-7ab7117c89a0",
   "metadata": {},
   "outputs": [
    {
     "data": {
      "text/html": [
       "<span class=\"tex2jax_ignore\"><div class=\"entities\" style=\"line-height: 2.5; direction: ltr\">\n",
       "<mark class=\"entity\" style=\"background: #feca74; padding: 0.45em 0.6em; margin: 0 0.25em; line-height: 1; border-radius: 0.35em;\">\n",
       "    new zealand\n",
       "    <span style=\"font-size: 0.8em; font-weight: bold; line-height: 1; border-radius: 0.35em; vertical-align: middle; margin-left: 0.5rem\">GPE</span>\n",
       "</mark>\n",
       " went the supermarket last night for usual shop stop taking all the fuckin shit paper and baby supplies disgusted with this behaviour this why going offering 94 old clients shopping for her chill out</div></span>"
      ],
      "text/plain": [
       "<IPython.core.display.HTML object>"
      ]
     },
     "metadata": {},
     "output_type": "display_data"
    },
    {
     "data": {
      "text/html": [
       "<span class=\"tex2jax_ignore\"><div class=\"entities\" style=\"line-height: 2.5; direction: ltr\">\n",
       "<mark class=\"entity\" style=\"background: #feca74; padding: 0.45em 0.6em; margin: 0 0.25em; line-height: 1; border-radius: 0.35em;\">\n",
       "    united kingdom\n",
       "    <span style=\"font-size: 0.8em; font-weight: bold; line-height: 1; border-radius: 0.35em; vertical-align: middle; margin-left: 0.5rem\">GPE</span>\n",
       "</mark>\n",
       " jeez people have learnt the magic spell called empty shelves</div></span>"
      ],
      "text/plain": [
       "<IPython.core.display.HTML object>"
      ]
     },
     "metadata": {},
     "output_type": "display_data"
    },
    {
     "data": {
      "text/html": [
       "<span class=\"tex2jax_ignore\"><div class=\"entities\" style=\"line-height: 2.5; direction: ltr\">the depths findom not even joking think got covid 19 went the supermarket with gloves and sanitiser and not even 5 hours after getting home coughing and have sore throat like ball throat what the actual fuck how quick symptoms appear</div></span>"
      ],
      "text/plain": [
       "<IPython.core.display.HTML object>"
      ]
     },
     "metadata": {},
     "output_type": "display_data"
    },
    {
     "data": {
      "text/html": [
       "<span class=\"tex2jax_ignore\"><div class=\"entities\" style=\"line-height: 2.5; direction: ltr\">don mess with russian cashier</div></span>"
      ],
      "text/plain": [
       "<IPython.core.display.HTML object>"
      ]
     },
     "metadata": {},
     "output_type": "display_data"
    },
    {
     "data": {
      "text/html": [
       "<span class=\"tex2jax_ignore\"><div class=\"entities\" style=\"line-height: 2.5; direction: ltr\">pandemic contagious hygiene health all imp correct missing like the availability such sanitizers discounted prices enuf availability such santizers</div></span>"
      ],
      "text/plain": [
       "<IPython.core.display.HTML object>"
      ]
     },
     "metadata": {},
     "output_type": "display_data"
    },
    {
     "data": {
      "text/html": [
       "<span class=\"tex2jax_ignore\"><div class=\"entities\" style=\"line-height: 2.5; direction: ltr\">central \n",
       "<mark class=\"entity\" style=\"background: #feca74; padding: 0.45em 0.6em; margin: 0 0.25em; line-height: 1; border-radius: 0.35em;\">\n",
       "    texas\n",
       "    <span style=\"font-size: 0.8em; font-weight: bold; line-height: 1; border-radius: 0.35em; vertical-align: middle; margin-left: 0.5rem\">GPE</span>\n",
       "</mark>\n",
       " dear \n",
       "<mark class=\"entity\" style=\"background: #feca74; padding: 0.45em 0.6em; margin: 0 0.25em; line-height: 1; border-radius: 0.35em;\">\n",
       "    america\n",
       "    <span style=\"font-size: 0.8em; font-weight: bold; line-height: 1; border-radius: 0.35em; vertical-align: middle; margin-left: 0.5rem\">GPE</span>\n",
       "</mark>\n",
       " myself and 3 5 million truck driving brothers are hard work bringing the things you need your cities and towns long are moving there reason panic stop then you can panic will not stop</div></span>"
      ],
      "text/plain": [
       "<IPython.core.display.HTML object>"
      ]
     },
     "metadata": {},
     "output_type": "display_data"
    },
    {
     "data": {
      "text/html": [
       "<span class=\"tex2jax_ignore\"><div class=\"entities\" style=\"line-height: 2.5; direction: ltr\">hell don change way special grocery store hrs for seniors will thing urge everyone like category who chronically ill immunocompromised call local grocery store managers amp stress importance including \n",
       "<mark class=\"entity\" style=\"background: #e4e7d2; padding: 0.45em 0.6em; margin: 0 0.25em; line-height: 1; border-radius: 0.35em;\">\n",
       "    133 157 million\n",
       "    <span style=\"font-size: 0.8em; font-weight: bold; line-height: 1; border-radius: 0.35em; vertical-align: middle; margin-left: 0.5rem\">MONEY</span>\n",
       "</mark>\n",
       " chronically ill americans</div></span>"
      ],
      "text/plain": [
       "<IPython.core.display.HTML object>"
      ]
     },
     "metadata": {},
     "output_type": "display_data"
    },
    {
     "data": {
      "text/html": [
       "<span class=\"tex2jax_ignore\"><div class=\"entities\" style=\"line-height: 2.5; direction: ltr\">tldr covid 19 scaring sorry rear end out supermarket</div></span>"
      ],
      "text/plain": [
       "<IPython.core.display.HTML object>"
      ]
     },
     "metadata": {},
     "output_type": "display_data"
    },
    {
     "data": {
      "text/html": [
       "<span class=\"tex2jax_ignore\"><div class=\"entities\" style=\"line-height: 2.5; direction: ltr\">alright swiss government just called emergency status all unnecessary stores are closed and you have disinfect your hands before you enter the supermarket but still the doctor don want take</div></span>"
      ],
      "text/plain": [
       "<IPython.core.display.HTML object>"
      ]
     },
     "metadata": {},
     "output_type": "display_data"
    },
    {
     "data": {
      "text/html": [
       "<span class=\"tex2jax_ignore\"><div class=\"entities\" style=\"line-height: 2.5; direction: ltr\">twilight zone aka \n",
       "<mark class=\"entity\" style=\"background: #feca74; padding: 0.45em 0.6em; margin: 0 0.25em; line-height: 1; border-radius: 0.35em;\">\n",
       "    america\n",
       "    <span style=\"font-size: 0.8em; font-weight: bold; line-height: 1; border-radius: 0.35em; vertical-align: middle; margin-left: 0.5rem\">GPE</span>\n",
       "</mark>\n",
       " for those who aren panic mode yet when would you suggest food tanks the street right now don even know anymore who trust</div></span>"
      ],
      "text/plain": [
       "<IPython.core.display.HTML object>"
      ]
     },
     "metadata": {},
     "output_type": "display_data"
    },
    {
     "data": {
      "text/html": [
       "<span class=\"tex2jax_ignore\"><div class=\"entities\" style=\"line-height: 2.5; direction: ltr\">kentucky usa finally getting money tomorrow and went place food order since mostly homebound and can shop and virtually everything out stock meat pasta very little anything else idea what going feed son after tomorrow</div></span>"
      ],
      "text/plain": [
       "<IPython.core.display.HTML object>"
      ]
     },
     "metadata": {},
     "output_type": "display_data"
    },
    {
     "data": {
      "text/html": [
       "<span class=\"tex2jax_ignore\"><div class=\"entities\" style=\"line-height: 2.5; direction: ltr\">supermarket staff are over worked amp run off their feet with the coronavirus panic shopping now they have this deal with mass brawling which started over white vinegar well street tesco metro hackney london</div></span>"
      ],
      "text/plain": [
       "<IPython.core.display.HTML object>"
      ]
     },
     "metadata": {},
     "output_type": "display_data"
    },
    {
     "data": {
      "text/html": [
       "<span class=\"tex2jax_ignore\"><div class=\"entities\" style=\"line-height: 2.5; direction: ltr\">\n",
       "<mark class=\"entity\" style=\"background: #feca74; padding: 0.45em 0.6em; margin: 0 0.25em; line-height: 1; border-radius: 0.35em;\">\n",
       "    england united kingdom\n",
       "    <span style=\"font-size: 0.8em; font-weight: bold; line-height: 1; border-radius: 0.35em; vertical-align: middle; margin-left: 0.5rem\">GPE</span>\n",
       "</mark>\n",
       " the fragility our interconnected world has been laid bare rampant individualism has left supermarket shelves empty and formed queues outside gun stores conspiracy theories are more contagious than the greatest threat beating this virus human behaviour</div></span>"
      ],
      "text/plain": [
       "<IPython.core.display.HTML object>"
      ]
     },
     "metadata": {},
     "output_type": "display_data"
    },
    {
     "data": {
      "text/html": [
       "<span class=\"tex2jax_ignore\"><div class=\"entities\" style=\"line-height: 2.5; direction: ltr\">accra ghana fuel prices from monday march 16 2020 are expected fall between 5 8 percent which would bring some relief consumers but whether commercial vehicle operators would reduce fares another matter fight over another day</div></span>"
      ],
      "text/plain": [
       "<IPython.core.display.HTML object>"
      ]
     },
     "metadata": {},
     "output_type": "display_data"
    },
    {
     "data": {
      "text/html": [
       "<span class=\"tex2jax_ignore\"><div class=\"entities\" style=\"line-height: 2.5; direction: ltr\">food shops will not close period give the selfish panic buying bullshit for the love god</div></span>"
      ],
      "text/plain": [
       "<IPython.core.display.HTML object>"
      ]
     },
     "metadata": {},
     "output_type": "display_data"
    },
    {
     "data": {
      "text/html": [
       "<span class=\"tex2jax_ignore\"><div class=\"entities\" style=\"line-height: 2.5; direction: ltr\">use online grocery shopping and order before sleeping and food and groceries delivered morning this should done with many food delivery apps this was done wuhan complete quarantine covid 19 testing tracking isolating and treating this has been proved</div></span>"
      ],
      "text/plain": [
       "<IPython.core.display.HTML object>"
      ]
     },
     "metadata": {},
     "output_type": "display_data"
    },
    {
     "data": {
      "text/html": [
       "<span class=\"tex2jax_ignore\"><div class=\"entities\" style=\"line-height: 2.5; direction: ltr\">\n",
       "<mark class=\"entity\" style=\"background: #feca74; padding: 0.45em 0.6em; margin: 0 0.25em; line-height: 1; border-radius: 0.35em;\">\n",
       "    michigan\n",
       "    <span style=\"font-size: 0.8em; font-weight: bold; line-height: 1; border-radius: 0.35em; vertical-align: middle; margin-left: 0.5rem\">GPE</span>\n",
       "</mark>\n",
       " here the details the special hours stop amp shop creating help protect customers especially vulnerable the</div></span>"
      ],
      "text/plain": [
       "<IPython.core.display.HTML object>"
      ]
     },
     "metadata": {},
     "output_type": "display_data"
    },
    {
     "data": {
      "text/html": [
       "<span class=\"tex2jax_ignore\"><div class=\"entities\" style=\"line-height: 2.5; direction: ltr\">you have power over demand the federal government immediately 2 pass relief package now that provides emergency funding assistance all states cover expenses massively test the population the millions and provide emergency food and shelter all homeless and poor</div></span>"
      ],
      "text/plain": [
       "<IPython.core.display.HTML object>"
      ]
     },
     "metadata": {},
     "output_type": "display_data"
    },
    {
     "data": {
      "text/html": [
       "<span class=\"tex2jax_ignore\"><div class=\"entities\" style=\"line-height: 2.5; direction: ltr\">perth western australia scary gun sales due food shortage people expect kind civil unrest and that why they stock arms well 19 doesn get them probably gun will</div></span>"
      ],
      "text/plain": [
       "<IPython.core.display.HTML object>"
      ]
     },
     "metadata": {},
     "output_type": "display_data"
    },
    {
     "data": {
      "text/html": [
       "<span class=\"tex2jax_ignore\"><div class=\"entities\" style=\"line-height: 2.5; direction: ltr\">dublin waiving change fees for april flights however any flight that you want change miraculously more expensive than your original flight you end having pay more for the flight you want change are the prices rigged</div></span>"
      ],
      "text/plain": [
       "<IPython.core.display.HTML object>"
      ]
     },
     "metadata": {},
     "output_type": "display_data"
    },
    {
     "data": {
      "text/html": [
       "<span class=\"tex2jax_ignore\"><div class=\"entities\" style=\"line-height: 2.5; direction: ltr\">thursday grocery store flyer has three ply toilet tissue for 3 44 there sure lineup</div></span>"
      ],
      "text/plain": [
       "<IPython.core.display.HTML object>"
      ]
     },
     "metadata": {},
     "output_type": "display_data"
    },
    {
     "data": {
      "text/html": [
       "<span class=\"tex2jax_ignore\"><div class=\"entities\" style=\"line-height: 2.5; direction: ltr\">kids home need groceries didnt stock for weeks buy all family 6 dogs amp cats need food fruits veggies chicken ground beef potatoes bread soup pasta</div></span>"
      ],
      "text/plain": [
       "<IPython.core.display.HTML object>"
      ]
     },
     "metadata": {},
     "output_type": "display_data"
    },
    {
     "data": {
      "text/html": [
       "<span class=\"tex2jax_ignore\"><div class=\"entities\" style=\"line-height: 2.5; direction: ltr\">irelande nord you don protect food workers you may find real shortage soon demand all food workers get full pay suffer penalties for related illness you are not member the union join organise and send clear message employers you will not abused</div></span>"
      ],
      "text/plain": [
       "<IPython.core.display.HTML object>"
      ]
     },
     "metadata": {},
     "output_type": "display_data"
    },
    {
     "data": {
      "text/html": [
       "<span class=\"tex2jax_ignore\"><div class=\"entities\" style=\"line-height: 2.5; direction: ltr\">midcoast \n",
       "<mark class=\"entity\" style=\"background: #feca74; padding: 0.45em 0.6em; margin: 0 0.25em; line-height: 1; border-radius: 0.35em;\">\n",
       "    maine\n",
       "    <span style=\"font-size: 0.8em; font-weight: bold; line-height: 1; border-radius: 0.35em; vertical-align: middle; margin-left: 0.5rem\">GPE</span>\n",
       "</mark>\n",
       " just saw elderly woman walk into the grocery store live across the street and every time see someone who high risk for catching like</div></span>"
      ],
      "text/plain": [
       "<IPython.core.display.HTML object>"
      ]
     },
     "metadata": {},
     "output_type": "display_data"
    },
    {
     "data": {
      "text/html": [
       "<span class=\"tex2jax_ignore\"><div class=\"entities\" style=\"line-height: 2.5; direction: ltr\">sheffield \n",
       "<mark class=\"entity\" style=\"background: #feca74; padding: 0.45em 0.6em; margin: 0 0.25em; line-height: 1; border-radius: 0.35em;\">\n",
       "    united kingdom\n",
       "    <span style=\"font-size: 0.8em; font-weight: bold; line-height: 1; border-radius: 0.35em; vertical-align: middle; margin-left: 0.5rem\">GPE</span>\n",
       "</mark>\n",
       " self isolating you have the symptoms this virus fine but try doing your shopping online with all the major supermarkets the earliest delivery 3 4 weeks unless great efforts are made improve this those with the virus will forced visit shops</div></span>"
      ],
      "text/plain": [
       "<IPython.core.display.HTML object>"
      ]
     },
     "metadata": {},
     "output_type": "display_data"
    },
    {
     "data": {
      "text/html": [
       "<span class=\"tex2jax_ignore\"><div class=\"entities\" style=\"line-height: 2.5; direction: ltr\">\n",
       "<mark class=\"entity\" style=\"background: #feca74; padding: 0.45em 0.6em; margin: 0 0.25em; line-height: 1; border-radius: 0.35em;\">\n",
       "    maine\n",
       "    <span style=\"font-size: 0.8em; font-weight: bold; line-height: 1; border-radius: 0.35em; vertical-align: middle; margin-left: 0.5rem\">GPE</span>\n",
       "</mark>\n",
       " wife got grocery union bangor opened 7am today and there was line out the door the manager was handing out individual rolls from the only 2 large packs the store had</div></span>"
      ],
      "text/plain": [
       "<IPython.core.display.HTML object>"
      ]
     },
     "metadata": {},
     "output_type": "display_data"
    },
    {
     "data": {
      "text/html": [
       "<span class=\"tex2jax_ignore\"><div class=\"entities\" style=\"line-height: 2.5; direction: ltr\">mask and sanitizers are being sold sky high prices instead helping people this time crisis sellers are trying make profit from request central and state government take necessary action</div></span>"
      ],
      "text/plain": [
       "<IPython.core.display.HTML object>"
      ]
     },
     "metadata": {},
     "output_type": "display_data"
    },
    {
     "data": {
      "text/html": [
       "<span class=\"tex2jax_ignore\"><div class=\"entities\" style=\"line-height: 2.5; direction: ltr\">western canada your dreams breaking gas prices dropping \n",
       "<mark class=\"entity\" style=\"background: #e4e7d2; padding: 0.45em 0.6em; margin: 0 0.25em; line-height: 1; border-radius: 0.35em;\">\n",
       "    tonight 9 cents\n",
       "    <span style=\"font-size: 0.8em; font-weight: bold; line-height: 1; border-radius: 0.35em; vertical-align: middle; margin-left: 0.5rem\">MONEY</span>\n",
       "</mark>\n",
       " putting price \n",
       "<mark class=\"entity\" style=\"background: #e4e7d2; padding: 0.45em 0.6em; margin: 0 0.25em; line-height: 1; border-radius: 0.35em;\">\n",
       "    1 10 9 litre\n",
       "    <span style=\"font-size: 0.8em; font-weight: bold; line-height: 1; border-radius: 0.35em; vertical-align: middle; margin-left: 0.5rem\">QUANTITY</span>\n",
       "</mark>\n",
       " metro van lowest 17 years reason because drop demand with people staying home energy sector will suffer</div></span>"
      ],
      "text/plain": [
       "<IPython.core.display.HTML object>"
      ]
     },
     "metadata": {},
     "output_type": "display_data"
    },
    {
     "data": {
      "text/html": [
       "<span class=\"tex2jax_ignore\"><div class=\"entities\" style=\"line-height: 2.5; direction: ltr\">supply flowing machines are running and the product will make way back the shelf says doug baker fmi cbs news</div></span>"
      ],
      "text/plain": [
       "<IPython.core.display.HTML object>"
      ]
     },
     "metadata": {},
     "output_type": "display_data"
    },
    {
     "data": {
      "text/html": [
       "<span class=\"tex2jax_ignore\"><div class=\"entities\" style=\"line-height: 2.5; direction: ltr\">chennai india 1 wash your hands with soap for 20 seconds 2 carry tissue paper and use protecting layer while travelling 3 don panic 4 don spread rumors 5 stock food and essentials for 2 weeks you require self quarantine</div></span>"
      ],
      "text/plain": [
       "<IPython.core.display.HTML object>"
      ]
     },
     "metadata": {},
     "output_type": "display_data"
    },
    {
     "data": {
      "text/html": [
       "<span class=\"tex2jax_ignore\"><div class=\"entities\" style=\"line-height: 2.5; direction: ltr\">the south west england boris johnson says self isolate and seek help others for pensioners risk pensioners online shopping wold essential but locals cannot get near future delivery slot from sainsburys supermarket where under normal times shop</div></span>"
      ],
      "text/plain": [
       "<IPython.core.display.HTML object>"
      ]
     },
     "metadata": {},
     "output_type": "display_data"
    },
    {
     "data": {
      "text/html": [
       "<span class=\"tex2jax_ignore\"><div class=\"entities\" style=\"line-height: 2.5; direction: ltr\">must waive citizen cost treatment there will disposable income for consumer spending drive markets with pandemic hitting early the year and threat recession covid 19 may costly for patients</div></span>"
      ],
      "text/plain": [
       "<IPython.core.display.HTML object>"
      ]
     },
     "metadata": {},
     "output_type": "display_data"
    },
    {
     "data": {
      "text/html": [
       "<span class=\"tex2jax_ignore\"><div class=\"entities\" style=\"line-height: 2.5; direction: ltr\">\n",
       "<mark class=\"entity\" style=\"background: #feca74; padding: 0.45em 0.6em; margin: 0 0.25em; line-height: 1; border-radius: 0.35em;\">\n",
       "    melbourne\n",
       "    <span style=\"font-size: 0.8em; font-weight: bold; line-height: 1; border-radius: 0.35em; vertical-align: middle; margin-left: 0.5rem\">GPE</span>\n",
       "</mark>\n",
       " \n",
       "<mark class=\"entity\" style=\"background: #feca74; padding: 0.45em 0.6em; margin: 0 0.25em; line-height: 1; border-radius: 0.35em;\">\n",
       "    australia\n",
       "    <span style=\"font-size: 0.8em; font-weight: bold; line-height: 1; border-radius: 0.35em; vertical-align: middle; margin-left: 0.5rem\">GPE</span>\n",
       "</mark>\n",
       " facebook live from joins speak about staying safe and well during the pandemic join the conversation</div></span>"
      ],
      "text/plain": [
       "<IPython.core.display.HTML object>"
      ]
     },
     "metadata": {},
     "output_type": "display_data"
    },
    {
     "data": {
      "text/html": [
       "<span class=\"tex2jax_ignore\"><div class=\"entities\" style=\"line-height: 2.5; direction: ltr\">\n",
       "<mark class=\"entity\" style=\"background: #feca74; padding: 0.45em 0.6em; margin: 0 0.25em; line-height: 1; border-radius: 0.35em;\">\n",
       "    australia\n",
       "    <span style=\"font-size: 0.8em; font-weight: bold; line-height: 1; border-radius: 0.35em; vertical-align: middle; margin-left: 0.5rem\">GPE</span>\n",
       "</mark>\n",
       " everything but the socks pants and jocks that was wearing that particular day tonight 9pm</div></span>"
      ],
      "text/plain": [
       "<IPython.core.display.HTML object>"
      ]
     },
     "metadata": {},
     "output_type": "display_data"
    },
    {
     "data": {
      "text/html": [
       "<span class=\"tex2jax_ignore\"><div class=\"entities\" style=\"line-height: 2.5; direction: ltr\">\n",
       "<mark class=\"entity\" style=\"background: #ff9561; padding: 0.45em 0.6em; margin: 0 0.25em; line-height: 1; border-radius: 0.35em;\">\n",
       "    mid michigan\n",
       "    <span style=\"font-size: 0.8em; font-weight: bold; line-height: 1; border-radius: 0.35em; vertical-align: middle; margin-left: 0.5rem\">LOC</span>\n",
       "</mark>\n",
       " just accused doubling prices some cleaning supplies during the pandemic</div></span>"
      ],
      "text/plain": [
       "<IPython.core.display.HTML object>"
      ]
     },
     "metadata": {},
     "output_type": "display_data"
    },
    {
     "data": {
      "text/html": [
       "<span class=\"tex2jax_ignore\"><div class=\"entities\" style=\"line-height: 2.5; direction: ltr\">\n",
       "<mark class=\"entity\" style=\"background: #feca74; padding: 0.45em 0.6em; margin: 0 0.25em; line-height: 1; border-radius: 0.35em;\">\n",
       "    australia\n",
       "    <span style=\"font-size: 0.8em; font-weight: bold; line-height: 1; border-radius: 0.35em; vertical-align: middle; margin-left: 0.5rem\">GPE</span>\n",
       "</mark>\n",
       " are experiencing high volumes enquiries due travel and event cancellations related covid 19 coronavirus read our advice for consumers for the latest consumer rights travel and event cancellations relating covid 19</div></span>"
      ],
      "text/plain": [
       "<IPython.core.display.HTML object>"
      ]
     },
     "metadata": {},
     "output_type": "display_data"
    },
    {
     "data": {
      "text/html": [
       "<span class=\"tex2jax_ignore\"><div class=\"entities\" style=\"line-height: 2.5; direction: ltr\">anyone else over seeing advertising for food that out stock need the reminder</div></span>"
      ],
      "text/plain": [
       "<IPython.core.display.HTML object>"
      ]
     },
     "metadata": {},
     "output_type": "display_data"
    },
    {
     "data": {
      "text/html": [
       "<span class=\"tex2jax_ignore\"><div class=\"entities\" style=\"line-height: 2.5; direction: ltr\">culver city from the grocery store surprisingly good</div></span>"
      ],
      "text/plain": [
       "<IPython.core.display.HTML object>"
      ]
     },
     "metadata": {},
     "output_type": "display_data"
    },
    {
     "data": {
      "text/html": [
       "<span class=\"tex2jax_ignore\"><div class=\"entities\" style=\"line-height: 2.5; direction: ltr\">amsterdam doctors nurses supermarket staff teachers emergency services and others contributing any other way</div></span>"
      ],
      "text/plain": [
       "<IPython.core.display.HTML object>"
      ]
     },
     "metadata": {},
     "output_type": "display_data"
    },
    {
     "data": {
      "text/html": [
       "<span class=\"tex2jax_ignore\"><div class=\"entities\" style=\"line-height: 2.5; direction: ltr\">\n",
       "<mark class=\"entity\" style=\"background: #feca74; padding: 0.45em 0.6em; margin: 0 0.25em; line-height: 1; border-radius: 0.35em;\">\n",
       "    washington\n",
       "    <span style=\"font-size: 0.8em; font-weight: bold; line-height: 1; border-radius: 0.35em; vertical-align: middle; margin-left: 0.5rem\">GPE</span>\n",
       "</mark>\n",
       " beware scams some scammers may sell ineffective products prevent the virus solicit donations for fake charity pretending help coronavirus victims learn 4 tips protect yourself from these scams</div></span>"
      ],
      "text/plain": [
       "<IPython.core.display.HTML object>"
      ]
     },
     "metadata": {},
     "output_type": "display_data"
    },
    {
     "data": {
      "text/html": [
       "<span class=\"tex2jax_ignore\"><div class=\"entities\" style=\"line-height: 2.5; direction: ltr\">global whether you buy groceries online stores there are some simple steps you can take try limit your exposure the novel read</div></span>"
      ],
      "text/plain": [
       "<IPython.core.display.HTML object>"
      ]
     },
     "metadata": {},
     "output_type": "display_data"
    },
    {
     "data": {
      "text/html": [
       "<span class=\"tex2jax_ignore\"><div class=\"entities\" style=\"line-height: 2.5; direction: ltr\">amsterdam the \n",
       "<mark class=\"entity\" style=\"background: #feca74; padding: 0.45em 0.6em; margin: 0 0.25em; line-height: 1; border-radius: 0.35em;\">\n",
       "    netherlands\n",
       "    <span style=\"font-size: 0.8em; font-weight: bold; line-height: 1; border-radius: 0.35em; vertical-align: middle; margin-left: 0.5rem\">GPE</span>\n",
       "</mark>\n",
       " the \n",
       "<mark class=\"entity\" style=\"background: #feca74; padding: 0.45em 0.6em; margin: 0 0.25em; line-height: 1; border-radius: 0.35em;\">\n",
       "    netherlands\n",
       "    <span style=\"font-size: 0.8em; font-weight: bold; line-height: 1; border-radius: 0.35em; vertical-align: middle; margin-left: 0.5rem\">GPE</span>\n",
       "</mark>\n",
       " 2nd biggest food exporter the world 1st place usa don have panic buy</div></span>"
      ],
      "text/plain": [
       "<IPython.core.display.HTML object>"
      ]
     },
     "metadata": {},
     "output_type": "display_data"
    },
    {
     "data": {
      "text/html": [
       "<span class=\"tex2jax_ignore\"><div class=\"entities\" style=\"line-height: 2.5; direction: ltr\">palmetto state usa washington irony the only chips left the grocery store are party size</div></span>"
      ],
      "text/plain": [
       "<IPython.core.display.HTML object>"
      ]
     },
     "metadata": {},
     "output_type": "display_data"
    },
    {
     "data": {
      "text/html": [
       "<span class=\"tex2jax_ignore\"><div class=\"entities\" style=\"line-height: 2.5; direction: ltr\">\n",
       "<mark class=\"entity\" style=\"background: #feca74; padding: 0.45em 0.6em; margin: 0 0.25em; line-height: 1; border-radius: 0.35em;\">\n",
       "    brooklyn\n",
       "    <span style=\"font-size: 0.8em; font-weight: bold; line-height: 1; border-radius: 0.35em; vertical-align: middle; margin-left: 0.5rem\">GPE</span>\n",
       "</mark>\n",
       " let her know cletus memes2riches</div></span>"
      ],
      "text/plain": [
       "<IPython.core.display.HTML object>"
      ]
     },
     "metadata": {},
     "output_type": "display_data"
    },
    {
     "data": {
      "text/html": [
       "<span class=\"tex2jax_ignore\"><div class=\"entities\" style=\"line-height: 2.5; direction: ltr\">atlanta one gun store metro \n",
       "<mark class=\"entity\" style=\"background: #feca74; padding: 0.45em 0.6em; margin: 0 0.25em; line-height: 1; border-radius: 0.35em;\">\n",
       "    atlanta\n",
       "    <span style=\"font-size: 0.8em; font-weight: bold; line-height: 1; border-radius: 0.35em; vertical-align: middle; margin-left: 0.5rem\">GPE</span>\n",
       "</mark>\n",
       " has had lines that are six and eight people deep just grocery stores have been stripped bare fears guns and ammunition have started flying off shelves</div></span>"
      ],
      "text/plain": [
       "<IPython.core.display.HTML object>"
      ]
     },
     "metadata": {},
     "output_type": "display_data"
    },
    {
     "data": {
      "text/html": [
       "<span class=\"tex2jax_ignore\"><div class=\"entities\" style=\"line-height: 2.5; direction: ltr\">doha qatar how about supermarkets create voluntary emergency donation add onto our shopping panic buying passed straight local charities and food banks government need lesson what consider priorities</div></span>"
      ],
      "text/plain": [
       "<IPython.core.display.HTML object>"
      ]
     },
     "metadata": {},
     "output_type": "display_data"
    },
    {
     "data": {
      "text/html": [
       "<span class=\"tex2jax_ignore\"><div class=\"entities\" style=\"line-height: 2.5; direction: ltr\">greater hobby area \n",
       "<mark class=\"entity\" style=\"background: #feca74; padding: 0.45em 0.6em; margin: 0 0.25em; line-height: 1; border-radius: 0.35em;\">\n",
       "    houston\n",
       "    <span style=\"font-size: 0.8em; font-weight: bold; line-height: 1; border-radius: 0.35em; vertical-align: middle; margin-left: 0.5rem\">GPE</span>\n",
       "</mark>\n",
       " turner joins grocery chain representatives update public supplies and store hours</div></span>"
      ],
      "text/plain": [
       "<IPython.core.display.HTML object>"
      ]
     },
     "metadata": {},
     "output_type": "display_data"
    },
    {
     "data": {
      "text/html": [
       "<span class=\"tex2jax_ignore\"><div class=\"entities\" style=\"line-height: 2.5; direction: ltr\">india lav aggarwal joint secretary union health ministry icmr indian council medical research has strongly appealed that private laboratories should offer covid 19 diagnosis cost</div></span>"
      ],
      "text/plain": [
       "<IPython.core.display.HTML object>"
      ]
     },
     "metadata": {},
     "output_type": "display_data"
    },
    {
     "data": {
      "text/html": [
       "<span class=\"tex2jax_ignore\"><div class=\"entities\" style=\"line-height: 2.5; direction: ltr\">somewhere global emotionally exhausted from work grocery store and explaining the elderly and moms with young kids sorry are out that and don know when get more hurts someone with low empathic reserves and tapped out please stay home</div></span>"
      ],
      "text/plain": [
       "<IPython.core.display.HTML object>"
      ]
     },
     "metadata": {},
     "output_type": "display_data"
    },
    {
     "data": {
      "text/html": [
       "<span class=\"tex2jax_ignore\"><div class=\"entities\" style=\"line-height: 2.5; direction: ltr\">dubai uae people uae are being reassured that there need for panic buying all food items will available all times</div></span>"
      ],
      "text/plain": [
       "<IPython.core.display.HTML object>"
      ]
     },
     "metadata": {},
     "output_type": "display_data"
    }
   ],
   "source": [
    "import warnings\n",
    "warnings.filterwarnings(\"ignore\")\n",
    "\n",
    "for tweet in train_clean.Tweet_texts[800:850]:\n",
    "    doc = nlp(tweet)\n",
    "    spacy.displacy.render(doc, style = \"ent\", jupyter = True, options = {\"ents\": [\"GPE\", \"LOC\", \"MONEY\", \"QUANTITY\"]})"
   ]
  },
  {
   "cell_type": "markdown",
   "id": "73b42477-01e4-402e-9fbe-59b606913e0b",
   "metadata": {},
   "source": [
    "### 3. Extract all the tokens from the `Tweet_texts`."
   ]
  },
  {
   "cell_type": "markdown",
   "id": "07d24384-383b-417d-910a-ff85b9141bf1",
   "metadata": {},
   "source": [
    "Print out the tokens for the first 5 training tweets."
   ]
  },
  {
   "cell_type": "code",
   "execution_count": 27,
   "id": "1aefef9c-093c-4567-9405-bda56e9ccc2b",
   "metadata": {},
   "outputs": [
    {
     "name": "stdout",
     "output_type": "stream",
     "text": [
      "TWEET 0 TOKENS : [london, and, and] \n",
      "\n",
      "TWEET 1 TOKENS : [advice, talk, your, neighbours, family, exchange, phone, numbers, create, contact, list, with, phone, numbers, neighbours, schools, employer, chemist, set, online, shopping, accounts, poss, adequate, supplies, regular, meds, but, not, over, order] \n",
      "\n",
      "TWEET 2 TOKENS : [vagabonds, coronavirus, australia, woolworths, give, elderly, disabled, dedicated, shopping, hours, amid, covid, 19, outbreak] \n",
      "\n",
      "TWEET 3 TOKENS : [food, stock, not, the, only, one, which, empty, please, don, panic, there, will, enough, food, for, everyone, you, not, take, more, than, you, need, stay, calm, stay, safe] \n",
      "\n",
      "TWEET 4 TOKENS : [ready, supermarket, during, the, outbreak, not, because, paranoid, but, because, food, stock, litteraly, empty, the, serious, thing, but, please, don, panic, causes, shortage] \n",
      "\n"
     ]
    }
   ],
   "source": [
    "import spacy\n",
    "\n",
    "nlp = spacy.load(\"en_core_web_sm\")\n",
    "for i in range(0, 5):\n",
    "    tweet = train_clean.Tweet_texts[i]\n",
    "    doc = nlp(tweet)\n",
    "    tokens = []\n",
    "    for token in doc:\n",
    "        tokens.append(token)\n",
    "    print(\"TWEET\", i, \"TOKENS :\", tokens, \"\\n\")"
   ]
  },
  {
   "cell_type": "markdown",
   "id": "65573d9b-13a9-44f4-8817-eecf8675255d",
   "metadata": {},
   "source": [
    "### 4. Replace the `Tweet_texts` column with the string only containing the lemmas of all the tokens."
   ]
  },
  {
   "cell_type": "code",
   "execution_count": 11,
   "id": "81aa6ac1-f6d8-4ddf-8d2f-d8f209d1d4d7",
   "metadata": {},
   "outputs": [
    {
     "name": "stdout",
     "output_type": "stream",
     "text": [
      "time elapsed = 9.61516 minutes\n"
     ]
    }
   ],
   "source": [
    "t0_lemmas = time.time()\n",
    "\n",
    "def replace_with_lemmas(X):\n",
    "    return [lemmas(text) for text in X]\n",
    "\n",
    "def lemmas(text):\n",
    "    doc = nlp(text)\n",
    "    lemmas = \"\"\n",
    "    # replace each token with its lemma\n",
    "    for token in doc:\n",
    "        lemmas = lemmas + token.lemma_ + \" \"\n",
    "    return lemmas.strip()\n",
    "\n",
    "X_train_clean_lemmas = replace_with_lemmas(train_clean.Tweet_texts)\n",
    "X_test_clean_lemmas = replace_with_lemmas(test_clean.Tweet_texts)\n",
    "\n",
    "# create DataFrames containing a feature column (\"Tweet_texts\") and a label column (\"Sentiment\")\n",
    "train_clean_lemmas = pd.DataFrame({\"Tweet_texts\": X_train_clean_lemmas, \"Sentiment\": train_clean.Sentiment}) \n",
    "test_clean_lemmas = pd.DataFrame({\"Tweet_texts\": X_test_clean_lemmas, \"Sentiment\": test_clean.Sentiment}) \n",
    "\n",
    "print(find_time_elapsed(t0_lemmas))"
   ]
  },
  {
   "cell_type": "markdown",
   "id": "7db6985c-d7c5-496b-94ae-37b6bcc4d83e",
   "metadata": {},
   "source": [
    "Print out the first 5 training tweets."
   ]
  },
  {
   "cell_type": "code",
   "execution_count": 28,
   "id": "10dead72-cfd8-431b-a5ce-c8b28f599c8d",
   "metadata": {},
   "outputs": [
    {
     "name": "stdout",
     "output_type": "stream",
     "text": [
      "TWEET 0 LEMMAS : london and and \n",
      "\n",
      "TWEET 1 LEMMAS : advice talk your neighbour family exchange phone number create contact list with phone number neighbour school employer chemist set online shopping account poss adequate supply regular med but not over order \n",
      "\n",
      "TWEET 2 LEMMAS : vagabonds coronavirus australia woolworth give elderly disabled dedicated shopping hour amid covid 19 outbreak \n",
      "\n",
      "TWEET 3 LEMMAS : food stock not the only one which empty please don panic there will enough food for everyone you not take more than you need stay calm stay safe \n",
      "\n",
      "TWEET 4 LEMMAS : ready supermarket during the outbreak not because paranoid but because food stock litteraly empty the serious thing but please don panic cause shortage \n",
      "\n"
     ]
    }
   ],
   "source": [
    "for i in range(0, 5):\n",
    "    print(\"TWEET\", i, \"LEMMAS :\", train_clean_lemmas.Tweet_texts[i], \"\\n\")"
   ]
  },
  {
   "cell_type": "markdown",
   "id": "35d9e6f0-1050-4d3d-8fe1-ae872eebc0a4",
   "metadata": {},
   "source": [
    "### 5. Graphically summarize the `Sentiment`."
   ]
  },
  {
   "cell_type": "code",
   "execution_count": 9,
   "id": "50d0abd9-fb5b-4208-8961-51e991cb54d3",
   "metadata": {},
   "outputs": [],
   "source": [
    "# combine \"Positive\" and \"Extremely Positive\" sentiments\n",
    "train_clean_lemmas.Sentiment[train_clean_lemmas.Sentiment == \"Extremely Positive\"] = \"Positive\"\n",
    "test_clean_lemmas.Sentiment[test_clean_lemmas.Sentiment == \"Extremely Positive\"] = \"Positive\"\n",
    "\n",
    "# combine \"Negative\" and \"Extremely Negative\" sentiments\n",
    "train_clean_lemmas.Sentiment[train_clean_lemmas.Sentiment == \"Extremely Negative\"] = \"Negative\"\n",
    "test_clean_lemmas.Sentiment[test_clean_lemmas.Sentiment == \"Extremely Negative\"] = \"Negative\""
   ]
  },
  {
   "cell_type": "code",
   "execution_count": 10,
   "id": "7eca1696-d5a4-4868-bc8b-8c2ed0a39969",
   "metadata": {},
   "outputs": [
    {
     "data": {
      "image/png": "[encoded data removed]",
      "text/plain": [
       "<Figure size 432x288 with 1 Axes>"
      ]
     },
     "metadata": {
      "needs_background": "light"
     },
     "output_type": "display_data"
    }
   ],
   "source": [
    "x = train_clean_lemmas.Sentiment.value_counts()[[\"Negative\", \"Neutral\", \"Positive\"]].plot(kind = \"bar\")"
   ]
  },
  {
   "cell_type": "markdown",
   "id": "9e469ff0-0086-4463-b766-2d72769b2ccd",
   "metadata": {},
   "source": [
    "### 6. Graphically summarize the length of the text of the `Tweet_texts` using\n",
    "+ boxplot\n",
    "+ histogram\n",
    "+ density plot"
   ]
  },
  {
   "cell_type": "code",
   "execution_count": 11,
   "id": "b62cb723-1290-4943-b5f2-6c39588e5f0b",
   "metadata": {},
   "outputs": [],
   "source": [
    "import seaborn as sns\n",
    "import matplotlib.pyplot as plt\n",
    "\n",
    "def plot(title, data):\n",
    "    # create a plot with three subplots and the given title\n",
    "    fig, axes = plt.subplots(1, 3, figsize = (20, 6))\n",
    "    fig.suptitle(title, fontsize = 18)\n",
    "\n",
    "    # create a boxplot given the data\n",
    "    sns.boxplot(ax = axes[0], x = data)\n",
    "    axes[0].set_title(\"Boxplot\", fontsize = 14)\n",
    "\n",
    "    # create a histogram given the data\n",
    "    sns.histplot(ax = axes[1], data = data)\n",
    "    axes[1].set_title(\"Histogram\", fontsize = 14)\n",
    "\n",
    "    # create a density plot given the data\n",
    "    sns.kdeplot(ax = axes[2], data = data)\n",
    "    x = axes[2].set_title(\"Density Plot\", fontsize = 14)"
   ]
  },
  {
   "cell_type": "code",
   "execution_count": 12,
   "id": "484da45d-ff20-40e2-a6fb-202952f13303",
   "metadata": {},
   "outputs": [
    {
     "data": {
      "image/png": "[encoded data removed]",
      "text/plain": [
       "<Figure size 1440x432 with 3 Axes>"
      ]
     },
     "metadata": {
      "needs_background": "light"
     },
     "output_type": "display_data"
    }
   ],
   "source": [
    "plot(\"Plots of the Length of Tweets\", train_clean_lemmas.Tweet_texts.str.len())"
   ]
  },
  {
   "cell_type": "markdown",
   "id": "8c3d0a5a-f3c5-410b-a7e6-f0e72649ff4c",
   "metadata": {},
   "source": [
    "### 7. Graphically summarize the word count of the text of the `Tweet_texts` using\n",
    "+ boxplot\n",
    "+ histogram\n",
    "+ density plot"
   ]
  },
  {
   "cell_type": "code",
   "execution_count": 13,
   "id": "02594e05-535d-41f5-ae4c-40906d0e0bdf",
   "metadata": {},
   "outputs": [
    {
     "data": {
      "image/png": "[encoded data removed]",
      "text/plain": [
       "<Figure size 1440x432 with 3 Axes>"
      ]
     },
     "metadata": {
      "needs_background": "light"
     },
     "output_type": "display_data"
    }
   ],
   "source": [
    "plot(\"Plots of the Word Count of Tweets\", train_clean_lemmas.Tweet_texts.str.split().str.len())"
   ]
  },
  {
   "cell_type": "markdown",
   "id": "d717b91d-1f51-438c-9bef-d5e6000e6ead",
   "metadata": {},
   "source": [
    "### 8. Graphically summarize the top 10 unigram and bigrams of the tf-idf of the text of the `Tweet_texts`."
   ]
  },
  {
   "cell_type": "code",
   "execution_count": 14,
   "id": "72dcbee1-0273-48c5-a79c-a87a7b2cb04e",
   "metadata": {},
   "outputs": [],
   "source": [
    "from sklearn.feature_extraction.text import TfidfVectorizer\n",
    "\n",
    "def get_top_tf_idf_words(data, use_idf, ngram_range, top_n):\n",
    "    # create a TfidfVectorizer object\n",
    "    tf_idf = TfidfVectorizer(stop_words = \"english\", ngram_range = ngram_range, use_idf = use_idf)\n",
    "    \n",
    "    # fit and transform the corpus and generate the tf-idf matrix\n",
    "    tf_idf_sparse_matrix = tf_idf.fit_transform(data)\n",
    "    # extract the feature names\n",
    "    feature_names = np.array(tf_idf.get_feature_names())\n",
    "    \n",
    "    # rank the tf-idf matrix by tf-idf values and return the indices of the top_n values\n",
    "    sorted_idx = np.argsort(tf_idf_sparse_matrix.data)[:-(top_n+1):-1]\n",
    "    \n",
    "    # return the feature names and corresponding tf_idf values in a DataFrame\n",
    "    return pd.DataFrame(\n",
    "    {'feature': feature_names[tf_idf_sparse_matrix.indices[sorted_idx]], \n",
    "     'tf_idf': tf_idf_sparse_matrix.data[sorted_idx]\n",
    "    })\n",
    "\n",
    "top_n = 10\n",
    "# find the top 10 tf-idf unigrams\n",
    "top_unigrams_df = get_top_tf_idf_words(train_clean_lemmas.Tweet_texts, True, (1,1), top_n)\n",
    "# find the top 10 tf-idf bigrams\n",
    "top_bigrams_df = get_top_tf_idf_words(train_clean_lemmas.Tweet_texts, True, (2,2), top_n)"
   ]
  },
  {
   "cell_type": "code",
   "execution_count": 15,
   "id": "5251e3f8-0536-402e-80c0-4faa14ae4845",
   "metadata": {},
   "outputs": [
    {
     "data": {
      "image/png": "[encoded data removed]",
      "text/plain": [
       "<Figure size 1440x360 with 2 Axes>"
      ]
     },
     "metadata": {
      "needs_background": "light"
     },
     "output_type": "display_data"
    }
   ],
   "source": [
    "x = range(0, top_n)\n",
    "\n",
    "# create a plot with 2 subplots (one for top unigrams and one for top bigrams)\n",
    "fig, ax = plt.subplots(1, 2, figsize = (20, 5))\n",
    "fig.suptitle(\"Top 10 TF-IDF Unigrams and Bigrams\", fontsize = 18)\n",
    "\n",
    "# plot the top 10 tf-idf unigrams\n",
    "ax[0].plot(x, top_unigrams_df.tf_idf, \"bo\")\n",
    "ax[0].set_title(\"Top 10 Unigrams\", fontsize = 14)\n",
    "ax[0].set_xticks(x)\n",
    "x_ticks_labels = top_unigrams_df.feature\n",
    "ax[0].set_xticklabels(x_ticks_labels, rotation = \"vertical\", fontsize = 16)\n",
    "\n",
    "# plot the top 10 tf-idf bigrams\n",
    "ax[1].plot(x, top_bigrams_df.tf_idf, \"bo\")\n",
    "ax[1].set_title(\"Top 10 Bigrams\", fontsize = 14)\n",
    "ax[1].set_xticks(x)\n",
    "x_ticks_labels = top_bigrams_df.feature\n",
    "ax[1].set_xticklabels(x_ticks_labels, rotation = \"vertical\", fontsize = 16)\n",
    "\n",
    "fig.subplots_adjust(hspace = 1.5)\n",
    "plt.show()"
   ]
  },
  {
   "cell_type": "markdown",
   "id": "a4b28437-6cb6-437e-ad7a-6c2a6c238a27",
   "metadata": {},
   "source": [
    "### 9. Visualize the top 10 term frequency of the tokens associated with positive tweets using scattertext."
   ]
  },
  {
   "cell_type": "code",
   "execution_count": 16,
   "id": "1623e472-f28b-4fcc-96ad-9f949fea2aad",
   "metadata": {},
   "outputs": [],
   "source": [
    "import scattertext as st\n",
    "\n",
    "# generate corpus for texts\n",
    "corpus = st.CorpusFromPandas(train_clean_lemmas, category_col = \"Sentiment\", text_col = \"Tweet_texts\", nlp = nlp).build()\n",
    "\n",
    "# create term frequency DataFrame\n",
    "term_freq_df = corpus.get_term_freq_df()\n",
    "\n",
    "# sort the term frequency DataFrame by \"Positive freq\" and select the top 10 terms\n",
    "top_term_df_freq = term_freq_df.sort_values(by = \"Positive freq\", ascending = False).head(top_n)"
   ]
  },
  {
   "cell_type": "code",
   "execution_count": 17,
   "id": "62d23565-ea9d-4972-bc53-8b03e5358c78",
   "metadata": {},
   "outputs": [
    {
     "data": {
      "image/png": "[encoded data removed]",
      "text/plain": [
       "<Figure size 720x360 with 1 Axes>"
      ]
     },
     "metadata": {
      "needs_background": "light"
     },
     "output_type": "display_data"
    }
   ],
   "source": [
    "x = range(0, top_n)\n",
    "fig, ax = plt.subplots(1, 1, figsize = (10, 5))\n",
    "fig.suptitle(\"Top 10 Frequencies of Tokens Associated with Positive Tweets\", fontsize = 18)\n",
    "\n",
    "# plot the top 10 tokens (according to frequency) associated with positive tweets\n",
    "ax.plot(x, top_term_df_freq[\"Positive freq\"], \"bo\")\n",
    "ax.set_xticks(x)\n",
    "x_ticks_labels = top_term_df_freq.index\n",
    "x = ax.set_xticklabels(x_ticks_labels, rotation = \"vertical\", fontsize = 16)"
   ]
  },
  {
   "cell_type": "markdown",
   "id": "5d1438a8-57db-4f80-adbd-9c105493269c",
   "metadata": {},
   "source": [
    "### 10. Visualize the top 10 positive scores of the tokens associated with positive tweets using scattertext."
   ]
  },
  {
   "cell_type": "code",
   "execution_count": 18,
   "id": "ec313f7d-7608-4ccc-bf7f-68c14dde2ba8",
   "metadata": {},
   "outputs": [],
   "source": [
    "# add \"Positive score\" to the term frequency DataFrame\n",
    "term_freq_df[\"Positive score\"] = corpus.get_scaled_f_scores(\"Positive\")\n",
    "\n",
    "# sort the term frequency DataFrame by \"Positive score\" and select the top 10 terms\n",
    "top_term_df_score = term_freq_df.sort_values(by = \"Positive score\", ascending = False).head(top_n)"
   ]
  },
  {
   "cell_type": "code",
   "execution_count": 19,
   "id": "7438fa44-8c38-4142-921e-7e3c9449d985",
   "metadata": {},
   "outputs": [
    {
     "data": {
      "image/png": "[encoded data removed]",
      "text/plain": [
       "<Figure size 720x360 with 1 Axes>"
      ]
     },
     "metadata": {
      "needs_background": "light"
     },
     "output_type": "display_data"
    }
   ],
   "source": [
    "x = range(0, top_n)\n",
    "fig, ax = plt.subplots(1, 1, figsize = (10, 5))\n",
    "fig.suptitle(\"Top 10 Scores of Tokens Associated with Positive Tweets\", fontsize = 18)\n",
    "\n",
    "# plot the top 10 tokens (according to score) associated with positive tweets\n",
    "ax.plot(x, top_term_df_score[\"Positive score\"], \"bo\")\n",
    "ax.set_xticks(x)\n",
    "x_ticks_labels = top_term_df_score.index\n",
    "x = ax.set_xticklabels(x_ticks_labels, rotation = \"vertical\", fontsize = 16)"
   ]
  },
  {
   "cell_type": "markdown",
   "id": "8609e0bc-dc55-4af5-98a5-eb151cb6a089",
   "metadata": {},
   "source": [
    "### 11. Convert the column of the `Tweet_texts` to a matrix of token counts using `CountVectorizer` and unigrams and bigrams."
   ]
  },
  {
   "cell_type": "code",
   "execution_count": 20,
   "id": "0272d03c-1fc5-4df4-91b1-203e4a33faf7",
   "metadata": {},
   "outputs": [],
   "source": [
    "from sklearn.feature_extraction.text import CountVectorizer\n",
    "\n",
    "# create a CountVectorizer object\n",
    "tf_vectorizer = CountVectorizer(ngram_range = (1, 2))\n",
    "# generate the term frequency document word matrix\n",
    "tf_matrix = tf_vectorizer.fit_transform(train_clean_lemmas.Tweet_texts)"
   ]
  },
  {
   "cell_type": "code",
   "execution_count": 21,
   "id": "708709c2-557b-4646-acb9-128803128c14",
   "metadata": {},
   "outputs": [
    {
     "data": {
      "text/plain": [
       "397695"
      ]
     },
     "execution_count": 21,
     "metadata": {},
     "output_type": "execute_result"
    }
   ],
   "source": [
    "len(tf_vectorizer.vocabulary_) # size of the vocabulary"
   ]
  },
  {
   "cell_type": "code",
   "execution_count": 22,
   "id": "932b02e4-0d2c-4247-b8bb-ced058be717d",
   "metadata": {},
   "outputs": [
    {
     "data": {
      "text/plain": [
       "(41142, 397695)"
      ]
     },
     "execution_count": 22,
     "metadata": {},
     "output_type": "execute_result"
    }
   ],
   "source": [
    "tf_matrix.shape # shape of the document word matrix"
   ]
  },
  {
   "cell_type": "markdown",
   "id": "68df5fb4-5145-46a5-9368-61c04f113cd1",
   "metadata": {},
   "source": [
    "### 12. Perform the tf-idf analysis on the column of the `Tweet_texts` using `TfidfVectorizer`."
   ]
  },
  {
   "cell_type": "code",
   "execution_count": 23,
   "id": "d7981c84-e1ea-4490-b28c-720b559f458f",
   "metadata": {},
   "outputs": [],
   "source": [
    "from sklearn.feature_extraction.text import TfidfTransformer\n",
    "\n",
    "# create a TfidfVectorizer object\n",
    "tf_idf_vectorizer = TfidfVectorizer()\n",
    "# generate the term frequency-inverse document frequency document word matrix\n",
    "tf_idf_matrix = tf_idf_vectorizer.fit_transform(train_clean_lemmas.Tweet_texts)"
   ]
  },
  {
   "cell_type": "code",
   "execution_count": 24,
   "id": "644851fc-509d-45bc-a504-87d407e88bed",
   "metadata": {},
   "outputs": [
    {
     "data": {
      "text/plain": [
       "32392"
      ]
     },
     "execution_count": 24,
     "metadata": {},
     "output_type": "execute_result"
    }
   ],
   "source": [
    "len(tf_idf_vectorizer.vocabulary_) # size of the vocabulary"
   ]
  },
  {
   "cell_type": "code",
   "execution_count": 25,
   "id": "52082eaa-7b0c-4a48-8068-f0ed0d291eab",
   "metadata": {},
   "outputs": [
    {
     "data": {
      "text/plain": [
       "(41142, 32392)"
      ]
     },
     "execution_count": 25,
     "metadata": {},
     "output_type": "execute_result"
    }
   ],
   "source": [
    "tf_idf_matrix.shape # shape of the document word matrix"
   ]
  },
  {
   "cell_type": "markdown",
   "id": "441e843c-2419-4a54-90df-c7d29cb32879",
   "metadata": {},
   "source": [
    "### 13. Find the cosine similarity in `Tweet_texts` between the 200th and 20,000th tweets."
   ]
  },
  {
   "cell_type": "code",
   "execution_count": 26,
   "id": "d6503979-901a-41f6-a24a-79f6decfd816",
   "metadata": {},
   "outputs": [
    {
     "name": "stdout",
     "output_type": "stream",
     "text": [
      "The cosine similarity between 'cambridge our retail store will close through the end march be do this keep our staff and customer safe during the covid 19 crisis will continue fulfill and ship out order place online pickup will not available until return regular hour' and 'don you understand that presently fight with covid 19 more important than oil price don know why you people be irresponsible you just oppose from bjp have you see how manage the fight agai' is 0.87.\n"
     ]
    }
   ],
   "source": [
    "# load the large spacy model\n",
    "nlp = spacy.load(\"en_core_web_lg\")\n",
    "\n",
    "# extract the 200th and 20,000th tweets\n",
    "tweet_200 = train_clean_lemmas.Tweet_texts[199]\n",
    "tweet_20000 = train_clean_lemmas.Tweet_texts[19999]\n",
    "\n",
    "# create nlp objects for the two tweets\n",
    "doc_200 = nlp(tweet_200)\n",
    "doc_20000 = nlp(tweet_20000)\n",
    "\n",
    "# compute the similarity between the documents\n",
    "print(f\"The cosine similarity between '{doc_200}' and '{doc_20000}' is {doc_200.similarity(doc_20000):.2f}.\")"
   ]
  },
  {
   "cell_type": "markdown",
   "id": "b1707a84-32b2-427d-8209-636281352ecf",
   "metadata": {},
   "source": [
    "### 14. Find the corpus vector equal to the average of all the document vectors, where each document corresponds to a tweet or a row in this dataset."
   ]
  },
  {
   "cell_type": "code",
   "execution_count": 27,
   "id": "18c00c5b-98f9-4793-858c-a0ae1bba3f67",
   "metadata": {},
   "outputs": [
    {
     "data": {
      "text/plain": [
       "array([-8.44927745e-02,  1.31048140e-01, -8.58406795e-02, -3.68056394e-02,\n",
       "        1.01684545e-01, -3.63935064e-02, -3.29607763e-02, -6.47273613e-02,\n",
       "        3.64228686e-02,  2.04257662e+00, -2.66146283e-01, -1.28315718e-02,\n",
       "        3.98853576e-02, -5.11489416e-02, -9.42547310e-02, -6.31809337e-02,\n",
       "       -9.12568475e-02,  1.09161933e+00, -1.17884344e-01,  3.07426154e-02,\n",
       "        3.59169092e-03,  1.85537573e-02, -3.21119982e-03, -7.01706257e-02,\n",
       "       -2.43057526e-02,  2.28184738e-02, -9.63638676e-02, -6.90200826e-02,\n",
       "        3.98982438e-02, -4.28708797e-02, -5.86367450e-02,  2.23219997e-02,\n",
       "        1.83230907e-04,  3.07286968e-02,  6.26555858e-02,  1.78494802e-02,\n",
       "        8.68381738e-03,  1.67538677e-02, -2.09831929e-02, -5.94926246e-03,\n",
       "       -3.79779221e-02,  3.84888090e-02,  3.74027088e-02, -6.16460014e-02,\n",
       "        3.86740931e-03,  5.85700946e-02, -1.04546083e-01, -1.06615018e-02,\n",
       "        1.06820516e-02,  3.00133502e-02, -5.37866221e-02, -2.03211089e-02,\n",
       "        4.40821974e-02, -4.84693931e-03,  8.94107435e-02, -1.45160624e-02,\n",
       "       -3.18320048e-02, -5.91782539e-02, -1.02555028e-02, -6.91496451e-02,\n",
       "       -1.06022203e-02, -9.87683239e-02, -4.75859696e-02,  1.21236219e-01,\n",
       "        1.22633138e-01, -7.24139672e-02, -2.02036774e-02,  8.92567265e-02,\n",
       "        7.75576019e-02,  1.17332897e-01,  6.75766110e-02,  4.38361394e-02,\n",
       "        1.68665886e-01, -9.11854948e-03,  1.51144205e-01,  4.26415689e-02,\n",
       "        1.00739902e-01, -3.95154293e-02,  1.05515042e-02,  1.54842816e-01,\n",
       "        4.75805048e-02,  9.92292316e-02, -1.08694673e-01, -5.55752730e-02,\n",
       "        1.28185850e-04, -1.21809222e-01,  5.52198173e-02,  2.50125054e-02,\n",
       "        2.07392824e-01,  6.52997182e-03, -1.00751205e-01, -2.73632846e-03,\n",
       "       -2.64861937e-02, -4.43903829e-02,  2.32701827e-02, -1.54985810e-02,\n",
       "        1.32445119e-03, -3.20294134e-02,  3.53415830e-02, -1.66116464e-02,\n",
       "       -3.17862074e-02, -1.36277281e-02, -3.95575349e-02,  2.14001229e-03,\n",
       "        7.15973472e-02, -8.97534254e-01,  1.25038563e-01,  2.68020603e-02,\n",
       "       -1.89166431e-02, -1.75301507e-04,  7.69657202e-02, -1.82800663e-01,\n",
       "        7.39848726e-02, -2.94715730e-02,  5.21059604e-02, -3.99475449e-03,\n",
       "        4.09227033e-02, -1.00584228e-03, -2.29310631e-02,  4.31575597e-03,\n",
       "        3.15093816e-02,  6.09201305e-03, -1.93098739e-02, -5.78044481e-02,\n",
       "        1.21132836e-02, -1.55229130e-02,  1.54327500e-02, -8.38471606e-02,\n",
       "       -1.30277433e-03, -5.99085011e-03,  2.88694266e-02, -7.78375479e-02,\n",
       "       -4.46838976e-02, -1.26751316e-03,  7.57338120e-02,  2.33396166e-03,\n",
       "       -2.99813430e-02, -3.97386950e-02, -6.19004327e-04, -3.65002008e-02,\n",
       "       -1.12253424e+00,  1.36428160e-02,  1.25371838e-01, -6.35557464e-02,\n",
       "        2.38358267e-02, -7.99052000e-02, -4.01725705e-02,  9.54984203e-02,\n",
       "        6.08086734e-03, -4.17820064e-02, -1.52884480e-02,  2.52981932e-02,\n",
       "        4.53434416e-02, -3.48391470e-02, -2.41715695e-02, -3.78411422e-02,\n",
       "       -7.00628465e-03, -4.74665777e-03, -5.85386181e-02, -3.57333849e-02,\n",
       "       -1.48780136e-02,  6.91265437e-02, -4.96360784e-02, -4.15829239e-02,\n",
       "       -7.64271202e-03, -8.84839589e-02,  1.12344376e-01, -4.64327582e-02,\n",
       "        1.21073839e-01, -2.05650425e-02, -1.55577911e-02, -9.69211366e-03,\n",
       "        3.02331340e-02, -3.05650975e-02, -7.47751427e-02,  4.31565792e-02,\n",
       "       -4.04271931e-02,  8.39102068e-02,  6.32146788e-02,  7.03015821e-02,\n",
       "        5.88212820e-02, -3.67925811e-02, -8.83394309e-02, -4.70553115e-02,\n",
       "       -1.06972212e-02, -1.33466040e-02, -4.26507168e-02, -6.52312933e-02,\n",
       "        2.29206890e-02,  2.69061142e-03, -4.21570757e-02, -4.41013299e-02,\n",
       "       -5.12821726e-02, -1.12588836e-03,  3.80844969e-02,  9.64954539e-02,\n",
       "        2.05593499e-03, -1.25291660e-02,  6.21106301e-02,  1.36498701e-01,\n",
       "        4.27074875e-02, -8.30034325e-02, -3.73401147e-02, -4.03302676e-02,\n",
       "        1.34857949e-01,  8.68418831e-02,  5.28791071e-02,  4.90201038e-02,\n",
       "        8.50462860e-02,  3.57672613e-02, -3.75956208e-02, -6.41811924e-02,\n",
       "       -4.64081084e-02, -8.13845980e-02,  3.46470545e-02,  3.05637765e-02,\n",
       "       -6.70389921e-02,  8.32870003e-03, -2.07113484e-01,  3.33467256e-02,\n",
       "       -1.95763898e-02, -1.94204949e-02, -6.95637961e-02, -3.14704575e-02,\n",
       "       -2.95728639e-02, -3.28611389e-02, -3.03713836e-02,  1.10371270e-01,\n",
       "       -6.73501638e-02, -1.13693263e-02, -4.79850967e-02,  1.49418953e-02,\n",
       "        1.18935331e-01,  2.46486835e-02, -1.78146240e-02, -8.49016764e-02,\n",
       "        2.29564711e-02, -1.15304163e-01, -4.65490816e-02,  6.91044047e-02,\n",
       "        4.39623746e-02,  1.31693850e-02,  2.11902421e-02,  4.89908728e-02,\n",
       "        7.85347826e-02, -9.85208399e-02, -2.83052683e-02, -3.30706814e-02,\n",
       "       -1.46272946e-01,  1.84947630e-02,  2.25017659e-02, -4.34003830e-02,\n",
       "       -3.04588492e-02, -4.94505091e-02,  4.72876054e-02,  2.34070022e-01,\n",
       "        1.07433189e-02, -5.20784907e-02, -6.70856148e-02,  2.37728214e-02,\n",
       "        6.84911246e-02,  1.08660391e-01, -1.51665490e-02,  4.50889736e-02,\n",
       "        6.66979421e-02, -6.96662096e-02, -8.67361758e-03,  8.69658758e-02,\n",
       "        2.32212814e-01,  7.37173084e-03,  2.01517183e-02,  1.95664674e-03,\n",
       "       -5.76611157e-02, -6.33525114e-02, -1.73312185e-02,  2.46320646e-02,\n",
       "       -3.01649409e-02,  1.22159948e-01,  3.95545401e-02,  1.25389440e-01,\n",
       "        2.67054556e-02,  1.86361503e-02, -2.01142507e-02,  6.72428220e-02,\n",
       "       -4.10751398e-02, -1.23911030e-02,  1.60513228e-01, -9.86071100e-02,\n",
       "        4.94491561e-02, -9.71278665e-03, -2.17209784e-01,  6.52434301e-02,\n",
       "        1.73661242e-02, -2.55606135e-02,  2.90771115e-02, -5.50040373e-02,\n",
       "       -3.74277640e-02, -1.07657438e-01,  3.23470909e-02,  1.27184617e-01])"
      ]
     },
     "execution_count": 27,
     "metadata": {},
     "output_type": "execute_result"
    }
   ],
   "source": [
    "# join all the tweets into one string\n",
    "tweets_all_joined = \" \".join(train_clean_lemmas.Tweet_texts)\n",
    "\n",
    "# limit the tweets string to the first 1,000,000 characters to convert it to an nlp object\n",
    "doc = nlp(tweets_all_joined[0:999999])\n",
    "\n",
    "# find the corpus vector (for the first 1,000,000 characters)\n",
    "doc.vector"
   ]
  },
  {
   "cell_type": "markdown",
   "id": "1d9ecdfa-7a62-4f72-b710-9a90163aba93",
   "metadata": {},
   "source": [
    "### For steps 15 to 20, we want to forecast `Sentiment` using `Tweet_texts`."
   ]
  },
  {
   "cell_type": "markdown",
   "id": "f4277c38-619e-489a-b891-ff027ef30162",
   "metadata": {},
   "source": [
    "### 15. Build the first model based on the training dataset using the random forests and pipeline."
   ]
  },
  {
   "cell_type": "code",
   "execution_count": 28,
   "id": "8ce3d4c0-8423-4f7a-999a-e54a0bbde620",
   "metadata": {},
   "outputs": [],
   "source": [
    "seed = 100"
   ]
  },
  {
   "cell_type": "code",
   "execution_count": 29,
   "id": "cd6afea1-f5ad-4b13-8ee1-1e321cefb62f",
   "metadata": {},
   "outputs": [
    {
     "name": "stdout",
     "output_type": "stream",
     "text": [
      "time elapsed = 1.58326 minutes\n"
     ]
    }
   ],
   "source": [
    "from sklearn.pipeline import Pipeline\n",
    "from sklearn.ensemble import RandomForestClassifier\n",
    "\n",
    "t0_model_1 = time.time()\n",
    "\n",
    "# build a pipeline containing a vectorizer (TfidfVectorizer) and a classifier (RandomForestClassifier)\n",
    "pipeline_model_1 = Pipeline([(\"vectorizer\", TfidfVectorizer()),\n",
    "                             (\"classifier\", RandomForestClassifier(random_state = seed))])\n",
    "# fit the pipeline using the training data\n",
    "pipeline_model_1.fit(train_clean_lemmas.Tweet_texts, train_clean_lemmas.Sentiment)\n",
    "\n",
    "print(find_time_elapsed(t0_model_1))"
   ]
  },
  {
   "cell_type": "markdown",
   "id": "87b8d9ff-51a6-4b29-a302-b2208c2c1207",
   "metadata": {},
   "source": [
    "### 16. Check the first model on the test dataset. Is it a good model based on the selected evaluation metrics? Please justify your answer."
   ]
  },
  {
   "cell_type": "markdown",
   "id": "397f51a5-c9d9-48cd-bc3f-100b6466ba95",
   "metadata": {},
   "source": [
    "This model has classification difficulties when the true label is neutral as it misclassifies 22% of neutrals as negatives and 32% of neutrals as positives.  The model only correctly classifies 46% of neutrals while it correctly classifies 67% of negatives and 81% of positives.  Additionally, the misclassified negatives are largely classified as positives, and the misclassified positives are largely classified as negatives.\n",
    "\n",
    "The accuracy for this model is somewhat misleading because neutrals are underrepresented in the test dataset.  The accuracy of the overall model is almost 70% while the accuracy for the neutrals is only 46%. "
   ]
  },
  {
   "cell_type": "code",
   "execution_count": 30,
   "id": "911ea6f0-7c4d-4da6-be6e-26f71512c22d",
   "metadata": {},
   "outputs": [
    {
     "name": "stdout",
     "output_type": "stream",
     "text": [
      "accuracy = 0.69142\n"
     ]
    }
   ],
   "source": [
    "# find the accuracy of the model (use the test data)\n",
    "print(\"accuracy =\", round(pipeline_model_1.score(test_clean_lemmas.Tweet_texts, test_clean_lemmas.Sentiment), 5))"
   ]
  },
  {
   "cell_type": "code",
   "execution_count": 31,
   "id": "efbc0b08-6b50-4b26-aab2-2381c7a5415a",
   "metadata": {},
   "outputs": [
    {
     "data": {
      "image/png": "[encoded data removed]",
      "text/plain": [
       "<Figure size 360x360 with 2 Axes>"
      ]
     },
     "metadata": {
      "needs_background": "light"
     },
     "output_type": "display_data"
    },
    {
     "data": {
      "image/png": "[encoded data removed]",
      "text/plain": [
       "<Figure size 360x360 with 2 Axes>"
      ]
     },
     "metadata": {
      "needs_background": "light"
     },
     "output_type": "display_data"
    }
   ],
   "source": [
    "from sklearn.metrics import confusion_matrix, ConfusionMatrixDisplay\n",
    "import numpy\n",
    "\n",
    "def plot_confusion_matrix(pipeline, X_test, y_test):\n",
    "    target_names = [\"negative\", \"neutral\", \"positive\"]\n",
    "    titles_options = [(\"Confusion Matrix\", None), (\"Normalized Confusion Matrix\", \"true\")]\n",
    "\n",
    "    for title, normalize in titles_options:\n",
    "        # generate the predictions using the test data\n",
    "        predictions = pipeline.predict(X_test)\n",
    "        \n",
    "        # create a confusion matrix using the true values and the predictions\n",
    "        cm = confusion_matrix(y_test, predictions, labels = pipeline.classes_, normalize = normalize)\n",
    "        cmp = ConfusionMatrixDisplay(confusion_matrix = cm, display_labels = target_names)\n",
    "\n",
    "        fig, ax = plt.subplots(figsize = (5, 5))\n",
    "        cmp.plot(ax = ax, cmap = \"BuPu\")\n",
    "        ax.set_title(title)\n",
    "\n",
    "# plot a confusion matrix for the model (use the test data)\n",
    "plot_confusion_matrix(pipeline_model_1, test_clean_lemmas.Tweet_texts, test_clean_lemmas.Sentiment)"
   ]
  },
  {
   "cell_type": "markdown",
   "id": "06f2475a-d9f3-4422-a084-59df35f98307",
   "metadata": {},
   "source": [
    "### 17. Create the second model using random forest, pipeline, grid search CV for the hyperparameters for the estimators. (Please see all the potential parameters at Scikit Learn's https://scikit-learn.org/stable/modules/generated/sklearn.feature_extraction.text.TfidfVectorizer.html and https://scikit-learn.org/stable/modules/generated/sklearn.ensemble.RandomForestClassifier.html)"
   ]
  },
  {
   "cell_type": "code",
   "execution_count": 32,
   "id": "5cf768fd-db76-431d-bd23-225f7b719dbd",
   "metadata": {},
   "outputs": [],
   "source": [
    "from sklearn.model_selection import GridSearchCV\n",
    "from pprint import pprint\n",
    "\n",
    "# build a pipeline containing a vectorizer (TfidfVectorizer) and a classifier (RandomForestClassifier)\n",
    "pipeline_model_2 = Pipeline([(\"vectorizer\", TfidfVectorizer()),\n",
    "                             (\"classifier\", RandomForestClassifier(random_state = seed))])\n",
    "\n",
    "parameters = {\n",
    "    \"vectorizer__stop_words\": (None, \"english\"),\n",
    "    \"vectorizer__max_df\": (0.33, 0.66, 1),\n",
    "    \"classifier__min_samples_split\": (2, 4),\n",
    "    \"classifier__min_samples_leaf\": (1, 2, 4)\n",
    "}\n",
    "\n",
    "grid_search_cv = GridSearchCV(pipeline_model_2, parameters, n_jobs = -1, verbose = 1, cv = 4)"
   ]
  },
  {
   "cell_type": "markdown",
   "id": "4c326445-1d29-4d8b-8043-2a65389e3422",
   "metadata": {},
   "source": [
    "### 18. Tune the second model and perform model diagnostics on the test dataset. Is it a good model? Please justify your answer."
   ]
  },
  {
   "cell_type": "markdown",
   "id": "0033e3c5-1a0d-41c9-8375-c00db6ccaf56",
   "metadata": {},
   "source": [
    "The best model is the random forest classification model with `min_samples_leaf` = 2 and `min_samples_split` = 2.  The best parameters for the tf-idf vectorizer are `max_df` = 0.33 and `stop_words` = \"english\"."
   ]
  },
  {
   "cell_type": "markdown",
   "id": "f2bf3830-0842-491c-9621-a4b793f6a622",
   "metadata": {},
   "source": [
    "The accuracy for this model (about 73%) is a slight improvement compared to the first model (about 69%), but this model struggles with classifying neutrals like the first model.  The accuracy for neutrals is only 48% while the accuracy for negatives is 73% and the accuracy for positives is 84%."
   ]
  },
  {
   "cell_type": "code",
   "execution_count": 33,
   "id": "78c7caa1-2b79-44dd-9d84-ae9b3b9826fd",
   "metadata": {},
   "outputs": [
    {
     "name": "stdout",
     "output_type": "stream",
     "text": [
      "pipeline: ['vectorizer', 'classifier']\n",
      "\n",
      "possible parameters:\n",
      "{'classifier__min_samples_leaf': (1, 2, 4),\n",
      " 'classifier__min_samples_split': (2, 4),\n",
      " 'vectorizer__max_df': (0.33, 0.66, 1),\n",
      " 'vectorizer__stop_words': (None, 'english')}\n",
      "\n",
      "\n",
      "Fitting 4 folds for each of 36 candidates, totalling 144 fits\n",
      "\n",
      "best accuracy = 0.72947\n",
      "\n",
      "best parameters:\n",
      "\tclassifier__min_samples_leaf: 2\n",
      "\tclassifier__min_samples_split: 2\n",
      "\tvectorizer__max_df: 0.33\n",
      "\tvectorizer__stop_words: 'english'\n",
      "\n",
      "time elapsed = 22.59774 minutes\n"
     ]
    }
   ],
   "source": [
    "t0_model_2 = time.time()\n",
    "\n",
    "# print the pipeline and the possible parameters\n",
    "print(\"pipeline:\", [name for name, _ in pipeline_model_2.steps])\n",
    "print(\"\\npossible parameters:\")\n",
    "pprint(parameters)\n",
    "print(\"\\n\")\n",
    "\n",
    "# fit the grid search on the training data\n",
    "grid_search_cv.fit(train_clean_lemmas.Tweet_texts, train_clean_lemmas.Sentiment)\n",
    "\n",
    "# find the best model (accuracy and parameters)\n",
    "print(\"\\nbest accuracy =\", round(grid_search_cv.best_score_, 5))\n",
    "print(\"\\nbest parameters:\")\n",
    "best_parameters = grid_search_cv.best_estimator_.get_params()\n",
    "for param_name in sorted(parameters.keys()):\n",
    "    print(\"\\t%s: %r\" % (param_name, best_parameters[param_name]))\n",
    "    \n",
    "print(\"\\n\" + find_time_elapsed(t0_model_2))"
   ]
  },
  {
   "cell_type": "code",
   "execution_count": 34,
   "id": "5c17dd12-7802-488f-affd-cbe8a1c14685",
   "metadata": {},
   "outputs": [
    {
     "name": "stdout",
     "output_type": "stream",
     "text": [
      "accuracy = 0.73354\n"
     ]
    }
   ],
   "source": [
    "# find the accuracy of the model (use the test data)\n",
    "print(\"accuracy =\", round(grid_search_cv.score(test_clean_lemmas.Tweet_texts, test_clean_lemmas.Sentiment), 5))"
   ]
  },
  {
   "cell_type": "code",
   "execution_count": 35,
   "id": "8233224b-0c9f-4727-baa7-cbde596c839e",
   "metadata": {},
   "outputs": [
    {
     "data": {
      "image/png": "[encoded data removed]",
      "text/plain": [
       "<Figure size 360x360 with 2 Axes>"
      ]
     },
     "metadata": {
      "needs_background": "light"
     },
     "output_type": "display_data"
    },
    {
     "data": {
      "image/png": "[encoded data removed]",
      "text/plain": [
       "<Figure size 360x360 with 2 Axes>"
      ]
     },
     "metadata": {
      "needs_background": "light"
     },
     "output_type": "display_data"
    }
   ],
   "source": [
    "# plot a confusion matrix for the model (use the test data)\n",
    "plot_confusion_matrix(grid_search_cv, test_clean_lemmas.Tweet_texts, test_clean_lemmas.Sentiment)"
   ]
  },
  {
   "cell_type": "markdown",
   "id": "afda50db-0c79-4fec-b44a-825fa08b6bbc",
   "metadata": {},
   "source": [
    "### 19. Build the third model using pipeline, grid search CV, hyperparameter for the following classifiers:\n",
    "+ Logistic Regression\n",
    "+ Support Vector Machine\n",
    "+ Random Forest"
   ]
  },
  {
   "cell_type": "code",
   "execution_count": 36,
   "id": "613eb87e-b93f-44d7-9868-3396a526647a",
   "metadata": {},
   "outputs": [],
   "source": [
    "from sklearn.base import BaseEstimator\n",
    "from sklearn.svm import SVC\n",
    "\n",
    "class ClfSwitcher(BaseEstimator):\n",
    "    def __init__(self, estimator = SVC()):\n",
    "        self.estimator = estimator\n",
    "\n",
    "    def fit(self, X, y = None, **kwargs):\n",
    "        self.estimator.fit(X, y)\n",
    "        return self\n",
    "\n",
    "    def predict(self, X, y = None):\n",
    "        return self.estimator.predict(X)\n",
    "\n",
    "    def predict_proba(self, X):\n",
    "        return self.estimator.predict_proba(X)\n",
    "\n",
    "    def score(self, X, y):\n",
    "        return self.estimator.score(X, y)"
   ]
  },
  {
   "cell_type": "code",
   "execution_count": 37,
   "id": "f5663b5b-9d1a-4eec-9335-a32e8a36e873",
   "metadata": {},
   "outputs": [],
   "source": [
    "from sklearn.linear_model import LogisticRegression\n",
    "from sklearn.ensemble import RandomForestClassifier\n",
    "\n",
    "# build a pipeline containing a vectorizer (TfidfVectorizer) and a classifier (ClfSwitcher)\n",
    "# for the vectorizer, use the best parameters found in the previous model\n",
    "pipeline_model_3 = Pipeline([(\"vectorizer\", TfidfVectorizer(stop_words = best_parameters[\"vectorizer__stop_words\"],\n",
    "                                                            max_df = best_parameters[\"vectorizer__max_df\"])),\n",
    "                             (\"classifier\", ClfSwitcher())]) \n",
    "\n",
    "parameters = [\n",
    "    # LogisticRegression parameters\n",
    "    {\n",
    "        \"classifier__estimator\": [LogisticRegression(random_state = seed)],\n",
    "        \"classifier__estimator__penalty\": [\"l2\", \"none\"],\n",
    "    },\n",
    "    # SVC parameters\n",
    "    {\n",
    "        \"classifier__estimator\": [SVC(random_state = seed)],\n",
    "        \"classifier__estimator__C\": (0.5, 1, 2),\n",
    "        \"classifier__estimator__kernel\": [\"linear\", \"rbf\"],\n",
    "    },\n",
    "    # RandomForestClassifier parameters\n",
    "    {\n",
    "        \"classifier__estimator\": [RandomForestClassifier(random_state = seed)],\n",
    "        \"classifier__estimator__min_samples_split\": (2, 4),\n",
    "        \"classifier__estimator__min_samples_leaf\": (1, 2)\n",
    "    },\n",
    "]\n",
    "\n",
    "grid_search_cv_2 = GridSearchCV(pipeline_model_3, parameters, cv = 4, n_jobs = -1, return_train_score = False, verbose = 3) "
   ]
  },
  {
   "cell_type": "markdown",
   "id": "4bc8fde9-82e7-43b5-ba74-bf657e79a472",
   "metadata": {},
   "source": [
    "### 20. Tune the third model and perform model diagnostics on the test dataset. Is it a good model? Please justify your answer."
   ]
  },
  {
   "cell_type": "markdown",
   "id": "73c09a29-1865-4418-839e-6afcacddabfc",
   "metadata": {},
   "source": [
    "The best model is the Support Vector Classification model with `C` = 2 and `kernel` = \"linear\"."
   ]
  },
  {
   "cell_type": "markdown",
   "id": "ec493384-3e4a-46b1-9e59-1992224c60d8",
   "metadata": {},
   "source": [
    "This model is a good model.  Not only is its overall accuracy an improvement over the first two models, but its accuracy for neutrals is a dramatic improvement compared to these models.  This model correctly classifies 81% of negatives, 69% of neutrals, and 84% of positives.\n",
    "\n",
    "Additionally, in this model compared to the first two models, the misclassification of negatives is more evenly spread between neutrals and positives, and the misclassification of positives is more evenly spread between neutrals and negatives."
   ]
  },
  {
   "cell_type": "code",
   "execution_count": 38,
   "id": "962c4e53-fc33-408e-bff9-84eed42cf72e",
   "metadata": {},
   "outputs": [
    {
     "name": "stdout",
     "output_type": "stream",
     "text": [
      "pipeline: ['vectorizer', 'classifier']\n",
      "\n",
      "possible parameters:\n",
      "[{'classifier__estimator': [LogisticRegression(random_state=100)],\n",
      "  'classifier__estimator__penalty': ['l2', 'none']},\n",
      " {'classifier__estimator': [SVC(random_state=100)],\n",
      "  'classifier__estimator__C': (0.5, 1, 2),\n",
      "  'classifier__estimator__kernel': ['linear', 'rbf']},\n",
      " {'classifier__estimator': [RandomForestClassifier(random_state=100)],\n",
      "  'classifier__estimator__min_samples_leaf': (1, 2),\n",
      "  'classifier__estimator__min_samples_split': (2, 4)}]\n",
      "\n",
      "\n",
      "Fitting 4 folds for each of 12 candidates, totalling 48 fits\n",
      "\n",
      "best accuracy = 0.7853\n",
      "\n",
      "best_parameters:\n",
      "\tclassifier__estimator: SVC(C=2, kernel='linear', random_state=100)\n",
      "\tclassifier__estimator__C: 2\n",
      "\tclassifier__estimator__kernel: 'linear'\n",
      "\n",
      "time elapsed = 1.11831 hours\n"
     ]
    }
   ],
   "source": [
    "t0_model_3 = time.time()\n",
    "\n",
    "# print the pipeline and the possible parameters\n",
    "print(\"pipeline:\", [name for name, _ in pipeline_model_3.steps])\n",
    "print(\"\\npossible parameters:\")\n",
    "pprint(parameters)\n",
    "print(\"\\n\")\n",
    "\n",
    "# fit the grid search on the training data\n",
    "grid_search_cv_2.fit(train_clean_lemmas.Tweet_texts, train_clean_lemmas.Sentiment)\n",
    "\n",
    "# find the best model (accuracy and parameters)\n",
    "print(\"\\nbest accuracy =\", round(grid_search_cv_2.best_score_, 5))\n",
    "best_parameters = grid_search_cv_2.best_estimator_.get_params()\n",
    "all_classifiers = []\n",
    "for parameter in parameters:\n",
    "    all_classifiers.append(parameter[\"classifier__estimator\"])\n",
    "all_classifiers = [str(alg) for clf in all_classifiers for alg in clf]\n",
    "print(\"\\nbest_parameters:\")\n",
    "idx = all_classifiers.index(str(best_parameters[\"classifier__estimator\"]))\n",
    "for param_name in sorted(parameters[idx].keys()):\n",
    "    print(\"\\t%s: %r\" % (param_name, best_parameters[param_name]))\n",
    "\n",
    "print(\"\\n\" + find_time_elapsed(t0_model_3))"
   ]
  },
  {
   "cell_type": "code",
   "execution_count": 39,
   "id": "258efff0-780e-4bd1-a34e-d9da3c7c64fc",
   "metadata": {},
   "outputs": [
    {
     "name": "stdout",
     "output_type": "stream",
     "text": [
      "accuracy = 0.80437\n"
     ]
    }
   ],
   "source": [
    "# find the accuracy of the model (use the test data)\n",
    "print(\"accuracy =\", round(grid_search_cv_2.score(test_clean_lemmas.Tweet_texts, test_clean_lemmas.Sentiment), 5))"
   ]
  },
  {
   "cell_type": "code",
   "execution_count": 47,
   "id": "7cde1cf9-56fd-4957-a929-7b215021a1de",
   "metadata": {},
   "outputs": [
    {
     "data": {
      "image/png": "[encoded data removed]",
      "text/plain": [
       "<Figure size 432x288 with 2 Axes>"
      ]
     },
     "metadata": {
      "needs_background": "light"
     },
     "output_type": "display_data"
    },
    {
     "data": {
      "image/png": "[encoded data removed]",
      "text/plain": [
       "<Figure size 432x288 with 2 Axes>"
      ]
     },
     "metadata": {
      "needs_background": "light"
     },
     "output_type": "display_data"
    }
   ],
   "source": [
    "# plot a confusion matrix for the model (use the test data)\n",
    "target_names = [\"negative\", \"neutral\", \"positive\"]\n",
    "titles_options = [(\"Confusion Matrix\", None), (\"Normalized Confusion Matrix\", \"true\")]\n",
    "for title, normalize in titles_options:\n",
    "    ax = plt.axes() \n",
    "    predictions = grid_search_cv_2.predict(test_clean_lemmas.Tweet_texts)\n",
    "    cm = confusion_matrix(test_clean_lemmas.Sentiment, predictions, normalize = normalize)\n",
    "    if normalize:\n",
    "        sns.heatmap(cm, annot = True, fmt = \".2f\", xticklabels = target_names, yticklabels = target_names, cmap = \"BuPu\")\n",
    "    else:\n",
    "        sns.heatmap(cm, annot = True, fmt = \".0f\", xticklabels = target_names, yticklabels = target_names, cmap = \"BuPu\")\n",
    "    ax.set_title(title)\n",
    "    plt.xlabel(\"Predicted label\") \n",
    "    plt.ylabel(\"True label\")\n",
    "    plt.show()"
   ]
  },
  {
   "cell_type": "markdown",
   "id": "f7a4fa6b-5b98-4b0e-b072-8907a1e3eff6",
   "metadata": {},
   "source": [
    "### For Q21 to Q25, please only work on the training dataset."
   ]
  },
  {
   "cell_type": "markdown",
   "id": "b5704f1c-a46d-4362-97ed-9e7aad46948d",
   "metadata": {},
   "source": [
    "### 21. Generate the first topic model by setting five topics using LDA method and `CountVectorizer`."
   ]
  },
  {
   "cell_type": "code",
   "execution_count": 14,
   "id": "088da2f7-19db-4f56-aefa-2a66c0758fe7",
   "metadata": {},
   "outputs": [
    {
     "data": {
      "text/html": [
       "<style>#sk-container-id-1 {color: black;background-color: white;}#sk-container-id-1 pre{padding: 0;}#sk-container-id-1 div.sk-toggleable {background-color: white;}#sk-container-id-1 label.sk-toggleable__label {cursor: pointer;display: block;width: 100%;margin-bottom: 0;padding: 0.3em;box-sizing: border-box;text-align: center;}#sk-container-id-1 label.sk-toggleable__label-arrow:before {content: \"▸\";float: left;margin-right: 0.25em;color: #696969;}#sk-container-id-1 label.sk-toggleable__label-arrow:hover:before {color: black;}#sk-container-id-1 div.sk-estimator:hover label.sk-toggleable__label-arrow:before {color: black;}#sk-container-id-1 div.sk-toggleable__content {max-height: 0;max-width: 0;overflow: hidden;text-align: left;background-color: #f0f8ff;}#sk-container-id-1 div.sk-toggleable__content pre {margin: 0.2em;color: black;border-radius: 0.25em;background-color: #f0f8ff;}#sk-container-id-1 input.sk-toggleable__control:checked~div.sk-toggleable__content {max-height: 200px;max-width: 100%;overflow: auto;}#sk-container-id-1 input.sk-toggleable__control:checked~label.sk-toggleable__label-arrow:before {content: \"▾\";}#sk-container-id-1 div.sk-estimator input.sk-toggleable__control:checked~label.sk-toggleable__label {background-color: #d4ebff;}#sk-container-id-1 div.sk-label input.sk-toggleable__control:checked~label.sk-toggleable__label {background-color: #d4ebff;}#sk-container-id-1 input.sk-hidden--visually {border: 0;clip: rect(1px 1px 1px 1px);clip: rect(1px, 1px, 1px, 1px);height: 1px;margin: -1px;overflow: hidden;padding: 0;position: absolute;width: 1px;}#sk-container-id-1 div.sk-estimator {font-family: monospace;background-color: #f0f8ff;border: 1px dotted black;border-radius: 0.25em;box-sizing: border-box;margin-bottom: 0.5em;}#sk-container-id-1 div.sk-estimator:hover {background-color: #d4ebff;}#sk-container-id-1 div.sk-parallel-item::after {content: \"\";width: 100%;border-bottom: 1px solid gray;flex-grow: 1;}#sk-container-id-1 div.sk-label:hover label.sk-toggleable__label {background-color: #d4ebff;}#sk-container-id-1 div.sk-serial::before {content: \"\";position: absolute;border-left: 1px solid gray;box-sizing: border-box;top: 0;bottom: 0;left: 50%;z-index: 0;}#sk-container-id-1 div.sk-serial {display: flex;flex-direction: column;align-items: center;background-color: white;padding-right: 0.2em;padding-left: 0.2em;position: relative;}#sk-container-id-1 div.sk-item {position: relative;z-index: 1;}#sk-container-id-1 div.sk-parallel {display: flex;align-items: stretch;justify-content: center;background-color: white;position: relative;}#sk-container-id-1 div.sk-item::before, #sk-container-id-1 div.sk-parallel-item::before {content: \"\";position: absolute;border-left: 1px solid gray;box-sizing: border-box;top: 0;bottom: 0;left: 50%;z-index: -1;}#sk-container-id-1 div.sk-parallel-item {display: flex;flex-direction: column;z-index: 1;position: relative;background-color: white;}#sk-container-id-1 div.sk-parallel-item:first-child::after {align-self: flex-end;width: 50%;}#sk-container-id-1 div.sk-parallel-item:last-child::after {align-self: flex-start;width: 50%;}#sk-container-id-1 div.sk-parallel-item:only-child::after {width: 0;}#sk-container-id-1 div.sk-dashed-wrapped {border: 1px dashed gray;margin: 0 0.4em 0.5em 0.4em;box-sizing: border-box;padding-bottom: 0.4em;background-color: white;}#sk-container-id-1 div.sk-label label {font-family: monospace;font-weight: bold;display: inline-block;line-height: 1.2em;}#sk-container-id-1 div.sk-label-container {text-align: center;}#sk-container-id-1 div.sk-container {/* jupyter's `normalize.less` sets `[hidden] { display: none; }` but bootstrap.min.css set `[hidden] { display: none !important; }` so we also need the `!important` here to be able to override the default hidden behavior on the sphinx rendered scikit-learn.org. See: https://github.com/scikit-learn/scikit-learn/issues/21755 */display: inline-block !important;position: relative;}#sk-container-id-1 div.sk-text-repr-fallback {display: none;}</style><div id=\"sk-container-id-1\" class=\"sk-top-container\"><div class=\"sk-text-repr-fallback\"><pre>LatentDirichletAllocation(n_components=5, random_state=100)</pre><b>In a Jupyter environment, please rerun this cell to show the HTML representation or trust the notebook. <br />On GitHub, the HTML representation is unable to render, please try loading this page with nbviewer.org.</b></div><div class=\"sk-container\" hidden><div class=\"sk-item\"><div class=\"sk-estimator sk-toggleable\"><input class=\"sk-toggleable__control sk-hidden--visually\" id=\"sk-estimator-id-1\" type=\"checkbox\" checked><label for=\"sk-estimator-id-1\" class=\"sk-toggleable__label sk-toggleable__label-arrow\">LatentDirichletAllocation</label><div class=\"sk-toggleable__content\"><pre>LatentDirichletAllocation(n_components=5, random_state=100)</pre></div></div></div></div></div>"
      ],
      "text/plain": [
       "LatentDirichletAllocation(n_components=5, random_state=100)"
      ]
     },
     "execution_count": 14,
     "metadata": {},
     "output_type": "execute_result"
    }
   ],
   "source": [
    "from sklearn.feature_extraction.text import CountVectorizer\n",
    "from sklearn.decomposition import LatentDirichletAllocation\n",
    "\n",
    "# create a CountVectorizer object\n",
    "tf_vectorizer = CountVectorizer(stop_words = \"english\")\n",
    "# fit and transform the corpus and generate the document word matrix\n",
    "document_word_matrix_tf = tf_vectorizer.fit_transform(train_clean_lemmas.Tweet_texts)\n",
    "\n",
    "# create a LatentDirichletAllocation object\n",
    "lda = LatentDirichletAllocation(n_components = 5, random_state = seed)\n",
    "# fit the document word matrix\n",
    "lda.fit(document_word_matrix_tf)"
   ]
  },
  {
   "cell_type": "markdown",
   "id": "8590f6b5-9411-40a8-a518-40ee9bc982d5",
   "metadata": {},
   "source": [
    "### 22. Plot the top 15 words for each topic for the model above."
   ]
  },
  {
   "cell_type": "code",
   "execution_count": 42,
   "id": "3851d790-8935-4005-a243-d1a1a87635aa",
   "metadata": {},
   "outputs": [
    {
     "data": {
      "image/png": "[encoded data removed]",
      "text/plain": [
       "<Figure size 2160x1080 with 6 Axes>"
      ]
     },
     "metadata": {
      "needs_background": "light"
     },
     "output_type": "display_data"
    }
   ],
   "source": [
    "import matplotlib.pyplot as plt\n",
    "\n",
    "def plot_top_words(model, feature_names, n_top_words, title):\n",
    "    # create 6 subplots (2 rows and 3 columns of plots)\n",
    "    # we have 5 topics, so 1 of the 6 subplots will be blank\n",
    "    fig, axes = plt.subplots(2, 3, figsize = (30, 15), sharex = True)\n",
    "    # flatten the axes so that we can loop through the plots without using nested loops\n",
    "    axes = axes.flatten()\n",
    "    \n",
    "    # loop over the 5 topics\n",
    "    for topic_idx, topic in enumerate(model.components_):\n",
    "        # rank the values and take out the indices corresponding to the top values\n",
    "        top_features_ind = topic.argsort()[:-n_top_words - 1:-1]\n",
    "        # extract the top features using the top indices\n",
    "        top_features = [feature_names[i] for i in top_features_ind]\n",
    "        # extract the weights using the top indices\n",
    "        weights = topic[top_features_ind]\n",
    "        \n",
    "        # extract the axes of the subplot\n",
    "        ax = axes[topic_idx]\n",
    "        # create a horizontal bar plot\n",
    "        ax.barh(top_features, weights, height = 0.7) \n",
    "        ax.set_title(f\"Topic {topic_idx + 1}\", fontdict = {\"fontsize\": 30})\n",
    "        ax.invert_yaxis()\n",
    "        ax.tick_params(axis = \"both\", which = \"major\", labelsize = 20)\n",
    "        # remove the top, right, and left axis from the plot\n",
    "        for i in \"top right left\".split():\n",
    "            ax.spines[i].set_visible(False)\n",
    "        fig.suptitle(title, fontsize=40)\n",
    "\n",
    "    plt.subplots_adjust(top = 0.90, bottom = 0.05, wspace = 0.90, hspace = 0.3)\n",
    "    plt.show()\n",
    "\n",
    "tf_feature_names = tf_vectorizer.get_feature_names_out()\n",
    "plot_top_words(lda, tf_feature_names, 15, \"Top 15 Words in Topics (LDA and CountVectorizer)\")"
   ]
  },
  {
   "cell_type": "markdown",
   "id": "bef92f7b-4fa4-4500-89f4-67e86bc0a2ef",
   "metadata": {},
   "source": [
    "### 23. Generate the second topic model by setting five topics using LDA method and `TfidfVectorizer`."
   ]
  },
  {
   "cell_type": "code",
   "execution_count": 30,
   "id": "4741e128-d97e-41ad-be91-25208f90f2c5",
   "metadata": {},
   "outputs": [
    {
     "data": {
      "text/html": [
       "<style>#sk-container-id-3 {color: black;background-color: white;}#sk-container-id-3 pre{padding: 0;}#sk-container-id-3 div.sk-toggleable {background-color: white;}#sk-container-id-3 label.sk-toggleable__label {cursor: pointer;display: block;width: 100%;margin-bottom: 0;padding: 0.3em;box-sizing: border-box;text-align: center;}#sk-container-id-3 label.sk-toggleable__label-arrow:before {content: \"▸\";float: left;margin-right: 0.25em;color: #696969;}#sk-container-id-3 label.sk-toggleable__label-arrow:hover:before {color: black;}#sk-container-id-3 div.sk-estimator:hover label.sk-toggleable__label-arrow:before {color: black;}#sk-container-id-3 div.sk-toggleable__content {max-height: 0;max-width: 0;overflow: hidden;text-align: left;background-color: #f0f8ff;}#sk-container-id-3 div.sk-toggleable__content pre {margin: 0.2em;color: black;border-radius: 0.25em;background-color: #f0f8ff;}#sk-container-id-3 input.sk-toggleable__control:checked~div.sk-toggleable__content {max-height: 200px;max-width: 100%;overflow: auto;}#sk-container-id-3 input.sk-toggleable__control:checked~label.sk-toggleable__label-arrow:before {content: \"▾\";}#sk-container-id-3 div.sk-estimator input.sk-toggleable__control:checked~label.sk-toggleable__label {background-color: #d4ebff;}#sk-container-id-3 div.sk-label input.sk-toggleable__control:checked~label.sk-toggleable__label {background-color: #d4ebff;}#sk-container-id-3 input.sk-hidden--visually {border: 0;clip: rect(1px 1px 1px 1px);clip: rect(1px, 1px, 1px, 1px);height: 1px;margin: -1px;overflow: hidden;padding: 0;position: absolute;width: 1px;}#sk-container-id-3 div.sk-estimator {font-family: monospace;background-color: #f0f8ff;border: 1px dotted black;border-radius: 0.25em;box-sizing: border-box;margin-bottom: 0.5em;}#sk-container-id-3 div.sk-estimator:hover {background-color: #d4ebff;}#sk-container-id-3 div.sk-parallel-item::after {content: \"\";width: 100%;border-bottom: 1px solid gray;flex-grow: 1;}#sk-container-id-3 div.sk-label:hover label.sk-toggleable__label {background-color: #d4ebff;}#sk-container-id-3 div.sk-serial::before {content: \"\";position: absolute;border-left: 1px solid gray;box-sizing: border-box;top: 0;bottom: 0;left: 50%;z-index: 0;}#sk-container-id-3 div.sk-serial {display: flex;flex-direction: column;align-items: center;background-color: white;padding-right: 0.2em;padding-left: 0.2em;position: relative;}#sk-container-id-3 div.sk-item {position: relative;z-index: 1;}#sk-container-id-3 div.sk-parallel {display: flex;align-items: stretch;justify-content: center;background-color: white;position: relative;}#sk-container-id-3 div.sk-item::before, #sk-container-id-3 div.sk-parallel-item::before {content: \"\";position: absolute;border-left: 1px solid gray;box-sizing: border-box;top: 0;bottom: 0;left: 50%;z-index: -1;}#sk-container-id-3 div.sk-parallel-item {display: flex;flex-direction: column;z-index: 1;position: relative;background-color: white;}#sk-container-id-3 div.sk-parallel-item:first-child::after {align-self: flex-end;width: 50%;}#sk-container-id-3 div.sk-parallel-item:last-child::after {align-self: flex-start;width: 50%;}#sk-container-id-3 div.sk-parallel-item:only-child::after {width: 0;}#sk-container-id-3 div.sk-dashed-wrapped {border: 1px dashed gray;margin: 0 0.4em 0.5em 0.4em;box-sizing: border-box;padding-bottom: 0.4em;background-color: white;}#sk-container-id-3 div.sk-label label {font-family: monospace;font-weight: bold;display: inline-block;line-height: 1.2em;}#sk-container-id-3 div.sk-label-container {text-align: center;}#sk-container-id-3 div.sk-container {/* jupyter's `normalize.less` sets `[hidden] { display: none; }` but bootstrap.min.css set `[hidden] { display: none !important; }` so we also need the `!important` here to be able to override the default hidden behavior on the sphinx rendered scikit-learn.org. See: https://github.com/scikit-learn/scikit-learn/issues/21755 */display: inline-block !important;position: relative;}#sk-container-id-3 div.sk-text-repr-fallback {display: none;}</style><div id=\"sk-container-id-3\" class=\"sk-top-container\"><div class=\"sk-text-repr-fallback\"><pre>LatentDirichletAllocation(n_components=5, random_state=100)</pre><b>In a Jupyter environment, please rerun this cell to show the HTML representation or trust the notebook. <br />On GitHub, the HTML representation is unable to render, please try loading this page with nbviewer.org.</b></div><div class=\"sk-container\" hidden><div class=\"sk-item\"><div class=\"sk-estimator sk-toggleable\"><input class=\"sk-toggleable__control sk-hidden--visually\" id=\"sk-estimator-id-3\" type=\"checkbox\" checked><label for=\"sk-estimator-id-3\" class=\"sk-toggleable__label sk-toggleable__label-arrow\">LatentDirichletAllocation</label><div class=\"sk-toggleable__content\"><pre>LatentDirichletAllocation(n_components=5, random_state=100)</pre></div></div></div></div></div>"
      ],
      "text/plain": [
       "LatentDirichletAllocation(n_components=5, random_state=100)"
      ]
     },
     "execution_count": 30,
     "metadata": {},
     "output_type": "execute_result"
    }
   ],
   "source": [
    "from sklearn.feature_extraction.text import TfidfVectorizer\n",
    "\n",
    "# create a TfidfVectorizer object\n",
    "tf_idf_vectorizer = TfidfVectorizer(stop_words = \"english\")\n",
    "# fit and transform the corpus and generate the document word matrix\n",
    "document_word_matrix_tf_idf = tf_idf_vectorizer.fit_transform(train_clean_lemmas.Tweet_texts) \n",
    "\n",
    "# create a LatentDirichletAllocation object\n",
    "lda_tf_idf = LatentDirichletAllocation(n_components = 5, random_state = seed)\n",
    "# fit the document word matrix\n",
    "lda_tf_idf.fit(document_word_matrix_tf_idf)"
   ]
  },
  {
   "cell_type": "markdown",
   "id": "a9c005ac-24c0-4bf0-ad59-89efb02815fb",
   "metadata": {},
   "source": [
    "### 24. Plot the top 15 words for each topic for the second model above."
   ]
  },
  {
   "cell_type": "code",
   "execution_count": 44,
   "id": "81e5d059-b9f3-4c21-be4e-906491532c3b",
   "metadata": {},
   "outputs": [
    {
     "data": {
      "image/png": "[encoded data removed]",
      "text/plain": [
       "<Figure size 2160x1080 with 6 Axes>"
      ]
     },
     "metadata": {
      "needs_background": "light"
     },
     "output_type": "display_data"
    }
   ],
   "source": [
    "tf_idf_feature_names = tf_idf_vectorizer.get_feature_names_out()\n",
    "plot_top_words(lda_tf_idf, tf_idf_feature_names, 15, \"Top 15 Words in Topics (LDA and TfidfVectorizer)\")"
   ]
  },
  {
   "cell_type": "markdown",
   "id": "1a5c5bda-bab4-4b31-8e99-d30d71ee1f34",
   "metadata": {},
   "source": [
    "### 25. Visualize the second topic model using the dimension reduction method."
   ]
  },
  {
   "cell_type": "code",
   "execution_count": null,
   "id": "2cec16eb-bacd-456f-a6c3-112a36cd48f0",
   "metadata": {},
   "outputs": [
    {
     "data": {
      "text/html": [
       "\n",
       "<link rel=\"stylesheet\" type=\"text/css\" href=\"https://cdn.jsdelivr.net/gh/bmabey/pyLDAvis@3.3.1/pyLDAvis/js/ldavis.v1.0.0.css\">\n",
       "\n",
       "\n",
       "<div id=\"ldavis_el1781623934470615361592871469\"></div>\n",
       "<script type=\"text/javascript\">\n",
       "\n",
       "var ldavis_el1781623934470615361592871469_data = {\"mdsDat\": {\"x\": [-0.11407625312972829, -0.11866734961035862, 0.076370849014066, 0.07046186339104445, 0.08591089033497655], \"y\": [-0.09425895453178287, 0.09114940147711831, -0.06668025546355884, 0.05434176093932494, 0.015448047578898262], \"topics\": [1, 2, 3, 4, 5], \"cluster\": [1, 1, 1, 1, 1], \"Freq\": [42.98314890260719, 30.496770575822396, 9.306610068460328, 9.25865830960791, 7.954812143502169]}, \"tinfo\": {\"Term\": [\"hand\", \"consumer\", \"sanitizer\", \"supermarket\", \"price\", \"oil\", \"scam\", \"grocery\", \"impact\", \"store\", \"demand\", \"19\", \"toilet\", \"covid\", \"paper\", \"wash\", \"usa\", \"use\", \"glove\", \"mask\", \"states\", \"scammer\", \"united\", \"behavior\", \"report\", \"shelf\", \"fall\", \"cough\", \"global\", \"alcohol\", \"nurse\", \"selfish\", \"hero\", \"bare\", \"doctor\", \"grateful\", \"pile\", \"nhs\", \"frontline\", \"deserve\", \"loo\", \"gun\", \"pub\", \"bread\", \"pasta\", \"strip\", \"dog\", \"unnecessary\", \"teacher\", \"scared\", \"greedy\", \"yorkshire\", \"apart\", \"truck\", \"pharmacist\", \"driver\", \"scary\", \"trucker\", \"neighbor\", \"unsung\", \"god\", \"fuck\", \"shelf\", \"bit\", \"isolate\", \"staff\", \"responder\", \"worker\", \"healthy\", \"supermarket\", \"slot\", \"plenty\", \"grocery\", \"panic\", \"thank\", \"people\", \"store\", \"shop\", \"line\", \"don\", \"just\", \"work\", \"buy\", \"local\", \"stop\", \"need\", \"stay\", \"delivery\", \"hour\", \"leave\", \"like\", \"buying\", \"food\", \"toilet\", \"essential\", \"england\", \"day\", \"paper\", \"time\", \"stock\", \"home\", \"make\", \"amp\", \"19\", \"shopping\", \"online\", \"covid\", \"help\", \"spending\", \"saudi\", \"oil\", \"recession\", \"confidence\", \"crude\", \"arabia\", \"plunge\", \"plummet\", \"decline\", \"housing\", \"sentiment\", \"output\", \"opec\", \"disruption\", \"analyst\", \"barrel\", \"survey\", \"insight\", \"revenue\", \"investor\", \"webinar\", \"analysis\", \"pattern\", \"energy\", \"mortgage\", \"slump\", \"economic\", \"expectation\", \"behavior\", \"impact\", \"financial\", \"fall\", \"economy\", \"datum\", \"consumer\", \"global\", \"russia\", \"property\", \"industry\", \"sector\", \"demand\", \"march\", \"price\", \"market\", \"rise\", \"surge\", \"low\", \"amid\", \"cut\", \"change\", \"pandemic\", \"covid\", \"drop\", \"19\", \"crisis\", \"business\", \"increase\", \"report\", \"new\", \"outbreak\", \"coronavirus\", \"amp\", \"food\", \"india\", \"supply\", \"online\", \"company\", \"york\", \"help\", \"wuhan\", \"tear\", \"paisley\", \"lick\", \"brad\", \"bidet\", \"teen\", \"classify\", \"terror\", \"breathe\", \"kimberly\", \"throat\", \"disturb\", \"spiral\", \"plexiglass\", \"trent\", \"lmao\", \"loyalty\", \"abc\", \"terroristic\", \"clorox\", \"bent\", \"survivalist\", \"williams\", \"aside\", \"leilani\", \"allege\", \"bible\", \"kiss\", \"latex\", \"danish\", \"privilege\", \"bike\", \"formula\", \"genius\", \"bog\", \"alcohol\", \"ebay\", \"allegedly\", \"rub\", \"spray\", \"trick\", \"hand\", \"purell\", \"sanitizer\", \"soap\", \"wash\", \"wipe\", \"arrest\", \"minnesota\", \"man\", \"italy\", \"cough\", \"use\", \"glove\", \"sanitiser\", \"supermarket\", \"grocery\", \"touch\", \"store\", \"mask\", \"join\", \"make\", \"toilet\", \"paper\", \"19\", \"usa\", \"california\", \"covid\", \"wear\", \"coronavirus\", \"fight\", \"help\", \"good\", \"price\", \"amp\", \"people\", \"scammer\", \"ftc\", \"beware\", \"joe\", \"emirate\", \"humor\", \"fraudulent\", \"prey\", \"scammers\", \"d19\", \"honolulu\", \"arrow\", \"bogus\", \"fijian\", \"robocall\", \"fiji\", \"circulate\", \"ssa\", \"gouger\", \"suva\", \"crook\", \"heights\", \"scam\", \"starbuck\", \"norwalk\", \"b2b\", \"surpass\", \"assignment\", \"floridian\", \"bbb\", \"finding\", \"publix\", \"phishe\", \"oman\", \"fraudster\", \"rwanda\", \"kampala\", \"alert\", \"arab\", \"fake\", \"trader\", \"scheme\", \"vaccine\", \"fraud\", \"aware\", \"uganda\", \"cure\", \"advantage\", \"fda\", \"tip\", \"warning\", \"avoid\", \"information\", \"states\", \"usa\", \"19\", \"united\", \"covid\", \"price\", \"check\", \"coronavirus\", \"consumer\", \"report\", \"new\", \"fear\", \"die\", \"paper\", \"test\", \"store\", \"grocery\", \"use\", \"online\", \"toilet\", \"sanitizer\", \"hand\", \"kong\", \"hong\", \"lancashire\", \"threshold\", \"hul\", \"birx\", \"hindustan\", \"milano\", \"railway\", \"godrej\", \"unilever\", \"baton\", \"rouge\", \"soldier\", \"barrie\", \"cairo\", \"alto\", \"goodness\", \"christ\", \"palo\", \"dettol\", \"bcg\", \"barbara\", \"bangladesh\", \"countdown\", \"guwahati\", \"dang\", \"insanity\", \"cousin\", \"monica\", \"pasadena\", \"worcester\", \"santa\", \"regina\", \"prioritise\", \"fmcg\", \"homemade\", \"clearwater\", \"99\", \"function\", \"calpol\", \"hampshire\", \"sanitizer\", \"hand\", \"online\", \"shopping\", \"price\", \"19\", \"mask\", \"covid\", \"england\", \"supermarket\", \"amp\", \"just\", \"make\", \"london\", \"need\", \"increase\", \"food\", \"use\", \"grocery\", \"shop\", \"help\", \"website\", \"store\", \"people\", \"say\", \"home\", \"pandemic\", \"time\"], \"Freq\": [351.0, 532.0, 325.0, 724.0, 782.0, 215.0, 94.0, 703.0, 194.0, 809.0, 299.0, 950.0, 247.0, 833.0, 243.0, 81.0, 308.0, 232.0, 99.0, 242.0, 129.0, 39.0, 235.0, 101.0, 156.0, 220.0, 119.0, 72.0, 148.0, 54.0, 75.13117490160579, 51.497639910726825, 55.94120274185759, 29.150146798886997, 69.9834393318595, 23.36299868470555, 23.079601138034267, 56.251544806411616, 40.40111416326058, 29.709034019073258, 20.268310823051934, 20.081817012505084, 26.27947507387597, 44.50061326764881, 35.66296065914048, 21.805853851851595, 26.791797572730278, 15.149629389690512, 21.560284001159154, 15.546332782334055, 23.35785545787738, 25.154652431369662, 33.08097849208921, 39.6970939079788, 13.396974549533414, 85.02421796337073, 18.68466570004134, 12.329549747129839, 24.144641871348647, 11.691228613935696, 38.073458584658695, 51.605367974653376, 201.77477243016764, 37.50288626287922, 47.80839014309018, 156.3991340645396, 33.95436697417811, 322.7996019530505, 46.722242175572305, 592.0147676982693, 48.73382083297131, 39.94369803534457, 564.0811308328263, 286.90101721376885, 183.04031524191913, 465.62054483383736, 630.6423821610771, 258.8881529369811, 134.83636147203563, 222.5729145329816, 262.725096730179, 285.3082884323142, 249.0633859872, 176.60895179291938, 165.8441126002596, 320.647227931976, 195.80239963407533, 168.18067257890726, 114.28997476649735, 116.57338515044127, 231.27928887693966, 144.51665434508143, 444.32931620548186, 187.42864233787395, 158.1332192879749, 204.3884662311666, 192.68153000887958, 178.1603633158217, 251.71020793491542, 218.18372242599133, 215.97789430523585, 210.01279358350726, 263.479318058623, 373.2552845456362, 217.238586227318, 232.05087996642771, 301.97832232840216, 181.85019909758165, 50.92097198024038, 38.865244399291484, 211.69912889903478, 36.071453826954205, 41.81318169884781, 33.60816498001114, 30.944327870878464, 31.037476523943987, 32.84084968661707, 40.71639769412876, 24.382992379386543, 34.835841477040894, 22.090941392208116, 20.713885306839945, 25.099973578942123, 19.512964265118548, 19.221934304302543, 42.477600552916854, 43.85073066787337, 18.969231121000455, 18.227654897204655, 26.86400993741471, 20.036583045110593, 17.516523409814376, 35.62203506885431, 17.318500746884304, 16.486860732951484, 76.34160393860357, 17.712740979806593, 97.40244026592916, 183.06256971362723, 59.060152954212036, 108.34953917854556, 90.10990191882117, 51.926209179047525, 437.7604397863083, 127.86390498554205, 36.38580936564109, 26.539373940642633, 88.26704057008877, 48.39150853788238, 224.56327684396555, 80.33425851610816, 515.441055924045, 151.354010157119, 82.5837990359351, 59.55823346907083, 127.66618978234898, 121.3094706741835, 70.71758882145625, 124.0331515167397, 214.0643587848851, 411.7652286503559, 84.49085670577861, 426.19440540550414, 144.85105366328284, 134.0659822597933, 124.98389001754406, 101.10240642158362, 198.54591435259104, 108.91906773618666, 152.35311074983363, 177.9946342154411, 195.70289061666145, 109.17085882322999, 111.99935071500923, 125.22139362839633, 92.08173747196162, 96.78257314716241, 95.37536693452297, 20.23576294264143, 16.034138431275576, 12.21278389788566, 15.069798654458351, 10.373474870356716, 8.133995353428695, 10.11161789658466, 9.146790061021042, 5.399887860465762, 6.748583971318731, 4.633639900306793, 4.604878407925076, 4.652441443132383, 4.48440306964906, 4.427564982671924, 4.420096064512021, 4.405541717939688, 4.269114593572595, 4.178700716351202, 4.128932559323856, 6.709817880752377, 3.879113515592345, 3.8409674038025585, 3.747539304603162, 9.027642321932408, 3.711305524797084, 4.207010126236257, 3.6286654028689256, 3.7406884782874923, 3.54112376800242, 6.759451105584581, 4.941718182063477, 5.781537316488539, 7.610169252408873, 7.211580589142835, 8.517178950674943, 34.89190074046666, 13.631402785928303, 9.640605005461603, 7.750046983489737, 14.459960188099, 8.108151909537048, 123.81883322443706, 6.250079311560879, 113.36468719781796, 31.03835513148167, 34.01359020968121, 29.09361770884187, 14.249880045735658, 11.443193286342623, 26.002084527632768, 20.45698861640579, 24.22474155830597, 41.16607654796335, 25.58077616038318, 14.173019456347683, 64.04892248475294, 59.04082350549908, 17.48894250994229, 58.24422987939158, 33.58376345952155, 18.29183423459688, 33.73568082495637, 30.100070123715955, 28.097972459101527, 43.07308812380849, 29.664954999517025, 19.095172796251084, 29.69974914294731, 19.67915179472271, 22.62981532063077, 18.849575433201657, 20.7926827203433, 19.806598270144303, 21.11328853174864, 20.28293378135509, 20.112763227812085, 38.387691873471475, 20.415691879139086, 17.591777026415727, 14.95391235867932, 14.350971959215086, 10.706169211879311, 9.489187129690686, 7.583493141475499, 6.398722839594523, 10.005166938969584, 5.47142540956098, 5.307720564298822, 5.04712700290306, 4.74311601832993, 4.460933362369973, 9.064321700581727, 4.244034264131994, 4.130978243469296, 4.116033189081676, 4.0953444857025785, 3.9181059449525555, 3.9302843830758087, 80.41649061130805, 4.137371142832445, 4.426511198842282, 3.759200262235535, 4.17435867319196, 3.643373809749904, 3.4129047793654688, 3.3187110068193237, 6.43412225994352, 7.2954843126715785, 6.619213157911053, 9.618599442640836, 7.111717211180667, 7.912121690672177, 12.991330038030933, 23.533026215540836, 12.833071976450066, 18.714457346674557, 18.558059551389608, 7.6903227456185395, 15.78153397590784, 13.938580087772126, 13.835041926209717, 13.152361726672778, 19.33519344175392, 24.334023720253196, 12.050048808141831, 29.975310948515553, 10.78827404350346, 27.15286593983744, 24.0629482710575, 31.813935711679875, 44.83148079100856, 74.01394826234191, 36.58287658281871, 62.39813388171321, 57.17228781002683, 25.82013702248459, 36.65269086215613, 45.06231956885099, 26.950324831580076, 36.423528531348516, 20.221111167853756, 21.186438269702986, 24.878815309157776, 20.385634531264134, 28.824457117434758, 27.04067784919257, 22.63097024327801, 22.34423182812129, 20.79281141851996, 20.522467716653395, 19.842497803114597, 18.00589583244753, 17.775130965604003, 7.280275918429669, 6.5095222061662845, 6.252496341274453, 6.145390838726895, 7.855614036788693, 6.319103190896686, 5.259113403262916, 4.960262812130741, 6.1953152897045785, 4.443968870605278, 4.443968870605278, 4.4879177529072525, 4.246834569513365, 4.222829023107638, 4.148464596944585, 4.169701591234526, 4.553514581336564, 3.894109601641258, 3.8833398862842845, 3.8892089679905903, 4.68115826449568, 7.89209720833099, 3.8669152789992145, 3.5995935211743872, 3.620620597338395, 3.558667744957947, 3.701679809356859, 5.778069554453967, 5.019881991277077, 5.095511481495272, 11.139373064432592, 4.776886956346429, 5.661556866889551, 6.75533968143893, 10.463813376328321, 5.071955430473335, 13.07026349622086, 5.327866407219917, 4.787244011106013, 6.880411931936515, 35.68083403349138, 35.20914376243605, 30.468939712381736, 24.906273520944357, 32.89989345860371, 33.80243036973071, 18.086462005878893, 27.664525018131613, 18.58618463009013, 24.590564110579223, 20.574006989947943, 17.5682268283098, 16.702736389524638, 15.753022979306136, 17.57656046056771, 14.089985784638309, 19.162201361444282, 13.069795500706846, 16.4133585279597, 13.397613492649064, 13.05250564322514, 9.532765829695343, 14.457921334366667, 13.572424309691494, 12.207399534712962, 12.02986689059539, 11.598139875772485, 11.614820240329017], \"Total\": [351.0, 532.0, 325.0, 724.0, 782.0, 215.0, 94.0, 703.0, 194.0, 809.0, 299.0, 950.0, 247.0, 833.0, 243.0, 81.0, 308.0, 232.0, 99.0, 242.0, 129.0, 39.0, 235.0, 101.0, 156.0, 220.0, 119.0, 72.0, 148.0, 54.0, 76.11174812394992, 52.20208487791867, 57.10748088961178, 29.794025434992328, 71.91422392180517, 24.00916539594488, 23.72397178897223, 57.832290235408735, 41.594247346208554, 30.70710529815307, 20.951590787769305, 20.772255635424173, 27.194822999708816, 46.07732170431387, 37.01275935874838, 22.63428636970983, 27.815400935507448, 15.800426428810221, 22.49537223468235, 16.22373653593178, 24.421765844261856, 26.300532658538312, 34.62199881529766, 41.576289174137166, 14.039821698546652, 89.38786278231098, 19.65891073985765, 12.972921196238978, 25.466548658749478, 12.333831998555803, 40.1690198571722, 54.791889566832914, 220.1469673339549, 39.76933510585384, 50.96673917371308, 172.9300765544405, 36.08482996958554, 375.88056677405467, 50.31631741837118, 724.5597984071004, 52.606282866369924, 42.7481455532129, 703.8468483557128, 343.97916427634055, 214.33157667438493, 581.9085042843844, 809.8507293394082, 315.6236412640451, 159.4452501796877, 275.46382076431485, 331.25682257929293, 365.026284172106, 315.52522301146547, 217.35310816244464, 204.60258726189298, 426.12124821054033, 248.3559950326014, 211.75979349838184, 137.03785594773288, 140.35861029141205, 311.51190751812675, 180.97354029732918, 677.4219492487306, 247.26871270057762, 201.80032373605977, 276.54003656574395, 263.72451595783207, 243.83617784378222, 387.20081169658636, 322.2174107763657, 318.3579973899014, 328.4592525687082, 500.7423243853272, 950.3391567070214, 355.8654548263011, 428.00278163884116, 833.5059590215502, 322.18842279572993, 51.76023395464813, 39.5138522983919, 215.34991202125286, 36.714472061674215, 42.586738748290664, 34.2506568869552, 31.58805247544195, 31.702050215845, 33.54611964343261, 41.713170832451894, 25.03189299618448, 35.80030178460435, 22.736910611033213, 21.356158279321512, 25.888352960795025, 20.16085982820202, 19.8663463342892, 43.98194137479131, 45.41456621434851, 19.64931905605728, 18.882496556195665, 27.85264754085929, 20.778775961917805, 18.166736209733337, 36.97770296036376, 17.978035446331404, 17.14185454131653, 79.38602038456781, 18.431330981597497, 101.39097654555285, 194.10097914040995, 62.999946765758, 119.81184806536017, 99.5096127727591, 56.372611853143404, 532.5661562258828, 148.61187048422707, 39.09724284625903, 28.042946641658883, 105.0502660132772, 54.37819550568679, 299.80528621695476, 95.5713215881117, 782.2161293480691, 198.6784814388649, 100.95700737891978, 69.27696289102823, 172.3544776851591, 164.67601898349872, 85.61447399193557, 173.73277169316873, 344.9224558169199, 833.5059590215502, 111.07746347611949, 950.3391567070214, 234.57602917157192, 215.09434873865806, 196.728029017765, 156.55786827295563, 432.1964344847241, 180.32290663616936, 313.3331866667348, 500.7423243853272, 677.4219492487306, 206.87822699438584, 265.8021203377696, 428.00278163884116, 157.98050383421125, 195.17292017058065, 322.18842279572993, 21.01561470726073, 16.883924551463895, 12.86529597791877, 15.985722637128731, 11.024688646803833, 8.835112262250366, 11.06529188019524, 10.033818455427255, 6.050406636263886, 7.589978071605477, 5.283738325754308, 5.259324964245447, 5.33466625813706, 5.144292468479614, 5.084604390380363, 5.0760589274759, 5.063826587210783, 4.9333790478805035, 4.829128817185021, 4.778293845353914, 7.787102508812565, 4.528486989569678, 4.491573918301787, 4.4000292363409095, 10.602431116267677, 4.361833750384307, 4.956999783068895, 4.282494267288005, 4.415526606895471, 4.19472060379037, 8.106200156002142, 5.893827576942025, 6.958946745257577, 9.317379460691729, 8.832927352187557, 11.04549223372512, 54.88507073014338, 18.972360880459814, 12.864049109806734, 10.108864847273145, 21.911582250246628, 10.888296211851225, 351.34361836262434, 7.888153835143012, 325.60284281551026, 64.21775590973108, 81.31578416781714, 65.81493532632925, 25.32011218955097, 20.120077836661977, 79.97867646909334, 54.007916276153324, 72.88367072681218, 232.02504113194655, 99.23478370238671, 33.59810428377455, 724.5597984071004, 703.8468483557128, 54.50114906168508, 809.8507293394082, 242.25188449286, 66.13893937815294, 328.4592525687082, 247.26871270057762, 243.83617784378222, 950.3391567070214, 308.13100162956323, 101.94823017576876, 833.5059590215502, 123.12240647047368, 313.3331866667348, 113.82398138251176, 322.18842279572993, 261.4843177794226, 782.2161293480691, 500.7423243853272, 581.9085042843844, 39.06222548011564, 21.063999378807846, 18.246135607644938, 15.60513759968653, 15.00199282105766, 11.370374720200667, 10.137193115831122, 8.233319507490501, 7.046873504388542, 11.173030539041864, 6.125589004599384, 5.969264703529541, 5.696372178020586, 5.390787526248159, 5.108737127753087, 10.427994667298975, 4.90788848474932, 4.78132741149178, 4.766114297314067, 4.744255221445595, 4.566865242676007, 4.582427198086912, 94.23184451795667, 4.849680518398348, 5.191924097709683, 4.414921165625694, 4.909178130315306, 4.29537532699191, 4.0657237101484345, 3.967154421538785, 7.705628674447164, 8.776641241094083, 8.051715856244492, 11.94032303891261, 8.738518619587754, 9.859010797427928, 18.20985364634086, 36.85281820148523, 18.635459353686436, 29.41128180017086, 29.2680313313636, 10.784731945030344, 28.248116982583024, 24.020781351888928, 24.035679706598536, 22.813071150430112, 39.710051131641436, 56.21933195879851, 20.253278476786715, 86.03294972778647, 18.32077718115338, 88.38936148892054, 72.88310035786496, 129.91066472081755, 308.13100162956323, 950.3391567070214, 235.6021709148963, 833.5059590215502, 782.2161293480691, 129.0428220089154, 313.3331866667348, 532.5661562258828, 156.55786827295563, 432.1964344847241, 83.35450013404368, 102.43555688582884, 243.83617784378222, 115.60117341845458, 809.8507293394082, 703.8468483557128, 232.02504113194655, 428.00278163884116, 247.26871270057762, 325.60284281551026, 351.34361836262434, 18.906850626408175, 18.69479506471631, 7.938076352936415, 7.167195492832761, 6.907283942980579, 6.801230215834592, 8.710490403565565, 7.025135719700277, 5.920679380235968, 5.620435486463461, 7.101795701153916, 5.096997662025128, 5.096997662025128, 5.149148571094342, 4.902078594528438, 4.87988169490422, 4.801549122068525, 4.828904916933117, 5.304752770586248, 4.547221880370509, 4.538795068161713, 4.546691403940574, 5.4777352815716664, 9.251541544917982, 4.540921847719414, 4.253095925345223, 4.280914851464457, 4.2188950914700385, 4.39068175132587, 6.854613699491372, 6.064450987713252, 6.1923969526752405, 15.803409601629738, 5.919368747378416, 7.275998672480954, 9.12907950459838, 15.911920098830956, 6.478930691637885, 36.05248368160793, 7.501652988409021, 6.190296527901028, 12.528174411251534, 325.60284281551026, 351.34361836262434, 428.00278163884116, 355.8654548263011, 782.2161293480691, 950.3391567070214, 242.25188449286, 833.5059590215502, 276.54003656574395, 724.5597984071004, 500.7423243853272, 331.25682257929293, 328.4592525687082, 281.91408668236505, 426.12124821054033, 196.728029017765, 677.4219492487306, 232.02504113194655, 703.8468483557128, 315.6236412640451, 322.18842279572993, 59.20487535436138, 809.8507293394082, 581.9085042843844, 287.9484500003427, 318.3579973899014, 344.9224558169199, 387.20081169658636], \"Category\": [\"Default\", \"Default\", \"Default\", \"Default\", \"Default\", \"Default\", \"Default\", \"Default\", \"Default\", \"Default\", \"Default\", \"Default\", \"Default\", \"Default\", \"Default\", \"Default\", \"Default\", \"Default\", \"Default\", \"Default\", \"Default\", \"Default\", \"Default\", \"Default\", \"Default\", \"Default\", \"Default\", \"Default\", \"Default\", \"Default\", \"Topic1\", \"Topic1\", \"Topic1\", \"Topic1\", \"Topic1\", \"Topic1\", \"Topic1\", \"Topic1\", \"Topic1\", \"Topic1\", \"Topic1\", \"Topic1\", \"Topic1\", \"Topic1\", \"Topic1\", \"Topic1\", \"Topic1\", \"Topic1\", \"Topic1\", \"Topic1\", \"Topic1\", \"Topic1\", \"Topic1\", \"Topic1\", \"Topic1\", \"Topic1\", \"Topic1\", \"Topic1\", \"Topic1\", \"Topic1\", \"Topic1\", \"Topic1\", \"Topic1\", \"Topic1\", \"Topic1\", \"Topic1\", \"Topic1\", \"Topic1\", \"Topic1\", \"Topic1\", \"Topic1\", \"Topic1\", \"Topic1\", \"Topic1\", \"Topic1\", \"Topic1\", \"Topic1\", \"Topic1\", \"Topic1\", \"Topic1\", \"Topic1\", \"Topic1\", \"Topic1\", \"Topic1\", \"Topic1\", \"Topic1\", \"Topic1\", \"Topic1\", \"Topic1\", \"Topic1\", \"Topic1\", \"Topic1\", \"Topic1\", \"Topic1\", \"Topic1\", \"Topic1\", \"Topic1\", \"Topic1\", \"Topic1\", \"Topic1\", \"Topic1\", \"Topic1\", \"Topic1\", \"Topic1\", \"Topic1\", \"Topic1\", \"Topic1\", \"Topic1\", \"Topic2\", \"Topic2\", \"Topic2\", \"Topic2\", \"Topic2\", \"Topic2\", \"Topic2\", \"Topic2\", \"Topic2\", \"Topic2\", \"Topic2\", \"Topic2\", \"Topic2\", \"Topic2\", \"Topic2\", \"Topic2\", \"Topic2\", \"Topic2\", \"Topic2\", \"Topic2\", \"Topic2\", \"Topic2\", \"Topic2\", \"Topic2\", \"Topic2\", \"Topic2\", \"Topic2\", \"Topic2\", \"Topic2\", \"Topic2\", \"Topic2\", \"Topic2\", \"Topic2\", \"Topic2\", \"Topic2\", \"Topic2\", \"Topic2\", \"Topic2\", \"Topic2\", \"Topic2\", \"Topic2\", \"Topic2\", \"Topic2\", \"Topic2\", \"Topic2\", \"Topic2\", \"Topic2\", \"Topic2\", \"Topic2\", \"Topic2\", \"Topic2\", \"Topic2\", \"Topic2\", \"Topic2\", \"Topic2\", \"Topic2\", \"Topic2\", \"Topic2\", \"Topic2\", \"Topic2\", \"Topic2\", \"Topic2\", \"Topic2\", \"Topic2\", \"Topic2\", \"Topic2\", \"Topic2\", \"Topic2\", \"Topic2\", \"Topic2\", \"Topic3\", \"Topic3\", \"Topic3\", \"Topic3\", \"Topic3\", \"Topic3\", \"Topic3\", \"Topic3\", \"Topic3\", \"Topic3\", \"Topic3\", \"Topic3\", \"Topic3\", \"Topic3\", \"Topic3\", \"Topic3\", \"Topic3\", \"Topic3\", \"Topic3\", \"Topic3\", \"Topic3\", \"Topic3\", \"Topic3\", \"Topic3\", \"Topic3\", \"Topic3\", \"Topic3\", \"Topic3\", \"Topic3\", \"Topic3\", \"Topic3\", \"Topic3\", \"Topic3\", \"Topic3\", \"Topic3\", \"Topic3\", \"Topic3\", \"Topic3\", \"Topic3\", \"Topic3\", \"Topic3\", \"Topic3\", \"Topic3\", \"Topic3\", \"Topic3\", \"Topic3\", \"Topic3\", \"Topic3\", \"Topic3\", \"Topic3\", \"Topic3\", \"Topic3\", \"Topic3\", \"Topic3\", \"Topic3\", \"Topic3\", \"Topic3\", \"Topic3\", \"Topic3\", \"Topic3\", \"Topic3\", \"Topic3\", \"Topic3\", \"Topic3\", \"Topic3\", \"Topic3\", \"Topic3\", \"Topic3\", \"Topic3\", \"Topic3\", \"Topic3\", \"Topic3\", \"Topic3\", \"Topic3\", \"Topic3\", \"Topic3\", \"Topic3\", \"Topic4\", \"Topic4\", \"Topic4\", \"Topic4\", \"Topic4\", \"Topic4\", \"Topic4\", \"Topic4\", \"Topic4\", \"Topic4\", \"Topic4\", \"Topic4\", \"Topic4\", \"Topic4\", \"Topic4\", \"Topic4\", \"Topic4\", \"Topic4\", \"Topic4\", \"Topic4\", \"Topic4\", \"Topic4\", \"Topic4\", \"Topic4\", \"Topic4\", \"Topic4\", \"Topic4\", \"Topic4\", \"Topic4\", \"Topic4\", \"Topic4\", \"Topic4\", \"Topic4\", \"Topic4\", \"Topic4\", \"Topic4\", \"Topic4\", \"Topic4\", \"Topic4\", \"Topic4\", \"Topic4\", \"Topic4\", \"Topic4\", \"Topic4\", \"Topic4\", \"Topic4\", \"Topic4\", \"Topic4\", \"Topic4\", \"Topic4\", \"Topic4\", \"Topic4\", \"Topic4\", \"Topic4\", \"Topic4\", \"Topic4\", \"Topic4\", \"Topic4\", \"Topic4\", \"Topic4\", \"Topic4\", \"Topic4\", \"Topic4\", \"Topic4\", \"Topic4\", \"Topic4\", \"Topic4\", \"Topic4\", \"Topic4\", \"Topic4\", \"Topic4\", \"Topic4\", \"Topic4\", \"Topic4\", \"Topic4\", \"Topic5\", \"Topic5\", \"Topic5\", \"Topic5\", \"Topic5\", \"Topic5\", \"Topic5\", \"Topic5\", \"Topic5\", \"Topic5\", \"Topic5\", \"Topic5\", \"Topic5\", \"Topic5\", \"Topic5\", \"Topic5\", \"Topic5\", \"Topic5\", \"Topic5\", \"Topic5\", \"Topic5\", \"Topic5\", \"Topic5\", \"Topic5\", \"Topic5\", \"Topic5\", \"Topic5\", \"Topic5\", \"Topic5\", \"Topic5\", \"Topic5\", \"Topic5\", \"Topic5\", \"Topic5\", \"Topic5\", \"Topic5\", \"Topic5\", \"Topic5\", \"Topic5\", \"Topic5\", \"Topic5\", \"Topic5\", \"Topic5\", \"Topic5\", \"Topic5\", \"Topic5\", \"Topic5\", \"Topic5\", \"Topic5\", \"Topic5\", \"Topic5\", \"Topic5\", \"Topic5\", \"Topic5\", \"Topic5\", \"Topic5\", \"Topic5\", \"Topic5\", \"Topic5\", \"Topic5\", \"Topic5\", \"Topic5\", \"Topic5\", \"Topic5\", \"Topic5\", \"Topic5\", \"Topic5\", \"Topic5\", \"Topic5\", \"Topic5\"], \"logprob\": [30.0, 29.0, 28.0, 27.0, 26.0, 25.0, 24.0, 23.0, 22.0, 21.0, 20.0, 19.0, 18.0, 17.0, 16.0, 15.0, 14.0, 13.0, 12.0, 11.0, 10.0, 9.0, 8.0, 7.0, 6.0, 5.0, 4.0, 3.0, 2.0, 1.0, -6.729, -7.1067, -7.024, -7.6758, -6.8, -7.8971, -7.9093, -7.0184, -7.3494, -7.6568, -8.0392, -8.0484, -7.7795, -7.2527, -7.4741, -7.9661, -7.7602, -8.3303, -7.9774, -8.3044, -7.8973, -7.8232, -7.5493, -7.367, -8.4532, -6.6053, -8.1205, -8.5363, -7.8642, -8.5894, -7.4087, -7.1046, -5.7411, -7.4238, -7.1811, -5.9958, -7.5232, -5.2712, -7.204, -4.6647, -7.1619, -7.3608, -4.7131, -5.3891, -5.8385, -4.9049, -4.6015, -5.4919, -6.1442, -5.643, -5.4771, -5.3947, -5.5305, -5.8743, -5.9372, -5.2779, -5.7711, -5.9232, -6.3095, -6.2897, -5.6046, -6.0749, -4.9517, -5.8149, -5.9848, -5.7282, -5.7872, -5.8656, -5.52, -5.6629, -5.6731, -5.7011, -5.4743, -5.126, -5.6673, -5.6013, -5.3379, -5.8451, -6.7748, -7.045, -5.3499, -7.1196, -6.9719, -7.1903, -7.2729, -7.2699, -7.2134, -6.9984, -7.5112, -7.1544, -7.6099, -7.6743, -7.4822, -7.734, -7.749, -6.9561, -6.9243, -7.7622, -7.8021, -7.4143, -7.7075, -7.8419, -7.1321, -7.8533, -7.9025, -6.3698, -7.8308, -6.1262, -5.4952, -6.6265, -6.0197, -6.204, -6.7552, -4.6234, -5.8541, -7.1109, -7.4264, -6.2247, -6.8257, -5.2909, -6.3189, -4.46, -5.6854, -6.2913, -6.6181, -5.8556, -5.9067, -6.4464, -5.8845, -5.3388, -4.6846, -6.2684, -4.6502, -5.7294, -5.8067, -5.8769, -6.0889, -5.414, -6.0145, -5.6789, -5.5233, -5.4285, -6.0122, -5.9866, -5.875, -6.1824, -6.1326, -6.1472, -6.5107, -6.7434, -7.0157, -6.8055, -7.1789, -7.4221, -7.2045, -7.3048, -7.8318, -7.6088, -7.9848, -7.9911, -7.9808, -8.0176, -8.0303, -8.032, -8.0353, -8.0668, -8.0882, -8.1002, -7.6146, -8.1626, -8.1724, -8.1971, -7.3179, -8.2068, -8.0814, -8.2293, -8.1989, -8.2537, -7.6072, -7.9205, -7.7635, -7.4887, -7.5425, -7.3761, -5.9659, -6.9058, -7.2522, -7.4705, -6.8468, -7.4253, -4.6994, -7.6856, -4.7876, -6.0829, -5.9914, -6.1477, -6.8614, -7.0808, -6.26, -6.4998, -6.3308, -5.8006, -6.2763, -6.8668, -5.3585, -5.4399, -6.6566, -5.4535, -6.0041, -6.6117, -5.9996, -6.1136, -6.1825, -5.7553, -6.1282, -6.5687, -6.127, -6.5386, -6.3989, -6.5817, -6.4836, -6.5322, -6.4683, -6.5084, -6.5168, -5.8653, -6.4967, -6.6456, -6.808, -6.8492, -7.1422, -7.2629, -7.487, -7.6569, -7.2099, -7.8135, -7.8438, -7.8942, -7.9563, -8.0176, -7.3087, -8.0675, -8.0945, -8.0981, -8.1032, -8.1474, -8.1443, -5.1258, -8.0929, -8.0254, -8.1888, -8.084, -8.2201, -8.2854, -8.3134, -7.6514, -7.5257, -7.623, -7.2493, -7.5513, -7.4446, -6.9487, -6.3546, -6.961, -6.5837, -6.5921, -7.473, -6.7542, -6.8783, -6.8858, -6.9364, -6.5511, -6.3211, -7.0239, -6.1126, -7.1345, -6.2115, -6.3323, -6.0531, -5.7101, -5.2088, -5.9134, -5.3795, -5.4669, -6.2618, -5.9115, -5.705, -6.219, -5.9178, -6.5063, -6.4596, -6.299, -6.4982, -6.1518, -6.2157, -6.3937, -6.4064, -6.4784, -6.4915, -6.5252, -6.4705, -6.4834, -7.3761, -7.488, -7.5282, -7.5455, -7.3, -7.5176, -7.7013, -7.7598, -7.5374, -7.8697, -7.8697, -7.8598, -7.915, -7.9207, -7.9385, -7.9334, -7.8453, -8.0018, -8.0045, -8.003, -7.8177, -7.2954, -8.0088, -8.0804, -8.0746, -8.0918, -8.0524, -7.6072, -7.7478, -7.7329, -6.9507, -7.7974, -7.6275, -7.4509, -7.0133, -7.7375, -6.7909, -7.6883, -7.7953, -7.4325, -5.7866, -5.7999, -5.9445, -6.1461, -5.8678, -5.8407, -6.4661, -6.0411, -6.4388, -6.1589, -6.3372, -6.4951, -6.5456, -6.6042, -6.4947, -6.7158, -6.4083, -6.7909, -6.5631, -6.7661, -6.7922, -7.1065, -6.69, -6.7532, -6.8592, -6.8738, -6.9104, -6.9089], \"loglift\": [30.0, 29.0, 28.0, 27.0, 26.0, 25.0, 24.0, 23.0, 22.0, 21.0, 20.0, 19.0, 18.0, 17.0, 16.0, 15.0, 14.0, 13.0, 12.0, 11.0, 10.0, 9.0, 8.0, 7.0, 6.0, 5.0, 4.0, 3.0, 2.0, 1.0, 0.8314, 0.8308, 0.8237, 0.8225, 0.8171, 0.8171, 0.8168, 0.8166, 0.8153, 0.8113, 0.8112, 0.8106, 0.8101, 0.8095, 0.8072, 0.8071, 0.8069, 0.8023, 0.8019, 0.8017, 0.7998, 0.7998, 0.7988, 0.7981, 0.7975, 0.7943, 0.7935, 0.7935, 0.7911, 0.7909, 0.7908, 0.7844, 0.7572, 0.7857, 0.7804, 0.7439, 0.7835, 0.6921, 0.7703, 0.6423, 0.7679, 0.7765, 0.623, 0.6629, 0.6865, 0.6214, 0.5943, 0.6462, 0.6767, 0.6312, 0.6126, 0.598, 0.6078, 0.6368, 0.6343, 0.56, 0.6066, 0.6139, 0.6628, 0.6587, 0.5466, 0.6194, 0.4226, 0.5673, 0.6005, 0.542, 0.5305, 0.5305, 0.4137, 0.4545, 0.4564, 0.3971, 0.2022, -0.0902, 0.3508, 0.2322, -0.1709, 0.2724, 1.1712, 1.171, 1.1705, 1.1699, 1.1692, 1.1686, 1.167, 1.1664, 1.1663, 1.1634, 1.1613, 1.1602, 1.1587, 1.157, 1.1566, 1.1549, 1.1546, 1.1527, 1.1525, 1.1523, 1.1523, 1.1514, 1.1512, 1.1511, 1.1502, 1.1502, 1.1486, 1.1484, 1.1478, 1.1474, 1.129, 1.123, 1.087, 1.0883, 1.1054, 0.9915, 1.0372, 1.1157, 1.1324, 1.0135, 1.0709, 0.8986, 1.0139, 0.7704, 0.9155, 0.9867, 1.0364, 0.8874, 0.8819, 0.9964, 0.8506, 0.7105, 0.4824, 0.914, 0.3856, 0.7055, 0.7148, 0.7339, 0.7503, 0.4097, 0.6834, 0.4665, 0.1532, -0.0541, 0.5483, 0.3233, -0.0415, 0.6478, 0.4861, -0.0298, 2.3366, 2.3228, 2.3224, 2.3154, 2.3136, 2.2918, 2.2843, 2.2819, 2.2607, 2.2569, 2.2432, 2.2416, 2.2376, 2.2372, 2.2361, 2.2361, 2.2352, 2.2298, 2.2298, 2.2284, 2.2255, 2.2197, 2.218, 2.2139, 2.2137, 2.2129, 2.2104, 2.2088, 2.2086, 2.2051, 2.1928, 2.1983, 2.1891, 2.172, 2.1716, 2.1145, 1.9215, 2.0438, 2.086, 2.1087, 1.9588, 2.0796, 1.3315, 2.1417, 1.3194, 1.6474, 1.5029, 1.5581, 1.7996, 1.8101, 1.2509, 1.4036, 1.273, 0.6452, 1.0188, 1.5113, -0.0515, -0.1039, 1.2378, -0.2578, 0.3985, 1.0891, 0.0986, 0.2685, 0.2136, -0.7195, 0.0339, 0.6994, -0.9601, 0.5408, -0.2536, 0.5763, -0.3661, -0.2059, -1.2378, -0.8319, -0.9905, 2.3622, 2.3483, 2.3431, 2.337, 2.3352, 2.3194, 2.3136, 2.2974, 2.2831, 2.2692, 2.2667, 2.2621, 2.2586, 2.2516, 2.244, 2.2395, 2.2343, 2.2334, 2.233, 2.2325, 2.2264, 2.2261, 2.2211, 2.2208, 2.2201, 2.2188, 2.2175, 2.215, 2.2046, 2.2011, 2.1993, 2.1948, 2.1837, 2.1634, 2.1736, 2.1596, 2.0419, 1.9311, 2.0066, 1.9275, 1.924, 2.0414, 1.7974, 1.8354, 1.8273, 1.8289, 1.6599, 1.5422, 1.8604, 1.3253, 1.85, 1.1993, 1.2714, 0.9727, 0.452, -0.173, 0.517, -0.2125, -0.2365, 0.7706, 0.2338, -0.09, 0.6202, -0.0941, 0.9632, 0.8037, 0.0971, 0.6443, -0.956, -0.8796, 0.0521, -0.573, -0.0963, -0.3845, -0.4943, 2.4826, 2.4809, 2.4449, 2.4351, 2.4318, 2.43, 2.4281, 2.4255, 2.4129, 2.4064, 2.3948, 2.3943, 2.3943, 2.394, 2.3879, 2.3868, 2.3852, 2.3846, 2.3787, 2.3763, 2.3754, 2.3752, 2.3742, 2.3725, 2.3707, 2.3646, 2.3639, 2.3612, 2.3607, 2.3605, 2.3424, 2.3364, 2.1817, 2.317, 2.2805, 2.2303, 2.1122, 2.2866, 1.5168, 2.1892, 2.2744, 1.9321, 0.3203, 0.2309, -0.111, -0.128, -0.6373, -0.8049, -0.0634, -0.8741, -0.1685, -0.8518, -0.6607, -0.4054, -0.4474, -0.3532, -0.6568, -0.105, -1.034, -0.3451, -1.2271, -0.6281, -0.6748, 0.7051, -1.4942, -1.2269, -0.6293, -0.7444, -0.8611, -0.9753]}, \"token.table\": {\"Topic\": [1, 2, 3, 4, 5, 1, 2, 3, 4, 5, 3, 1, 2, 3, 4, 1, 2, 3, 4, 5, 1, 2, 4, 3, 1, 3, 4, 5, 1, 2, 3, 4, 5, 1, 2, 3, 4, 5, 2, 2, 1, 2, 2, 4, 2, 1, 2, 3, 4, 5, 4, 3, 5, 4, 1, 2, 3, 4, 5, 1, 2, 4, 4, 2, 5, 5, 1, 2, 5, 5, 4, 5, 1, 2, 4, 5, 3, 4, 3, 3, 3, 4, 5, 1, 2, 3, 5, 3, 5, 4, 3, 1, 5, 3, 1, 2, 3, 4, 5, 1, 2, 3, 4, 5, 1, 2, 3, 4, 5, 5, 1, 2, 3, 4, 5, 3, 5, 1, 2, 3, 4, 5, 1, 2, 3, 4, 5, 5, 4, 3, 1, 5, 3, 4, 1, 2, 3, 4, 5, 2, 1, 2, 3, 4, 5, 1, 2, 3, 4, 5, 1, 3, 4, 5, 5, 1, 2, 3, 4, 5, 1, 2, 3, 4, 5, 4, 2, 1, 2, 3, 4, 5, 1, 2, 4, 5, 4, 5, 3, 4, 1, 2, 4, 1, 2, 3, 4, 5, 2, 1, 2, 3, 4, 5, 1, 2, 3, 4, 5, 1, 5, 1, 2, 3, 4, 5, 2, 3, 1, 3, 5, 1, 1, 2, 3, 4, 5, 1, 2, 1, 2, 4, 5, 2, 3, 4, 5, 1, 2, 5, 1, 2, 5, 4, 1, 2, 1, 2, 3, 4, 5, 1, 2, 3, 4, 5, 2, 1, 2, 3, 4, 5, 1, 2, 4, 5, 1, 2, 4, 5, 1, 2, 3, 4, 1, 2, 3, 4, 5, 1, 4, 4, 1, 2, 4, 5, 4, 5, 4, 4, 5, 1, 2, 3, 4, 5, 3, 5, 2, 4, 2, 4, 4, 1, 3, 4, 1, 3, 4, 3, 4, 5, 2, 3, 1, 2, 3, 4, 5, 1, 2, 3, 5, 1, 2, 4, 5, 1, 2, 3, 4, 5, 5, 4, 1, 1, 1, 2, 3, 4, 5, 1, 5, 2, 3, 4, 5, 1, 2, 3, 4, 5, 1, 2, 3, 5, 4, 1, 2, 3, 4, 5, 1, 5, 5, 1, 2, 3, 4, 5, 1, 3, 4, 5, 5, 4, 1, 2, 3, 4, 5, 2, 5, 4, 1, 2, 4, 1, 2, 3, 4, 5, 1, 2, 3, 4, 5, 1, 2, 4, 5, 1, 2, 3, 4, 5, 5, 2, 4, 2, 1, 5, 1, 2, 3, 4, 5, 4, 1, 2, 3, 4, 5, 1, 2, 3, 4, 5, 1, 2, 4, 3, 3, 5, 5, 3, 1, 2, 3, 4, 5, 3, 3, 1, 2, 3, 4, 5, 1, 2, 3, 4, 5, 3, 1, 2, 3, 4, 5, 1, 2, 3, 4, 5, 1, 1, 2, 3, 4, 5, 3, 1, 2, 3, 4, 5, 1, 2, 3, 4, 5, 1, 2, 3, 4, 5, 1, 2, 3, 4, 5, 1, 2, 3, 4, 5, 5, 2, 3, 4, 5, 5, 2, 1, 2, 3, 4, 5, 1, 3, 1, 2, 3, 4, 5, 1, 3, 4, 1, 1, 2, 4, 5, 4, 5, 1, 2, 3, 4, 5, 2, 1, 2, 3, 4, 5, 2, 3, 5, 1, 2, 3, 4, 5, 1, 2, 3, 4, 5, 1, 2, 3, 4, 5, 1, 5, 1, 3, 2, 1, 2, 3, 4, 5, 1, 4, 5, 1, 1, 2, 3, 4, 3, 2, 2, 4, 1, 2, 3, 4, 5, 2, 5, 3, 2, 5, 1, 1, 4, 1, 3, 5, 5, 2, 4, 5, 1, 2, 3, 4, 5, 1, 3, 5, 2, 1, 2, 4, 5, 4, 5, 1, 3, 5, 2, 4, 2, 4, 5, 1, 2, 3, 4, 5, 1, 2, 3, 4, 5, 1, 4, 5, 2, 1, 2, 3, 4, 5, 2, 4, 4, 4, 1, 1, 4, 5, 1, 2, 5, 1, 2, 1, 2, 3, 4, 5, 1, 2, 3, 4, 5, 1, 2, 3, 4, 5, 1, 5, 2, 1, 3, 4, 5, 5, 2, 3, 1, 3, 4, 4, 1, 2, 3, 5, 4, 1, 2, 4, 5, 1, 2, 3, 4, 5, 1, 2, 3, 4, 5, 1, 2, 3, 4, 5, 1, 2, 3, 4, 5, 1, 1, 2, 3, 4, 5, 1, 2, 3, 4, 5, 1, 2, 4, 5, 4, 1, 2, 3, 4, 1, 3, 3, 3, 3, 1, 2, 3, 4, 5, 1, 2, 3, 4, 5, 5, 3, 1, 2, 3, 4, 5, 1, 2, 3, 4, 5, 1, 2, 3, 4, 5, 1, 2, 3, 4, 5, 1, 2, 4, 3, 2, 3, 4, 1, 2, 1, 1, 2, 3, 4, 5, 1, 2, 3, 4, 5, 1, 1, 1, 2, 3, 4, 5, 1, 2, 3, 4, 5, 1, 2, 4, 5, 1, 3, 4, 1, 3, 4, 5, 1, 3, 4, 5, 2, 1, 2, 3, 4, 5, 3, 1, 2, 3, 4, 5, 3, 5, 1, 2, 3, 4, 5, 1, 2, 3, 4, 5, 3, 1, 2, 3, 4, 5, 1], \"Freq\": [0.3924914567263186, 0.44826102028260517, 0.04524700439472305, 0.07786693779556991, 0.0357767011493159, 0.13868670031603775, 0.38832276088490564, 0.027737340063207546, 0.08321202018962263, 0.3605854208216981, 0.828306750850284, 0.24902465952922007, 0.2845996108905372, 0.017787475680658575, 0.4268994163358058, 0.21863869063777103, 0.01821989088648092, 0.6376961810268321, 0.0910994544324046, 0.01821989088648092, 0.0814049005315717, 0.27134966843857233, 0.6512392042525736, 0.8069397165725892, 0.15547204328342676, 0.7773602164171338, 0.07773602164171338, 0.8330644752993354, 0.18217588805693763, 0.7347760818296485, 0.04250770721328545, 0.018217588805693765, 0.018217588805693765, 0.5252202324276035, 0.35547224856316895, 0.03994070208574932, 0.03594663187717439, 0.04193773719003678, 0.9625206045175566, 0.9920211821533027, 0.9531512081682303, 0.028883369944491828, 0.2683057017862513, 0.6975948246442534, 0.9813837058837632, 0.11848288734036619, 0.11848288734036619, 0.5529201409217088, 0.15797718312048825, 0.03949429578012206, 0.8376241041955421, 0.8488619167910451, 0.09431799075456056, 0.9312341054026672, 0.5091110427994286, 0.11313578728876193, 0.04525431491550477, 0.3054666256796572, 0.03394073618662858, 0.29123370278887034, 0.12481444405237299, 0.5824674055777407, 0.9060184428985403, 0.10809009451503958, 0.8647207561203166, 0.9127859859933584, 0.9733495080507059, 0.9563912598868826, 0.8159803893117272, 0.7847757180274493, 0.7562095349029434, 0.8797606093374267, 0.009862810617577206, 0.9566926299049889, 0.019725621235154412, 0.009862810617577206, 0.8832972269133321, 0.9865102609704485, 0.9340351090611263, 0.9054780247876945, 0.8621994419038936, 0.14369990698398227, 0.8821933399682351, 0.9555100657040302, 0.02514500172905343, 0.02514500172905343, 0.02514500172905343, 0.81481203458913, 0.18106934101980668, 0.8777516362593839, 0.9070550942859597, 0.9766192637838799, 0.021702650306308444, 0.9222688041994986, 0.29754384703877407, 0.6229824297374332, 0.013947367829942535, 0.03719298087984676, 0.032543858269865916, 0.7891603644978706, 0.12994206804985017, 0.028523868596308576, 0.03169318732923175, 0.022185231130462224, 0.8012220999919286, 0.1712957593086192, 0.01657700896535025, 0.011051339310233497, 0.005525669655116749, 0.8196920028157589, 0.4610183023184158, 0.24522250123319989, 0.1863691009372319, 0.06866230034529597, 0.03923560019731198, 0.16154314991095825, 0.8077157495547912, 0.22448269039809202, 0.7137398361375233, 0.011511932840927795, 0.04604773136371118, 0.005755966420463898, 0.3874682777515944, 0.3254733533113393, 0.03874682777515944, 0.2014835044308291, 0.04649619333019133, 0.9425509945956315, 0.8150144430602946, 0.8969665975102363, 0.15434645740085828, 0.7717322870042913, 0.8989222874719048, 0.12841746963884354, 0.2975050646079911, 0.5823503392326634, 0.05696905492493446, 0.044309264941615696, 0.018989684974978153, 0.9862225010522974, 0.06384183373751454, 0.8224330346185696, 0.011266205953679036, 0.08449654465259276, 0.018777009922798394, 0.3000001404255324, 0.4851066100497971, 0.07340428967858773, 0.1180851616568585, 0.025531926844726164, 0.6448632393416185, 0.32929186689784773, 0.01372049445407699, 0.8808784062224985, 0.9110202530147182, 0.3623249440886023, 0.4942976058427289, 0.03599254411476181, 0.07438459117050775, 0.0335930411737777, 0.3197257633905297, 0.6181364758883574, 0.017052040714161585, 0.02131505089270198, 0.02131505089270198, 0.8758743224173074, 0.9926816911050058, 0.2014603298665991, 0.07554762369997466, 0.1762777886332742, 0.4784682834331728, 0.05036508246664977, 0.1635237518520376, 0.8292990272496193, 0.011680267989431259, 0.011680267989431259, 0.895012321416025, 0.9343797152684877, 0.8635365356500518, 0.1233623622357217, 0.03547822132510395, 0.9224337544527027, 0.017739110662551974, 0.7318242647978147, 0.15167342275602377, 0.03412652012010535, 0.05687753353350891, 0.02654284898230416, 0.9829029820025798, 0.793351737006127, 0.12278062596523395, 0.018889327071574452, 0.01416699530368084, 0.05194564944682975, 0.20346539172046893, 0.7504871006082869, 0.00333549822492572, 0.00667099644985144, 0.03669048047418292, 0.9769725836646803, 0.8812911664725295, 0.585734112490587, 0.10738458728994095, 0.08786011687358805, 0.20500693937170547, 0.009762235208176451, 0.9656852267836299, 0.9372657553550633, 0.9733818455179802, 0.013905454935971145, 0.013905454935971145, 0.9706852711777181, 0.8095436975398574, 0.07623505671900002, 0.04719313034985716, 0.05445361194214288, 0.014520963184571434, 0.9509120965002053, 0.033561603405889595, 0.18905725196465964, 0.7562290078586386, 0.01800545256806282, 0.027008178852094233, 0.1581247594277941, 0.7379155439963725, 0.052708253142598034, 0.052708253142598034, 0.02519335256146419, 0.9573473973356392, 0.012596676280732095, 0.08039424309959743, 0.9044352348704711, 0.010049280387449679, 0.9332093520501352, 0.0270433239477286, 0.9735596621182296, 0.737687036327203, 0.1374122910805574, 0.03616112923172564, 0.01808056461586282, 0.0687061455402787, 0.7829521631821195, 0.1585725900115685, 0.019821573751446064, 0.029732360627169094, 0.009910786875723032, 0.9765979471570364, 0.2040033494890095, 0.0680011164963365, 0.03400055824816825, 0.6460106067151967, 0.03400055824816825, 0.058424939711983544, 0.9014133555563175, 0.033385679835419166, 0.008346419958854791, 0.14812416683246857, 0.2468736113874476, 0.5924966673298743, 0.04937472227748952, 0.37190553539579047, 0.35990858264108755, 0.023993905509405836, 0.23993905509405836, 0.5095587001572877, 0.20206638109685543, 0.1669244017756632, 0.03514197932119225, 0.08785494830298063, 0.09589571455534861, 0.8630614309981375, 0.9275082676982936, 0.01587302928553464, 0.9365087278465437, 0.03174605857106928, 0.01587302928553464, 0.7786515874943152, 0.12977526458238586, 0.7378760127038917, 0.2190801382540908, 0.7667804838893179, 0.65542606124942, 0.2893322252362305, 0.01476184822633829, 0.01180947858107063, 0.028047511630042748, 0.8586105174475822, 0.10732631468094778, 0.41630619143925673, 0.5828286680149594, 0.11443587220360878, 0.8010511054252614, 0.8878197245690049, 0.9616714462233471, 0.02404178615558368, 0.9494873048715374, 0.9490455688076338, 0.036501752646447456, 0.018250876323223728, 0.13330395334803186, 0.13330395334803186, 0.6665197667401593, 0.11321275044250655, 0.7924892530975458, 0.10093406368633269, 0.8613040101233723, 0.006728937579088846, 0.020186812737266538, 0.013457875158177693, 0.7154749307756325, 0.010077111701065247, 0.26200490422769646, 0.020154223402130494, 0.9460026690996065, 0.024894807081568594, 0.024894807081568594, 0.8896107805244364, 0.5851211319260243, 0.25240519416416735, 0.07648642247399011, 0.04971617460809357, 0.038243211236995055, 0.8283451566779737, 0.8392580938006861, 0.9579674936924161, 0.9417828402201345, 0.8013106847286237, 0.05256825413999836, 0.0838250538989163, 0.03836061788594475, 0.02273221800648578, 0.96282273581752, 0.9404913668095367, 0.23946026783484947, 0.07982008927828316, 0.07982008927828316, 0.5587406249479822, 0.4411635558441348, 0.05123189680770598, 0.35293084467530783, 0.05692432978633997, 0.09961757712609495, 0.9340906173479153, 0.019874268454210964, 0.019874268454210964, 0.019874268454210964, 0.8728998469784602, 0.5648868398831, 0.29485851532359614, 0.0651792507557423, 0.03414151230062692, 0.04034905999165, 0.9806070785760533, 0.017510840688858095, 0.9184327895849892, 0.6784814635438831, 0.21045489841407483, 0.0345522967545496, 0.03769341464132683, 0.03769341464132683, 0.12569193331651654, 0.06284596665825827, 0.12569193331651654, 0.6284596665825828, 0.9628348391993002, 0.8162480369227779, 0.8318869206730755, 0.10945880535172045, 0.02189176107034409, 0.007297253690114696, 0.029189014760458785, 0.9587768693186021, 0.8686482341727689, 0.9674263400006812, 0.041215660196195665, 0.942808226987976, 0.015455872573573375, 0.2389085085367057, 0.6353949695125152, 0.015249479268300364, 0.04066527804880097, 0.0711642365854017, 0.2996932103525932, 0.526879998845688, 0.043503853115699015, 0.08217394477409813, 0.0483376145729989, 0.12375028158764437, 0.8376942138240542, 0.019038504859637595, 0.019038504859637595, 0.1646472219359293, 0.45277986032380557, 0.013720601827994108, 0.3292944438718586, 0.04116180548398232, 0.9481155405090278, 0.9688521473997568, 0.02201936698635811, 0.9532637777229673, 0.9417906811028, 0.03924127837928333, 0.2592212580173467, 0.2962528663055391, 0.37031608288192386, 0.018515804144096194, 0.03703160828819239, 0.9612218991456579, 0.13607717457551013, 0.4687102679823127, 0.27215434915102027, 0.030239372127891143, 0.07559843031972786, 0.7939459116711346, 0.0996205896773667, 0.0332068632257889, 0.018112834486793943, 0.05433850346038183, 0.16474596986136836, 0.10983064657424557, 0.7138992027325962, 0.9462997014119163, 0.905894212879033, 0.9520358707895259, 0.8818257331841604, 0.9535796010789326, 0.8335790711883297, 0.0854952893526492, 0.0356230372302705, 0.028498429784216402, 0.014249214892108201, 0.9170454971255089, 0.9383373113931507, 0.7415446871370662, 0.1284060064306608, 0.06099285305456389, 0.03852180192919825, 0.0321015016076652, 0.8466856168362558, 0.0752609437187783, 0.03763047185938915, 0.025086981239592764, 0.018815235929694574, 0.7899164655642855, 0.8143430820769046, 0.10581859258626446, 0.027604850239895073, 0.013802425119947536, 0.041407275359842614, 0.6172093138291711, 0.2766800372337664, 0.028377439716283728, 0.017735899822677332, 0.056754879432567455, 0.9545814541049167, 0.1972678659507065, 0.7426554953438362, 0.017405988172121162, 0.0290099802868686, 0.017405988172121162, 0.8108032975326506, 0.639348711773834, 0.15222588375567478, 0.10351360095385885, 0.05480131815204292, 0.051756800476929425, 0.5876566364306178, 0.025006665380026293, 0.3250866499403418, 0.050013330760052585, 0.025006665380026293, 0.10463389889173531, 0.8370711911338825, 0.010463389889173532, 0.010463389889173532, 0.0313901696675206, 0.19126379326435977, 0.760021915339956, 0.010066515434966304, 0.030199546304898912, 0.005033257717483152, 0.6233181645464165, 0.09494250188455351, 0.14034978539455736, 0.07017489269727868, 0.07430282756182449, 0.8540760263427318, 0.24850798493876627, 0.5467175668652858, 0.14910479096325976, 0.049701596987753255, 0.8753228501330736, 0.9455983136060074, 0.7533067204416865, 0.15019199410675368, 0.03285449871085237, 0.023467499079180266, 0.042241498342524476, 0.9424127439331823, 0.0392671976638826, 0.3910259005294346, 0.4604387822802218, 0.04164772905047232, 0.08329545810094464, 0.0231376272502624, 0.9683171766507893, 0.01729137815447838, 0.7704272875954644, 0.9853932125939426, 0.004643605333357694, 0.9844443306718311, 0.009287210666715388, 0.004643605333357694, 0.8374982793523054, 0.16749965587046106, 0.5420525518821676, 0.29205417666065064, 0.04205580143913369, 0.05140153509227451, 0.07009300239855616, 0.9833229237832364, 0.28282596455091946, 0.6044711791382397, 0.027728035740286223, 0.049910464332515204, 0.03327364288834347, 0.9675896772591601, 0.9327418522353538, 0.8796579769435131, 0.2609282129423628, 0.6204293063296181, 0.02899202366026253, 0.05508484495449881, 0.03479042839231504, 0.8343528614699304, 0.12791472440653986, 0.011628611309685441, 0.014535764137106801, 0.011628611309685441, 0.7299983192569509, 0.041011141531289375, 0.11483119628761025, 0.10252785382822345, 0.008202228306257876, 0.16489538822657285, 0.8244769411328643, 0.9726375613087327, 0.027017710036353684, 0.990821895149003, 0.8008131803694369, 0.11341989249867561, 0.034369664393538064, 0.02749573151483045, 0.024058765075476645, 0.9259376849027726, 0.8693799091992502, 0.12419712988560717, 0.9694835335578692, 0.935713104799084, 0.0233928276199771, 0.0233928276199771, 0.0233928276199771, 0.786688539145279, 0.983720333402569, 0.9778547377515001, 0.9716615506931036, 0.19943337160538582, 0.6583858101075237, 0.026846800023801937, 0.07286988577889097, 0.042187828608831614, 0.13743817790706417, 0.824629067442385, 0.8483451432412311, 0.9628089496091132, 0.03565959072626346, 0.956064321517312, 0.11393880329957995, 0.7975716230970596, 0.12677237550120243, 0.7606342530072147, 0.12677237550120243, 0.8444976798930676, 0.9805397702444415, 0.16893693275028396, 0.8446846637514198, 0.14691053380913402, 0.6451288658575016, 0.01916224354032183, 0.17246019186289646, 0.01277482902688122, 0.9422241986080366, 0.027712476429648136, 0.027712476429648136, 0.9669546280863552, 0.14857809665158575, 0.8221321348054412, 0.0198104128868781, 0.00990520644343905, 0.7829723667460007, 0.7847757180274493, 0.0989230754499353, 0.7913846035994824, 0.0989230754499353, 0.9207810418131471, 0.051154502322952614, 0.10143005424650568, 0.8114404339720455, 0.10143005424650568, 0.3571630083247027, 0.08929075208117568, 0.41669017637881983, 0.08929075208117568, 0.05952716805411712, 0.3992594133266191, 0.07985188266532382, 0.34704856696852276, 0.06449575138353078, 0.11056414522890991, 0.1898324523393118, 0.06327748411310394, 0.6960523252441433, 0.9869956415661144, 0.5521821701065269, 0.3056102576690212, 0.06251118906866343, 0.03472843837147968, 0.04167412604577562, 0.13795760941008367, 0.8489699040620533, 0.9728068366033993, 0.8514414223929823, 0.986209309092498, 0.9664828459431511, 0.7417894149595844, 0.1854473537398961, 0.07355889548746954, 0.8827067458496344, 0.03677944774373477, 0.9769724737866332, 0.9776453899908599, 0.9175688516007281, 0.022712100287146736, 0.049966620631722816, 0.009084840114858694, 0.009084840114858694, 0.8205975920014345, 0.09504991413144029, 0.019009982826288057, 0.022178313297336067, 0.041188296123624124, 0.6097810199248429, 0.23604426577735854, 0.04215076174595688, 0.03934071096289309, 0.0702512695765948, 0.9314476775420424, 0.057027408829104634, 0.9333879226098699, 0.37372841296005516, 0.4827325334067379, 0.03114403441333793, 0.10900412044668276, 0.7768274589035378, 0.9853123933845771, 0.7775607674931033, 0.2738277834743069, 0.6389314947733827, 0.045637963912384484, 0.8365877622992555, 0.9020987158985574, 0.04626147261018243, 0.03469610445763682, 0.011565368152545608, 0.8247965994512639, 0.4772510411923464, 0.2617183129119319, 0.24632311803475943, 0.007697597438586232, 0.7891897273277872, 0.1328737806215152, 0.02818534740456383, 0.024158869203911856, 0.03221182560521581, 0.6765618266087503, 0.24207258016276387, 0.009310483852413995, 0.043448924644598645, 0.027931451557241985, 0.811328938805249, 0.09286295082710683, 0.06353780846065203, 0.014662571183227393, 0.019550094910969856, 0.7791559322477909, 0.09631404550765087, 0.071618136403125, 0.0358090682015625, 0.017287136373168102, 0.9719767453963709, 0.8170478148269821, 0.03864415340397888, 0.08832949349480887, 0.022082373373702217, 0.03450370839640971, 0.5191832172920053, 0.4213660893964101, 0.011286591680260985, 0.02257318336052197, 0.026335380587275633, 0.0866088776068016, 0.8660887760680159, 0.014434812934466933, 0.028869625868933865, 0.8148003380238086, 0.022736604359469226, 0.9549373830977075, 0.8905564224828241, 0.8431249613045022, 0.9779789269759845, 0.9476469733817156, 0.9037267257177455, 0.8263907371170494, 0.8371188816462861, 0.6055301856375896, 0.17300862446788276, 0.017300862446788277, 0.17300862446788276, 0.025951293670182417, 0.8538172622040464, 0.06998502149213495, 0.02799400859685398, 0.018662672397902653, 0.032659676696329645, 0.976672117706297, 0.9506923481609484, 0.6508250819408643, 0.23502016847864546, 0.043904866638867834, 0.03873958821076574, 0.030991670568612587, 0.44169123713919295, 0.13948144330711357, 0.02324690721785226, 0.3487036082677839, 0.04649381443570452, 0.7562622782221617, 0.028309283142006054, 0.12132549918002594, 0.08492784942601815, 0.008088366612001728, 0.55044711013424, 0.055044711013424, 0.3119200290760693, 0.018348237004474667, 0.055044711013424, 0.10250091528312676, 0.27333577408833803, 0.6491724634598028, 0.78801291654607, 0.0918417335957083, 0.7347338687656664, 0.1836834671914166, 0.962086823873697, 0.024052170596842424, 0.9250036918037364, 0.13150355689586488, 0.21917259482644147, 0.0438345189652883, 0.5698487465487478, 0.8448567450377523, 0.5942220288393288, 0.22495548234631735, 0.008488886126276126, 0.15704439333610834, 0.016977772252552252, 0.949341466673916, 0.9729336350134417, 0.48031518807681156, 0.262875204285282, 0.09736118677232668, 0.14604178015849, 0.016226864462054444, 0.5171855564148318, 0.15515566692444951, 0.17670506510840084, 0.09912723164617608, 0.05602843527827344, 0.24780412812351346, 0.14160235892772197, 0.5664094357108879, 0.03540058973193049, 0.2183313491806891, 0.10916567459034456, 0.600411210246895, 0.5411003589314725, 0.4181230046288651, 0.024595470860521475, 0.012297735430260737, 0.8040778509616076, 0.16243996989123385, 0.008121998494561692, 0.024365995483685076, 0.9693871995612455, 0.35470051873782077, 0.37159101963009794, 0.01689050089227718, 0.10134300535366307, 0.1689050089227718, 0.9090848685647425, 0.471017708158386, 0.015194119618012453, 0.4406294689223611, 0.015194119618012453, 0.06077647847204981, 0.16148835542075188, 0.8074417771037593, 0.7807656937537834, 0.13971596625067703, 0.038353402500185846, 0.024655758750119473, 0.01643717250007965, 0.8593155075084218, 0.07981258583669552, 0.023943775751008655, 0.026604195278898506, 0.013302097639449253, 0.9516733285508016, 0.37402729813233404, 0.49699517697036166, 0.030741969709506906, 0.08710224751026957, 0.015370984854753453, 0.9505510905264459], \"Term\": [\"19\", \"19\", \"19\", \"19\", \"19\", \"99\", \"99\", \"99\", \"99\", \"99\", \"abc\", \"advantage\", \"advantage\", \"advantage\", \"advantage\", \"alcohol\", \"alcohol\", \"alcohol\", \"alcohol\", \"alcohol\", \"alert\", \"alert\", \"alert\", \"allege\", \"allegedly\", \"allegedly\", \"allegedly\", \"alto\", \"amid\", \"amid\", \"amid\", \"amid\", \"amid\", \"amp\", \"amp\", \"amp\", \"amp\", \"amp\", \"analysis\", \"analyst\", \"apart\", \"apart\", \"arab\", \"arab\", \"arabia\", \"arrest\", \"arrest\", \"arrest\", \"arrest\", \"arrest\", \"arrow\", \"aside\", \"aside\", \"assignment\", \"avoid\", \"avoid\", \"avoid\", \"avoid\", \"avoid\", \"aware\", \"aware\", \"aware\", \"b2b\", \"bangladesh\", \"bangladesh\", \"barbara\", \"bare\", \"barrel\", \"barrie\", \"baton\", \"bbb\", \"bcg\", \"behavior\", \"behavior\", \"behavior\", \"behavior\", \"bent\", \"beware\", \"bible\", \"bidet\", \"bike\", \"bike\", \"birx\", \"bit\", \"bit\", \"bit\", \"bit\", \"bog\", \"bog\", \"bogus\", \"brad\", \"bread\", \"bread\", \"breathe\", \"business\", \"business\", \"business\", \"business\", \"business\", \"buy\", \"buy\", \"buy\", \"buy\", \"buy\", \"buying\", \"buying\", \"buying\", \"buying\", \"buying\", \"cairo\", \"california\", \"california\", \"california\", \"california\", \"california\", \"calpol\", \"calpol\", \"change\", \"change\", \"change\", \"change\", \"change\", \"check\", \"check\", \"check\", \"check\", \"check\", \"christ\", \"circulate\", \"classify\", \"clearwater\", \"clearwater\", \"clorox\", \"clorox\", \"company\", \"company\", \"company\", \"company\", \"company\", \"confidence\", \"consumer\", \"consumer\", \"consumer\", \"consumer\", \"consumer\", \"coronavirus\", \"coronavirus\", \"coronavirus\", \"coronavirus\", \"coronavirus\", \"cough\", \"cough\", \"cough\", \"countdown\", \"cousin\", \"covid\", \"covid\", \"covid\", \"covid\", \"covid\", \"crisis\", \"crisis\", \"crisis\", \"crisis\", \"crisis\", \"crook\", \"crude\", \"cure\", \"cure\", \"cure\", \"cure\", \"cure\", \"cut\", \"cut\", \"cut\", \"cut\", \"d19\", \"dang\", \"danish\", \"danish\", \"datum\", \"datum\", \"datum\", \"day\", \"day\", \"day\", \"day\", \"day\", \"decline\", \"delivery\", \"delivery\", \"delivery\", \"delivery\", \"delivery\", \"demand\", \"demand\", \"demand\", \"demand\", \"demand\", \"deserve\", \"dettol\", \"die\", \"die\", \"die\", \"die\", \"die\", \"disruption\", \"disturb\", \"doctor\", \"doctor\", \"doctor\", \"dog\", \"don\", \"don\", \"don\", \"don\", \"don\", \"driver\", \"driver\", \"drop\", \"drop\", \"drop\", \"drop\", \"ebay\", \"ebay\", \"ebay\", \"ebay\", \"economic\", \"economic\", \"economic\", \"economy\", \"economy\", \"economy\", \"emirate\", \"energy\", \"energy\", \"england\", \"england\", \"england\", \"england\", \"england\", \"essential\", \"essential\", \"essential\", \"essential\", \"essential\", \"expectation\", \"fake\", \"fake\", \"fake\", \"fake\", \"fake\", \"fall\", \"fall\", \"fall\", \"fall\", \"fda\", \"fda\", \"fda\", \"fda\", \"fear\", \"fear\", \"fear\", \"fear\", \"fight\", \"fight\", \"fight\", \"fight\", \"fight\", \"fiji\", \"fiji\", \"fijian\", \"financial\", \"financial\", \"financial\", \"financial\", \"finding\", \"finding\", \"floridian\", \"fmcg\", \"fmcg\", \"food\", \"food\", \"food\", \"food\", \"food\", \"formula\", \"formula\", \"fraud\", \"fraud\", \"fraudster\", \"fraudster\", \"fraudulent\", \"frontline\", \"frontline\", \"ftc\", \"fuck\", \"fuck\", \"fuck\", \"function\", \"function\", \"function\", \"genius\", \"genius\", \"global\", \"global\", \"global\", \"global\", \"global\", \"glove\", \"glove\", \"glove\", \"glove\", \"god\", \"god\", \"god\", \"godrej\", \"good\", \"good\", \"good\", \"good\", \"good\", \"goodness\", \"gouger\", \"grateful\", \"greedy\", \"grocery\", \"grocery\", \"grocery\", \"grocery\", \"grocery\", \"gun\", \"guwahati\", \"hampshire\", \"hampshire\", \"hampshire\", \"hampshire\", \"hand\", \"hand\", \"hand\", \"hand\", \"hand\", \"healthy\", \"healthy\", \"healthy\", \"healthy\", \"heights\", \"help\", \"help\", \"help\", \"help\", \"help\", \"hero\", \"hero\", \"hindustan\", \"home\", \"home\", \"home\", \"home\", \"home\", \"homemade\", \"homemade\", \"homemade\", \"homemade\", \"hong\", \"honolulu\", \"hour\", \"hour\", \"hour\", \"hour\", \"hour\", \"housing\", \"hul\", \"humor\", \"impact\", \"impact\", \"impact\", \"increase\", \"increase\", \"increase\", \"increase\", \"increase\", \"india\", \"india\", \"india\", \"india\", \"india\", \"industry\", \"industry\", \"industry\", \"industry\", \"information\", \"information\", \"information\", \"information\", \"information\", \"insanity\", \"insight\", \"insight\", \"investor\", \"isolate\", \"isolate\", \"italy\", \"italy\", \"italy\", \"italy\", \"italy\", \"joe\", \"join\", \"join\", \"join\", \"join\", \"join\", \"just\", \"just\", \"just\", \"just\", \"just\", \"kampala\", \"kampala\", \"kampala\", \"kimberly\", \"kiss\", \"kong\", \"lancashire\", \"latex\", \"leave\", \"leave\", \"leave\", \"leave\", \"leave\", \"leilani\", \"lick\", \"like\", \"like\", \"like\", \"like\", \"like\", \"line\", \"line\", \"line\", \"line\", \"line\", \"lmao\", \"local\", \"local\", \"local\", \"local\", \"local\", \"london\", \"london\", \"london\", \"london\", \"london\", \"loo\", \"low\", \"low\", \"low\", \"low\", \"low\", \"loyalty\", \"make\", \"make\", \"make\", \"make\", \"make\", \"man\", \"man\", \"man\", \"man\", \"man\", \"march\", \"march\", \"march\", \"march\", \"march\", \"market\", \"market\", \"market\", \"market\", \"market\", \"mask\", \"mask\", \"mask\", \"mask\", \"mask\", \"milano\", \"minnesota\", \"minnesota\", \"minnesota\", \"minnesota\", \"monica\", \"mortgage\", \"need\", \"need\", \"need\", \"need\", \"need\", \"neighbor\", \"neighbor\", \"new\", \"new\", \"new\", \"new\", \"new\", \"nhs\", \"nhs\", \"norwalk\", \"nurse\", \"oil\", \"oil\", \"oil\", \"oil\", \"oman\", \"oman\", \"online\", \"online\", \"online\", \"online\", \"online\", \"opec\", \"outbreak\", \"outbreak\", \"outbreak\", \"outbreak\", \"outbreak\", \"output\", \"paisley\", \"palo\", \"pandemic\", \"pandemic\", \"pandemic\", \"pandemic\", \"pandemic\", \"panic\", \"panic\", \"panic\", \"panic\", \"panic\", \"paper\", \"paper\", \"paper\", \"paper\", \"paper\", \"pasadena\", \"pasadena\", \"pasta\", \"pasta\", \"pattern\", \"people\", \"people\", \"people\", \"people\", \"people\", \"pharmacist\", \"phishe\", \"phishe\", \"pile\", \"plenty\", \"plenty\", \"plenty\", \"plenty\", \"plexiglass\", \"plummet\", \"plunge\", \"prey\", \"price\", \"price\", \"price\", \"price\", \"price\", \"prioritise\", \"prioritise\", \"privilege\", \"property\", \"property\", \"pub\", \"publix\", \"publix\", \"purell\", \"purell\", \"purell\", \"railway\", \"recession\", \"regina\", \"regina\", \"report\", \"report\", \"report\", \"report\", \"report\", \"responder\", \"responder\", \"responder\", \"revenue\", \"rise\", \"rise\", \"rise\", \"rise\", \"robocall\", \"rouge\", \"rub\", \"rub\", \"rub\", \"russia\", \"russia\", \"rwanda\", \"rwanda\", \"rwanda\", \"sanitiser\", \"sanitiser\", \"sanitiser\", \"sanitiser\", \"sanitiser\", \"sanitizer\", \"sanitizer\", \"sanitizer\", \"sanitizer\", \"sanitizer\", \"santa\", \"santa\", \"santa\", \"saudi\", \"say\", \"say\", \"say\", \"say\", \"say\", \"scam\", \"scam\", \"scammer\", \"scammers\", \"scared\", \"scary\", \"scheme\", \"scheme\", \"sector\", \"sector\", \"sector\", \"selfish\", \"sentiment\", \"shelf\", \"shelf\", \"shelf\", \"shelf\", \"shelf\", \"shop\", \"shop\", \"shop\", \"shop\", \"shop\", \"shopping\", \"shopping\", \"shopping\", \"shopping\", \"shopping\", \"slot\", \"slot\", \"slump\", \"soap\", \"soap\", \"soap\", \"soap\", \"soldier\", \"spending\", \"spiral\", \"spray\", \"spray\", \"spray\", \"ssa\", \"staff\", \"staff\", \"staff\", \"staff\", \"starbuck\", \"states\", \"states\", \"states\", \"states\", \"stay\", \"stay\", \"stay\", \"stay\", \"stay\", \"stock\", \"stock\", \"stock\", \"stock\", \"stock\", \"stop\", \"stop\", \"stop\", \"stop\", \"stop\", \"store\", \"store\", \"store\", \"store\", \"store\", \"strip\", \"supermarket\", \"supermarket\", \"supermarket\", \"supermarket\", \"supermarket\", \"supply\", \"supply\", \"supply\", \"supply\", \"supply\", \"surge\", \"surge\", \"surge\", \"surge\", \"surpass\", \"survey\", \"survey\", \"survivalist\", \"suva\", \"teacher\", \"tear\", \"teen\", \"terror\", \"terroristic\", \"test\", \"test\", \"test\", \"test\", \"test\", \"thank\", \"thank\", \"thank\", \"thank\", \"thank\", \"threshold\", \"throat\", \"time\", \"time\", \"time\", \"time\", \"time\", \"tip\", \"tip\", \"tip\", \"tip\", \"tip\", \"toilet\", \"toilet\", \"toilet\", \"toilet\", \"toilet\", \"touch\", \"touch\", \"touch\", \"touch\", \"touch\", \"trader\", \"trader\", \"trader\", \"trent\", \"trick\", \"trick\", \"trick\", \"truck\", \"truck\", \"trucker\", \"uganda\", \"uganda\", \"uganda\", \"uganda\", \"unilever\", \"united\", \"united\", \"united\", \"united\", \"united\", \"unnecessary\", \"unsung\", \"usa\", \"usa\", \"usa\", \"usa\", \"usa\", \"use\", \"use\", \"use\", \"use\", \"use\", \"vaccine\", \"vaccine\", \"vaccine\", \"vaccine\", \"warning\", \"warning\", \"warning\", \"wash\", \"wash\", \"wash\", \"wash\", \"wear\", \"wear\", \"wear\", \"wear\", \"webinar\", \"website\", \"website\", \"website\", \"website\", \"website\", \"williams\", \"wipe\", \"wipe\", \"wipe\", \"wipe\", \"wipe\", \"worcester\", \"worcester\", \"work\", \"work\", \"work\", \"work\", \"work\", \"worker\", \"worker\", \"worker\", \"worker\", \"worker\", \"wuhan\", \"york\", \"york\", \"york\", \"york\", \"york\", \"yorkshire\"]}, \"R\": 30, \"lambda.step\": 0.01, \"plot.opts\": {\"xlab\": \"PC1\", \"ylab\": \"PC2\"}, \"topic.order\": [3, 1, 4, 2, 5]};\n",
       "\n",
       "function LDAvis_load_lib(url, callback){\n",
       "  var s = document.createElement('script');\n",
       "  s.src = url;\n",
       "  s.async = true;\n",
       "  s.onreadystatechange = s.onload = callback;\n",
       "  s.onerror = function(){console.warn(\"failed to load library \" + url);};\n",
       "  document.getElementsByTagName(\"head\")[0].appendChild(s);\n",
       "}\n",
       "\n",
       "if(typeof(LDAvis) !== \"undefined\"){\n",
       "   // already loaded: just create the visualization\n",
       "   !function(LDAvis){\n",
       "       new LDAvis(\"#\" + \"ldavis_el1781623934470615361592871469\", ldavis_el1781623934470615361592871469_data);\n",
       "   }(LDAvis);\n",
       "}else if(typeof define === \"function\" && define.amd){\n",
       "   // require.js is available: use it to load d3/LDAvis\n",
       "   require.config({paths: {d3: \"https://d3js.org/d3.v5\"}});\n",
       "   require([\"d3\"], function(d3){\n",
       "      window.d3 = d3;\n",
       "      LDAvis_load_lib(\"https://cdn.jsdelivr.net/gh/bmabey/pyLDAvis@3.3.1/pyLDAvis/js/ldavis.v3.0.0.js\", function(){\n",
       "        new LDAvis(\"#\" + \"ldavis_el1781623934470615361592871469\", ldavis_el1781623934470615361592871469_data);\n",
       "      });\n",
       "    });\n",
       "}else{\n",
       "    // require.js not available: dynamically load d3 & LDAvis\n",
       "    LDAvis_load_lib(\"https://d3js.org/d3.v5.js\", function(){\n",
       "         LDAvis_load_lib(\"https://cdn.jsdelivr.net/gh/bmabey/pyLDAvis@3.3.1/pyLDAvis/js/ldavis.v3.0.0.js\", function(){\n",
       "                 new LDAvis(\"#\" + \"ldavis_el1781623934470615361592871469\", ldavis_el1781623934470615361592871469_data);\n",
       "            })\n",
       "         });\n",
       "}\n",
       "</script>"
      ],
      "text/plain": [
       "PreparedData(topic_coordinates=              x         y  topics  cluster       Freq\n",
       "topic                                                \n",
       "2     -0.114076 -0.094259       1        1  42.983149\n",
       "0     -0.118667  0.091149       2        1  30.496771\n",
       "3      0.076371 -0.066680       3        1   9.306610\n",
       "1      0.070462  0.054342       4        1   9.258658\n",
       "4      0.085911  0.015448       5        1   7.954812, topic_info=              Term        Freq       Total Category  logprob  loglift\n",
       "13602         hand  351.000000  351.000000  Default  30.0000  30.0000\n",
       "7655      consumer  532.000000  532.000000  Default  29.0000  29.0000\n",
       "25339    sanitizer  325.000000  325.000000  Default  28.0000  28.0000\n",
       "27885  supermarket  724.000000  724.000000  Default  27.0000  27.0000\n",
       "22980        price  782.000000  782.000000  Default  26.0000  26.0000\n",
       "...            ...         ...         ...      ...      ...      ...\n",
       "21990       people   13.572424  581.908504   Topic5  -6.7532  -1.2269\n",
       "25484          say   12.207400  287.948450   Topic5  -6.8592  -0.6293\n",
       "14317         home   12.029867  318.357997   Topic5  -6.8738  -0.7444\n",
       "21577     pandemic   11.598140  344.922456   Topic5  -6.9104  -0.8611\n",
       "28845         time   11.614820  387.200812   Topic5  -6.9089  -0.9753\n",
       "\n",
       "[400 rows x 6 columns], token_table=       Topic      Freq       Term\n",
       "term                             \n",
       "493        1  0.392491         19\n",
       "493        2  0.448261         19\n",
       "493        3  0.045247         19\n",
       "493        4  0.077867         19\n",
       "493        5  0.035777         19\n",
       "...      ...       ...        ...\n",
       "31924      2  0.496995       york\n",
       "31924      3  0.030742       york\n",
       "31924      4  0.087102       york\n",
       "31924      5  0.015371       york\n",
       "31929      1  0.950551  yorkshire\n",
       "\n",
       "[834 rows x 3 columns], R=30, lambda_step=0.01, plot_opts={'xlab': 'PC1', 'ylab': 'PC2'}, topic_order=[3, 1, 4, 2, 5])"
      ]
     },
     "execution_count": 45,
     "metadata": {},
     "output_type": "execute_result"
    }
   ],
   "source": [
    "import pyLDAvis\n",
    "import pyLDAvis.sklearn\n",
    "\n",
    "pyLDAvis.enable_notebook()\n",
    "\n",
    "# visualize the second topic model (which uses LDA and TfidfVectorizer)\n",
    "pyLDAvis.sklearn.prepare(lda_model = lda_tf_idf, dtm = document_word_matrix_tf_idf, vectorizer = tf_idf_vectorizer)"
   ]
  },
  {
   "cell_type": "code",
   "execution_count": 46,
   "id": "ceb79e55-955b-4da9-a61b-c4a54c8a5d4b",
   "metadata": {},
   "outputs": [
    {
     "name": "stdout",
     "output_type": "stream",
     "text": [
      "total time elapsed = 1.76316 hours\n"
     ]
    }
   ],
   "source": [
    "print(\"total\", find_time_elapsed(t0)) # final time"
   ]
  }
 ],
 "metadata": {
  "kernelspec": {
   "display_name": "Python 3 (ipykernel)",
   "language": "python",
   "name": "python3"
  },
  "language_info": {
   "codemirror_mode": {
    "name": "ipython",
    "version": 3
   },
   "file_extension": ".py",
   "mimetype": "text/x-python",
   "name": "python",
   "nbconvert_exporter": "python",
   "pygments_lexer": "ipython3",
   "version": "3.9.12"
  }
 },
 "nbformat": 4,
 "nbformat_minor": 5
}
